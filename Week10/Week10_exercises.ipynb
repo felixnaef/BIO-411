{
 "cells": [
  {
   "cell_type": "markdown",
   "id": "c14ad766",
   "metadata": {},
   "source": [
    "# Exercises Week 10: Simulating stochasticity in gene expression\n",
    "\n",
    "**Course**: [Topics in life sciences engineering](https://moodle.epfl.ch/enrol/index.php?id=17061) (BIO-411)\n",
    "\n",
    "**Professors**:  _Gönczy Pierre_, _Naef Felix_, _McCabe Brian Donal_\n",
    "\n",
    "SSV, MA, 2022-2023\n",
    "\n",
    "$$\\require{mhchem}$$  \n",
    "$$\\require{dcolumn}$$\n",
    "$$\\require{longtable}$$\n",
    "$$\\require{array}$$\n",
    "$$\\require{multirow}$$"
   ]
  },
  {
   "cell_type": "markdown",
   "id": "4537afdb",
   "metadata": {},
   "source": [
    "In today's exercise session, we will simulate the chemical master equation (CME) of two processes using the Gillespie algorithm.  \n",
    "In *Exercise 1*, you will consider a simple birth-death process and study its properties.  \n",
    "In *Exercise 2*, you will simulate a chemical oscillator known as the *Brusselator*."
   ]
  },
  {
   "cell_type": "markdown",
   "id": "33667c85",
   "metadata": {},
   "source": [
    "# Exercise 1: Probabilistic description of the Birth-death process\n",
    "Let's consider a simple birth-death process in which a species $x$ is produced at a rate $s$ and degraded at a rate $k$:  \n",
    "\n",
    "\\begin{equation*}\n",
    "\\frac{dx}{dt} = s - kx \n",
    "\\end{equation*}\n",
    "The four possible events can be described as follow:\n",
    "\\begin{eqnarray*}\n",
    "&&n-1 \\longrightarrow n \\textrm{ with rate } s \\\\\n",
    "&&n \\longrightarrow n+1 \\textrm{ with rate } s \\\\\n",
    "&&n+1 \\longrightarrow n  \\textrm{ with rate } k(n+1) \\\\\n",
    "&&n \\longrightarrow n-1 \\textrm{ with rate } kn\n",
    "\\end{eqnarray*}\n",
    "\n",
    "From those events, we can describe the master equation which gives the probability $P(n,t)$ to have $n$ molecules of the compound at time $t$:  \n",
    "\n",
    "\\begin{equation*}\n",
    "\\frac{dP(n,t)}{dt} = sP(n-1,t) + k(n+1)P(n+1,t) - sP(n,t) - knP(n,t)\n",
    "\\end{equation*}"
   ]
  },
  {
   "cell_type": "markdown",
   "id": "cd889f66",
   "metadata": {},
   "source": [
    "### Question 1\n",
    "You will simulate the birth-death process using the Gillespie algorithm code provided below.\n",
    "1. Study the Gillespie code and describe its main steps. \n",
    "2. Fill the missing parts (annoted with \"FILL HERE\").\n",
    "3. Run the simulation multiple times and describe the results.\n",
    "4. Verify that the steady-state distribution of the molecule $n$ follows a Poisson distribution.\n",
    "5. How are ($s$, $k$) changing this distribution?"
   ]
  },
  {
   "cell_type": "markdown",
   "id": "7d8a763a",
   "metadata": {},
   "source": [
    "### Answer 1\n",
    "1. Write your answers here\n",
    "2. Write your answers here\n",
    "3. Write your answers here\n",
    "4. Write your answers here"
   ]
  },
  {
   "cell_type": "code",
   "execution_count": null,
   "id": "ecca4b99",
   "metadata": {},
   "outputs": [],
   "source": [
    "#import librairies\n",
    "import numpy as np\n",
    "import matplotlib.pyplot as plt\n",
    "from scipy.stats import poisson\n",
    "from scipy.integrate import odeint\n",
    "from scipy.special import gammaln"
   ]
  },
  {
   "cell_type": "markdown",
   "id": "596d70ec",
   "metadata": {},
   "source": [
    "#### One species Gillespie algorithm:"
   ]
  },
  {
   "cell_type": "code",
   "execution_count": null,
   "id": "ecb8bd64",
   "metadata": {},
   "outputs": [],
   "source": [
    "n = [0] # initial condition\n",
    "t = [0]\n",
    "s = 20 # synthesis rate, here in molecules per unit time, not concentration per unit time.\n",
    "k = 1  # degradation rate in hr^-1\n",
    "t_end = 100 # total time in hr (should be choosen according to the half-life time)\n",
    "\n",
    "while t[-1] < t_end:\n",
    "     \n",
    "    current_n = n[-1]\n",
    "    #rates = [,] #FILL HERE\n",
    "    rates_tot = sum(rates)\n",
    "    \n",
    "    #pick the next time interval\n",
    "    dt = np.random.exponential(scale=1/rates_tot) # scale is 1/lambda\n",
    "    t.append(t[-1] + dt)\n",
    "    \n",
    "    rand_uniform = np.random.random()\n",
    "    \n",
    "    #simplified version for just two reactions\n",
    "    #production\n",
    "    if rand_uniform <= (rates[0] / rates_tot):\n",
    "         n.append() # FILL HERE\n",
    "        \n",
    "    #degradation\n",
    "    else:\n",
    "         n.append() # FILL HERE\n",
    "     "
   ]
  },
  {
   "cell_type": "markdown",
   "id": "9b40e5c7",
   "metadata": {},
   "source": [
    "#### Plot the trajectory and histogram"
   ]
  },
  {
   "cell_type": "code",
   "execution_count": null,
   "id": "d5ce3857",
   "metadata": {},
   "outputs": [],
   "source": [
    "plt.plot(t,n)\n",
    "plt.xlabel(\"time [hr]\")\n",
    "plt.ylabel(\"n molecules\")\n",
    "plt.show()   \n",
    "\n",
    "#remove a suitable transient and plot the histogram\n",
    "plt.hist(n[50:],100, label='nb.occurrence')\n",
    "ntot=len(n[50:])\n",
    "\n",
    "# get random numbers from a poisson distribution\n",
    "def Poisson(lam, n):\n",
    "    logp=n*np.log(lam)-lam-gammaln(n+1)\n",
    "    return np.exp(logp)\n",
    "    \n",
    "\n",
    "lam=10 # Change lambda to fit the histogramm\n",
    "nn=np.arange(50)\n",
    "p=Poisson(lam, nn)\n",
    "p=p*ntot\n",
    "plt.plot(nn, p, label='Poisson(lambda)*ntot')\n",
    "plt.xlabel(\"n molecules\")\n",
    "\n",
    "plt.legend()\n",
    "plt.show()"
   ]
  },
  {
   "cell_type": "markdown",
   "id": "4814dc75",
   "metadata": {},
   "source": [
    "# Exercise 2: The Brusselator"
   ]
  },
  {
   "cell_type": "markdown",
   "id": "3323b4a8",
   "metadata": {},
   "source": [
    "The Brusselator (proposed in 1967 in Brussels by R. Lefever I. Prigogine et G. Nicolis) describes a chemical oscillator governed by the following chemical reactions:"
   ]
  },
  {
   "cell_type": "markdown",
   "id": "157c5397",
   "metadata": {},
   "source": [
    "$$\n",
    "\\begin{aligned}\n",
    "&\\begin{array}{cccc}\n",
    "\\hline \\hline \\text { reaction } & \\text { reaction rate} & \\text { dX/dt } & \\text { dY/dt } \\\\\n",
    "\\ce{\\emptyset ->[k_1] X} & v_1=k_1 & +v_1 & 0 \\\\\n",
    "\\ce{X ->[k_2] Y} & v_2=k_2 X & -v_2 & +v_2\\\\\n",
    "\\ce{2X + Y ->[k_3] 3X} & v_3=k_3X^2Y & +v_3 & -v_3 \\\\\n",
    "\\ce{X ->[k_4]\\emptyset} & v_4=k_4X & -v_4 & 0 \\\\\n",
    "\\hline\n",
    "\\end{array}\n",
    "\\end{aligned}\n",
    "$$"
   ]
  },
  {
   "cell_type": "markdown",
   "id": "67b43652",
   "metadata": {},
   "source": [
    "The determinisitic equations for the concentrations $X$ and $Y$ are given by:"
   ]
  },
  {
   "cell_type": "markdown",
   "id": "1b45be7a",
   "metadata": {},
   "source": [
    "\\begin{eqnarray*}\n",
    "&&\\frac{dX}{dt} = k_1 -k_2X + k_3X^2Y -k_4X \\\\\n",
    "&&\\frac{dY}{dt} = k_2X -k_3X^2Y\n",
    "\\end{eqnarray*}"
   ]
  },
  {
   "cell_type": "markdown",
   "id": "aab48a33",
   "metadata": {},
   "source": [
    "For example, the unit of $k_1$ is concentration over time. In the stochastic description of this process, we have to associate to each reaction a transition probability:"
   ]
  },
  {
   "cell_type": "markdown",
   "id": "ac1e92eb",
   "metadata": {},
   "source": [
    "$$\n",
    "\\begin{aligned}\n",
    "&\\begin{array}{ccc}\n",
    "\\hline \\hline \\text { reaction } & \\text {transition rate}\\\\\n",
    "\\ce{n ->[r_1] n +1} & r_1=k_1 \\Omega\\\\\n",
    "\\ce{n ->[r_2] m} & r_2=k_2 n\\\\\n",
    "\\ce{2n + m ->[r_3] 3n} & r_3=k_3n(n-1)m\\Omega^{-2}\\\\\n",
    "\\ce{n ->[r_4]n-1} & r_4=k_4 n\\\\\n",
    "\\hline\n",
    "\\end{array}\n",
    "\\end{aligned}\n",
    "$$"
   ]
  },
  {
   "cell_type": "markdown",
   "id": "81e4ab1b",
   "metadata": {},
   "source": [
    "with $\\Omega$ the system size (or volume). Note the dependencies of the different reaction rates on $\\Omega$, which ensures that the transition rates are in the right units (1/time)."
   ]
  },
  {
   "cell_type": "markdown",
   "id": "74e9de4f",
   "metadata": {},
   "source": [
    "### Question 1\n",
    "1. Using the code below, simulate the deterministic system after filling the missing parts (annotated with \"FILL HERE\").\n",
    "2. Plot X and Y in function of t. Describe how the parameters affect the oscillatory pattern.\n",
    "3. Plot the phase portrait (X vs. Y) and describe how the parameters affect the limit cycle."
   ]
  },
  {
   "cell_type": "markdown",
   "id": "cc95a619",
   "metadata": {},
   "source": [
    "### Answer 1\n",
    "1."
   ]
  },
  {
   "cell_type": "markdown",
   "id": "17ec1e04",
   "metadata": {},
   "source": [
    "#### Deterministic simulation of the Brusselator"
   ]
  },
  {
   "cell_type": "code",
   "execution_count": null,
   "id": "40691fd0",
   "metadata": {},
   "outputs": [],
   "source": [
    "## function definition\n",
    "def func(y, t, k1, k2, k3, k4):\n",
    "    X, Y = y\n",
    "    return [,] #FILL HERE\n",
    "\n",
    "def simulation(func, par, x0 = None, t = None):\n",
    "    k_1=par[0]\n",
    "    k_2=par[1]\n",
    "    k_3=par[2]\n",
    "    k_4=par[3]\n",
    "\n",
    "    xx=odeint(func, x0, t, args=(k_1,k_2,k_3,k_4))\n",
    "    return xx"
   ]
  },
  {
   "cell_type": "code",
   "execution_count": null,
   "id": "5ee4c4b8",
   "metadata": {},
   "outputs": [],
   "source": [
    "#initial conditions\n",
    "x0=[1,1] #[X, Y]\n",
    "par=[2,6,1,1]\n",
    "time = np.linspace(0,100,1001)\n",
    "xx=simulation(func, par, x0, time)\n",
    "\n",
    "plt.plot(time, xx[:,0],label = 'X(t)')\n",
    "plt.plot(time, xx[:,1],label = 'Y(t)')\n",
    "plt.ylabel('Concentration')\n",
    "plt.xlabel('Time')\n",
    "plt.legend(loc='upper right')\n",
    "plt.show()\n",
    "plt.plot(xx[:,0],xx[:,1])\n",
    "plt.ylabel('X(t)')\n",
    "plt.xlabel('Y(t)')\n",
    "\n",
    "plt.show()"
   ]
  },
  {
   "cell_type": "markdown",
   "id": "56126377",
   "metadata": {},
   "source": [
    "2. Write your answers here\n",
    "3. Write your answers here"
   ]
  },
  {
   "cell_type": "markdown",
   "id": "b41278d3",
   "metadata": {},
   "source": [
    "### Question 2\n",
    "Simulate the Brusselator process using the Gillespie algorithm code for two species provided below.\n",
    "1. Study the Gillespie code and describe its main steps. \n",
    "2. Fill the missing parts (annoted with \"FILL HERE\") to simulate the system. \n",
    "3. Run the simulation and describe the results. In particular, plot X and Y in function of time as well as the phase portrait X vs. Y. Compare with the deterministic results.\n",
    "4. How are the parameters affecting the evolution of X and Y, in particular the system size $\\Omega$?  \n",
    "5. Optional: how does the number of reactions scale with $\\Omega$?"
   ]
  },
  {
   "cell_type": "markdown",
   "id": "d9d3dd0c",
   "metadata": {},
   "source": [
    "#### Gillespie simulation of the Brusselator"
   ]
  },
  {
   "cell_type": "code",
   "execution_count": null,
   "id": "dbdfc6e9",
   "metadata": {},
   "outputs": [],
   "source": [
    "# note that we use pyhton lists [] to store the trajectories\n",
    "#\n",
    "# This simulation can take a bit of time, so try with short\n",
    "# t_end first until the code works, or with a low omega\n",
    "\n",
    "n = [1]\n",
    "m = [1] \n",
    "t = [0]\n",
    "\n",
    "#the stochiometric matrix S\n",
    "S = np.array([[1, 0], [-1, 1], [1, -1], [-1, 0]])\n",
    "\n",
    "t_end = 100 #total time\n",
    "omega = 100 #system size\n",
    "\n",
    "\n",
    "k1 = 2\n",
    "k2 = 6\n",
    "k3 = 1\n",
    "k4 = 1\n",
    "\n",
    "while t[-1] < t_end:\n",
    "\n",
    "    current_n = n[-1]\n",
    "    current_m = m[-1]\n",
    "    rates = [, , , ] # FILL HERE\n",
    "    \n",
    "    rates_tot = sum(rates)\n",
    "    rates_cumsum = np.cumsum(rates)/rates_tot\n",
    "    \n",
    "    #pick the time of the next reaction\n",
    "    dt = np.random.exponential(scale=1.0/rates_tot) # scale is 1/lambda\n",
    "    t.append(t[-1] + dt)\n",
    "    \n",
    "    #pick the reaction\n",
    "    rand = np.random.random()\n",
    "    i=0\n",
    "    while rand >= rates_cumsum[i]:\n",
    "        i=i+1;\n",
    "    chosen_react=i\n",
    "    \n",
    "    n.append() #FILL HERE \n",
    "    m.append(current_m + S[chosen_react,1])\n"
   ]
  },
  {
   "cell_type": "markdown",
   "id": "f79deefc",
   "metadata": {},
   "source": [
    "#### Plot the trajectory and the phase portrait"
   ]
  },
  {
   "cell_type": "code",
   "execution_count": null,
   "id": "ed4dda2b",
   "metadata": {},
   "outputs": [],
   "source": [
    "plt.figure(figsize=(12,5))\n",
    "plt.plot(t, n,label = 'n(t)')\n",
    "plt.plot(t, m,label = 'm(t)')\n",
    "plt.xlabel('Time')\n",
    "plt.ylabel('Nb. molecules')\n",
    "\n",
    "plt.legend()\n",
    "plt.show()\n",
    "plt.figure(figsize = (10,10))\n",
    "plt.plot(xx[:,0],xx[:,1],label='deterministic', color='tomato', alpha=1)\n",
    "plt.plot(np.array(n)/omega,np.array(m)/omega, label='stochastic', color='forestgreen', alpha=0.3)\n",
    "\n",
    "plt.xlabel('Concentration (X or n)')\n",
    "plt.ylabel('Concentration (Y or m)')\n",
    "\n",
    "plt.legend()\n",
    "plt.show()"
   ]
  },
  {
   "cell_type": "markdown",
   "id": "02ba9333",
   "metadata": {},
   "source": [
    "### Answer 2\n",
    "1. Write your answers here\n",
    "2. Write your answers here\n",
    "3. Write your answers here\n",
    "4. Write your answers here\n",
    "5. Write your answers here"
   ]
  }
 ],
 "metadata": {
  "kernelspec": {
   "display_name": "Python 3 (ipykernel)",
   "language": "python",
   "name": "python3"
  },
  "language_info": {
   "codemirror_mode": {
    "name": "ipython",
    "version": 3
   },
   "file_extension": ".py",
   "mimetype": "text/x-python",
   "name": "python",
   "nbconvert_exporter": "python",
   "pygments_lexer": "ipython3",
   "version": "3.9.12"
  }
 },
 "nbformat": 4,
 "nbformat_minor": 5
}
