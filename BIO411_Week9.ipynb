{
 "cells": [
  {
   "cell_type": "markdown",
   "id": "cf5bc135-7355-4b67-8ad5-6ffb96f4306e",
   "metadata": {},
   "source": [
    "# Exercises Week 9: Temperature regulated gene expression\n",
    "\n",
    "**Course**: [Topics in life sciences engineering](https://moodle.epfl.ch/enrol/index.php?id=17061) (BIO-411)\n",
    "\n",
    "**Professors**:  _Gönczy Pierre_, _Naef Felix_, _McCabe Brian Donal_\n",
    "\n",
    "SSV, MA, 2022-2023\n"
   ]
  },
  {
   "cell_type": "markdown",
   "id": "0b79f4db",
   "metadata": {},
   "source": [
    "This week's exercises are inspired by the work of [Gotic et al., 2015](http://genesdev.cshlp.org/content/30/17/2005), in which RNA (pre-mRNA and mRNA) levels were measured in mouse NIH-3T3 fibroblasts after cells were switched from a warm to a colder temperature (38C to 33C), and vice-versa (33C to 38C). The experiments were conducted over multiple time points in an *approach to steady-state* design. \n",
    "The cold-inducible *Cirbp* gene was used as an example to examine the kinetics and mechanisms of post-transcritional control of gene expression. "
   ]
  },
  {
   "cell_type": "markdown",
   "id": "f854f74e",
   "metadata": {},
   "source": [
    "## Setup the Jupyter environment \n",
    "In order to run this notebook, we advise you to use the EPFL's JupyterLab centralized platform [noto.epfl.ch](http://noto.epfl.ch). Some of the required libraries are not available on the platform but you can install them copy-pasting the following commands in the **Jupyter Terminal** (open a new tab with the '+' icon and select \"Terminal\"):\n",
    "\n",
    "````\n",
    "my_venvs_create Week9_env\n",
    "my_venvs_activate Week9_env\n",
    "pip install gseapy\n",
    "pip install adjustText\n",
    "my_kernels_create Week9_env “Week9”\n",
    "my_venvs_deactivate\n",
    "````\n",
    "Refresh your browser's page and select the \"Week9\" kernel using the top right toggle button."
   ]
  },
  {
   "cell_type": "markdown",
   "id": "3430d1da-c36f-4886-8a9f-bf1a570c299c",
   "metadata": {},
   "source": [
    "## Exercise 0: Questions on the paper \"Temperature regulates splicing efficiency of the cold-inducible RNA-binding protein gene *Cirbp*\"\n",
    "While carefully reading the paper :\n",
    "\n",
    "0. Which is the physiological situation that is presented in the introduction?\n",
    "1. Describe in general known mechanisms behind cold- and heat-inducible genes. \n",
    "2. Which experiments allowed the authors to confirm the post-transcriptional regulation of *Cirbp* mRNA accumulation?\n",
    "3. For *Cirbp*, how did they distinguish between regulation at the degradation and splicing levels?\n",
    "4. Explain the choice to include the parameter $\\alpha$ (the percentage of splicing-prone *Cirbp* pre-mRNA) in the kinetic model. \n",
    "5. How did they obtain genome-wide transcription and mRNA accumulation levels to characterize cold and heat-induced genes?\n",
    "6. Summarize the comparison with the mouse liver experiments. \n",
    "\n",
    "Hint: make sure to identify the figure panels that support your answers."
   ]
  },
  {
   "cell_type": "markdown",
   "id": "6949409b",
   "metadata": {},
   "source": [
    "## Exercise 1: Simulation of a simplified production-decay ODE model of transcription"
   ]
  },
  {
   "cell_type": "markdown",
   "id": "9f03f2bf-5f08-4957-8535-3eb7162a0a47",
   "metadata": {
    "tags": []
   },
   "source": [
    "We first describe a system in which a (nuclear) pre-mRNA is transcribed and spliced to produce an mRNA. Both species undergo different degradation processes. We can write a 2D ODE:\n",
    "\n",
    "\\begin{eqnarray*}\n",
    "&&\\frac{dP}{dt} = s - (k_p + \\rho)P \\\\\n",
    "&&\\frac{dM}{dt} = \\rho P - k_m M \\\\\n",
    "\\end{eqnarray*}\n",
    "\n",
    "Here, $P$ and $M$ denote, respectively, the concentrations of pre-mRNA and mRNA.  $s$ is the transcription rate, which is here constant $s$, but it can also a time-dependent function (more to come in exercise session Week 11).\n",
    "$k_m$ and $k_p$ are, respectively, the degration rates of $M$ and $P$ that were set as constant. $\\rho$ is the splicing rate of pre-mRNA $P$ to mRNA $M$, and is also taken as a constant.\n",
    "\n",
    "When all parameters are constant, after a transient period, the concentrations reach steady-state levels:\n",
    "\n",
    "<--\n",
    "\\begin{eqnarray*}\n",
    "&&P = \\frac{s}{(k_p + \\rho)} \\\\\n",
    "&&M = \\frac{s}{k_m}\\frac{\\rho}{(k_p + \\rho)} \\\\\n",
    "\\end{eqnarray*}\n",
    "-->"
   ]
  },
  {
   "cell_type": "markdown",
   "id": "50db9753",
   "metadata": {},
   "source": [
    "### Question 1\n",
    "1. Derive the steady state concentrations. Interpret what happens to $M$ when $\\rho\\gg k_p$.\n",
    "2. Compute the steady-state ratio mRNA/pre-mRNA. Comment the results, in particular, which parameters matter and which don't. Discuss how this quantity might be used to compare mRNA half-life between different conditions. \n",
    "3. Find in litterature realistic values of $\\rho$, $s$, and $k_m$ in typical mammalian cells (e.g. NIH-3T3 fibroblasts).\n",
    "4. Estimate the ratio of mRNA/pre-mRNA molecules in a typical mammalian cells?"
   ]
  },
  {
   "cell_type": "markdown",
   "id": "48cf6713",
   "metadata": {},
   "source": [
    "### Answer 1\n",
    "\n",
    "1. *Type your answers here*\n",
    "2. *Type your answers here*\n",
    "3. *Type your answers here*\n",
    "4. *Type your answers here*"
   ]
  },
  {
   "cell_type": "markdown",
   "id": "d8722045",
   "metadata": {},
   "source": [
    "### Question 2 \n",
    "Use the code below to simulate the production-decay ODE for a constant $s$. \n",
    "1. Vary the parameter space by using the widget below. Also explore different initial conditions.\n",
    "2. Add a feature (few code lines) that also shows on the plots the steady state that you computed above.\n",
    "3. Optional: Implement a third equation describing the protein level and add it to the simulation and plots."
   ]
  },
  {
   "cell_type": "markdown",
   "id": "38c6de31",
   "metadata": {},
   "source": [
    "### Answer 2\n",
    "1. *Type your answer here*  \n",
    "2. *Type your answer here*  \n",
    "3. *Type your answer here*  "
   ]
  },
  {
   "cell_type": "code",
   "execution_count": 62,
   "id": "073fb31d",
   "metadata": {},
   "outputs": [],
   "source": [
    "## Import libraries\n",
    "import pandas as pd\n",
    "import numpy as np\n",
    "from sklearn.decomposition import PCA\n",
    "import plotly.express as px\n",
    "import matplotlib.pyplot as plt\n",
    "from sklearn.preprocessing import scale\n",
    "import gseapy as gp\n",
    "\n",
    "from scipy.integrate import odeint\n",
    "import matplotlib.pyplot as plt\n",
    "from ipywidgets import interact, fixed\n",
    "from adjustText import adjust_text\n"
   ]
  },
  {
   "cell_type": "code",
   "execution_count": 64,
   "id": "deefe0e2-66c6-4ba1-a84f-772cd6357612",
   "metadata": {},
   "outputs": [
    {
     "data": {
      "application/vnd.jupyter.widget-view+json": {
       "model_id": "0feedfd5872c4fb49ab0d8f73213b039",
       "version_major": 2,
       "version_minor": 0
      },
      "text/plain": [
       "interactive(children=(FloatSlider(value=5.0, description='s', max=10.0, min=1.0, step=0.01), FloatSlider(value…"
      ]
     },
     "metadata": {},
     "output_type": "display_data"
    }
   ],
   "source": [
    "## function definition\n",
    "def func(y, t, s, kp, km, rho):\n",
    "    P, M=y\n",
    "    return [s - (kp + rho)*P, rho*P - km*M] \n",
    "\n",
    "\n",
    "def simulation(func, par, x0 = None, t = None):\n",
    "    s=par['s']\n",
    "    kp=par['kp']\n",
    "    km=par['km']\n",
    "    rho=par['rho']\n",
    "\n",
    "    P_ss = s/(kp + rho) #Add your steady-state solution here \n",
    "    M_ss = (s/km)*(rho/(kp + rho)) #Add you steady-state solution here\n",
    "    \n",
    "    xx=odeint(func, x0, t, args=(s, kp, km, rho))\n",
    "    plt.figure(1)\n",
    "    plt.ylim([0,150])\n",
    "    plt.axhline(y=P_ss, color='r', linestyle='--') # uncomment after adding your steady-state solution \n",
    "    plt.axhline(y=M_ss, color='r', linestyle='--') # uncomment after adding your steady-state solution\n",
    "    plt.plot(t, xx[:,0],label = 'P(t)')\n",
    "    plt.plot(t, xx[:,1],label = 'M(t)')\n",
    "    plt.xlabel(\"time [min]\")\n",
    "    plt.ylabel(\"Concenration\")\n",
    "    plt.legend()\n",
    "    plt.show()\n",
    "    \n",
    "def animate(x0, time, s=5, kp= 0.05, km=0.05, rho=0.4):\n",
    "    #define the function domain\n",
    "    par={'s':s,'kp':kp, 'km':km, 'rho':rho}\n",
    "    simulation(func, par, x0, time)\n",
    "\n",
    "#initial conditions\n",
    "z0=[0,120] #[P, M]\n",
    "t = np.linspace(0,100,1001)\n",
    "interact(animate, x0=fixed(z0), time=fixed(t), \n",
    "         s = (1,10,0.01), #unit is concentration [P] per min\n",
    "         kp = (1/120,1/10,1/1000), #kp^1 in [10 min, 120 min] \n",
    "         km = (1/600,1/10,1/1000), #km^1 in [10 min, 600 min]\n",
    "         rho = (1/30,1,0.1)); #rho^1 in [1 min, 30 min]\n",
    "\n"
   ]
  },
  {
   "cell_type": "markdown",
   "id": "13f3fc7d",
   "metadata": {},
   "source": [
    "## Exercise 2: RNA-seq analysis and modelling of gene expression response to temperature up- and down- shifts"
   ]
  },
  {
   "cell_type": "markdown",
   "id": "d1c7c93e-1fdf-46fb-aba0-cadb6fdd2d00",
   "metadata": {},
   "source": [
    "In [Gotic et al., 2015](http://genesdev.cshlp.org/content/30/17/2005), cells were harvested at 0, 1, 3, 6 and 9 hours after a temperature switch from 33C to 38C and vice-versa, in duplicates. RNA-seq libraries were prepared and sequenced. The resulting RNA-seq data were processed and reads were assigned to pre-mRNA and mRNA species. "
   ]
  },
  {
   "cell_type": "code",
   "execution_count": 65,
   "id": "d19b9c57-bbe4-41c1-8f98-5305a902f724",
   "metadata": {},
   "outputs": [],
   "source": [
    "### These functions will be used below ###\n",
    "### Optional: study them in details [will not be examined]\n",
    "\n",
    "## Subselect samples of the full data based on feature, condition, replicate and time\n",
    "def subselect(data, feature, replicate, time, condition):\n",
    "    f1 = data.columns.get_level_values('feature').isin(feature)\n",
    "    f2 = data.columns.get_level_values('condition').isin(condition)\n",
    "    f3 = data.columns.get_level_values('replicate').isin(replicate)\n",
    "    f4 = data.columns.get_level_values('time').isin(time)\n",
    "    dat_sub= data.iloc[:,f1 & f2 & f3 & f4]\n",
    "    \n",
    "    return dat_sub\n",
    "\n",
    "## Plot PCA for a data.frame and display color/shape according to the input parameter\n",
    "def run_PCA(data, nc=5, x_1=1, x_2=2, col='replicate', shape='time', scale_d=True, log=True):\n",
    "    pca = PCA(n_components=nc)\n",
    "    x_1=x_1-1\n",
    "    x_2=x_2-1\n",
    "    if(scale_d):\n",
    "        data_2 = scale(data)\n",
    "    else:\n",
    "        data_2 = data\n",
    "        \n",
    "    if(log):\n",
    "        data_2 =  np.log2(data_2 + 1)\n",
    "        \n",
    "    pca.fit(data_2.T)\n",
    "\n",
    "    labels = {\n",
    "    str(i): f\"PC {i+1} ({var:.1f}%)\"\n",
    "    for i, var in enumerate(pca.explained_variance_ratio_ * 100)\n",
    "    }\n",
    "\n",
    "    \n",
    "    ## compute PCA and plot\n",
    "    pca_transformed = pca.transform(data_2.T)\n",
    "    fig = px.scatter(pca_transformed, x=x_1, y=x_2, \n",
    "                     color=data.columns.get_level_values(col), \n",
    "                     symbol=dat_sub.columns.get_level_values(shape),\n",
    "                     width=600, height=600)\n",
    "   \n",
    "    fig.update_traces(marker={'size': 13})\n",
    "    fig.update_layout(plot_bgcolor = 'rgb(243,243,243)', xaxis_title=labels[str(x_1)],\n",
    "                      yaxis_title=labels[str(x_2)])\n",
    "    fig.show()\n",
    "    \n",
    "    df_pca= pd.DataFrame(pca.components_, columns=data.index, index = ['PC-1','PC-2','PC-3','PC-4','PC-5'])\n",
    "\n",
    "    return df_pca\n",
    "\n",
    "## Plot Gene profile across all conditions\n",
    "def plot_gene(data, gene , xx_33_38=None, xx_38_33=None, t_2=None):\n",
    "    #subselect\n",
    "    time= ['0', '1' ,'3' ,'6', '9']\n",
    "    replicate = ['2', '13', '11', '5']\n",
    "    dat_1= subselect(data, ['intron'], replicate, time, ['33to38'])\n",
    "    dat_2= subselect(data, ['exon'], replicate, time, ['33to38'])\n",
    "    dat_3= subselect(data, ['intron'], replicate, time, ['38to33'])\n",
    "    dat_4= subselect(data, ['exon'], replicate, time, ['38to33'])\n",
    "    #plot\n",
    "    t=np.array([0,0,1,1,3,3,6,6,9,9])\n",
    "    fig, axs = plt.subplots(2,2,figsize=(8,8), sharex=True)\n",
    "    \n",
    "    axs[0,0].plot(t, dat_1[dat_1.index.str.endswith(gene)].values.T, 'o', color = 'lightblue', label='intron 33to38')\n",
    "    axs[0,0].set_title(\"intron 33to38\")\n",
    "    \n",
    "    axs[1,0].plot(t, dat_2[dat_2.index.str.endswith(gene)].values.T, 'o', color = 'lightblue', label='exon 33to38')\n",
    "    axs[1,0].set_title(\"exons 33to38\")\n",
    "    \n",
    "    axs[0,1].plot(t, dat_3[dat_3.index.str.endswith(gene)].values.T, 'o', color = 'lightblue', label='intron 38to33')\n",
    "    axs[0,1].set_title(\"intron 38to33\")\n",
    "\n",
    "    axs[1,1].plot(t, dat_4[dat_4.index.str.endswith(gene)].values.T, 'o', color = 'lightblue', label='exon 38to33')\n",
    "    axs[1,1].set_title(\"exon 38to33\")\n",
    "\n",
    "    if xx_33_38 is not None:\n",
    "        axs[0,0].plot(t_2, xx_33_38[:,0],label = 'P(t)')\n",
    "        axs[1,0].plot(t_2, xx_33_38[:,1])\n",
    "        axs[0,1].plot(t_2, xx_38_33[:,0])\n",
    "        axs[1,1].plot(t_2, xx_38_33[:,1])\n",
    "    \n",
    "        \n",
    "    for ax in axs.flat:\n",
    "        ax.set(xlabel='Time [h]', ylabel='RPKM')\n",
    "    fig.suptitle(gene, fontsize=16)"
   ]
  },
  {
   "cell_type": "markdown",
   "id": "97813f7f",
   "metadata": {},
   "source": [
    "###  Question 0\n",
    "1. Pratically, how would identify whether reads are coming from the pre-mRNA or mRNA? What are the possible caveats?"
   ]
  },
  {
   "cell_type": "markdown",
   "id": "61ed319e",
   "metadata": {},
   "source": [
    "### Answer 0\n",
    "1. *Type your answer here*"
   ]
  },
  {
   "cell_type": "markdown",
   "id": "75b39029-fddc-4e12-900e-332a6ca4851c",
   "metadata": {},
   "source": [
    "###  Question 1\n",
    "Using the provided code, explore the RNA-Seq data: \n",
    "1. Perform principal component analysis (PCA) selecting different temperature conditions, time points, replicates and features (intron vs. exon). For each case described below, explore the principal components (PCs) and comment. *Hint: Modify only the code marked as 'PCA cell' and 'enrichR' below*.\n",
    "  \n",
    "    a. Select all the samples and describe the main sources of variance in the data. Is there an outlier sample? Are the replicates clustered as you expect?  \n",
    "    b. Select only exonic counts and describe which PC correlates with time?  \n",
    "    c. Select only exonic counts and one condition (38to33 or 33to38). What can you say about the transcriptome response in function of time? Do you find a difference between the two conditions?  \n",
    "\n",
    "\n",
    "2. Using the relevant sample combinations and principal components, extract the gene PCA loadings (positive or/and negative) and perform gene enrichment analysis using *enrichR* (GEA, code provided below) to identify biological functions or regulatory mechanisms behind heat- or cold-induced gene responses. For the GEA, select different databases from *enrichR*. For example 'GO_Biological_Process_2021', 'GO_Molecular_Function_2021', 'WikiPathways_2019_Mouse' for gene functions, or 'ChEA 2022' for transcription factor enrichment analysis.  \n",
    "  \n",
    "    a. Using these tools, find gene functions regulated by the temperature.  \n",
    "    b. Do you find differences between cold-induced versus heat-induced genes in terms of biological functions, or involved transcription factors?  \n",
    "    c. What are the main sources of variance between the two replicates? How do you interpret this?  \n",
    "    d. Optional: Using variants of this approach, how would you design the analysis to specifically identify post-transcriptional regulation?  "
   ]
  },
  {
   "cell_type": "markdown",
   "id": "2568b0e1",
   "metadata": {},
   "source": [
    "### Answer 1\n",
    "\n",
    "1. *Type your answers here*  \n",
    "a.   \n",
    "b.  \n",
    "c.  \n",
    "d.  \n",
    "\n",
    "2. *Type your answers here*  \n",
    "a.   \n",
    "b.  \n",
    "c.  \n",
    "d. "
   ]
  },
  {
   "cell_type": "markdown",
   "id": "86df6bf4",
   "metadata": {},
   "source": [
    "**The cells below contain the code for Question 1.**"
   ]
  },
  {
   "cell_type": "code",
   "execution_count": 36,
   "id": "577eb2a7-9ada-49df-b4c4-9fb9162ee277",
   "metadata": {},
   "outputs": [
    {
     "name": "stdout",
     "output_type": "stream",
     "text": [
      "(38087, 40)\n"
     ]
    },
    {
     "data": {
      "text/html": [
       "<div>\n",
       "<style scoped>\n",
       "    .dataframe tbody tr th:only-of-type {\n",
       "        vertical-align: middle;\n",
       "    }\n",
       "\n",
       "    .dataframe tbody tr th {\n",
       "        vertical-align: top;\n",
       "    }\n",
       "\n",
       "    .dataframe thead tr th {\n",
       "        text-align: left;\n",
       "    }\n",
       "</style>\n",
       "<table border=\"1\" class=\"dataframe\">\n",
       "  <thead>\n",
       "    <tr>\n",
       "      <th>condition</th>\n",
       "      <th colspan=\"10\" halign=\"left\">33to38</th>\n",
       "      <th>...</th>\n",
       "      <th colspan=\"10\" halign=\"left\">38to33</th>\n",
       "    </tr>\n",
       "    <tr>\n",
       "      <th>time</th>\n",
       "      <th colspan=\"4\" halign=\"left\">0</th>\n",
       "      <th colspan=\"4\" halign=\"left\">1</th>\n",
       "      <th colspan=\"2\" halign=\"left\">3</th>\n",
       "      <th>...</th>\n",
       "      <th colspan=\"2\" halign=\"left\">3</th>\n",
       "      <th colspan=\"4\" halign=\"left\">6</th>\n",
       "      <th colspan=\"4\" halign=\"left\">9</th>\n",
       "    </tr>\n",
       "    <tr>\n",
       "      <th>replicate</th>\n",
       "      <th colspan=\"2\" halign=\"left\">13</th>\n",
       "      <th colspan=\"2\" halign=\"left\">2</th>\n",
       "      <th colspan=\"2\" halign=\"left\">13</th>\n",
       "      <th colspan=\"2\" halign=\"left\">2</th>\n",
       "      <th colspan=\"2\" halign=\"left\">13</th>\n",
       "      <th>...</th>\n",
       "      <th colspan=\"2\" halign=\"left\">5</th>\n",
       "      <th colspan=\"2\" halign=\"left\">11</th>\n",
       "      <th colspan=\"2\" halign=\"left\">5</th>\n",
       "      <th colspan=\"2\" halign=\"left\">11</th>\n",
       "      <th colspan=\"2\" halign=\"left\">5</th>\n",
       "    </tr>\n",
       "    <tr>\n",
       "      <th>feature</th>\n",
       "      <th>exon</th>\n",
       "      <th>intron</th>\n",
       "      <th>exon</th>\n",
       "      <th>intron</th>\n",
       "      <th>exon</th>\n",
       "      <th>intron</th>\n",
       "      <th>exon</th>\n",
       "      <th>intron</th>\n",
       "      <th>exon</th>\n",
       "      <th>intron</th>\n",
       "      <th>...</th>\n",
       "      <th>exon</th>\n",
       "      <th>intron</th>\n",
       "      <th>exon</th>\n",
       "      <th>intron</th>\n",
       "      <th>exon</th>\n",
       "      <th>intron</th>\n",
       "      <th>exon</th>\n",
       "      <th>intron</th>\n",
       "      <th>exon</th>\n",
       "      <th>intron</th>\n",
       "    </tr>\n",
       "  </thead>\n",
       "  <tbody>\n",
       "    <tr>\n",
       "      <th>ENSMUSG00000090025|Gm16088</th>\n",
       "      <td>0.0</td>\n",
       "      <td>0.000000</td>\n",
       "      <td>0.0</td>\n",
       "      <td>0.000000</td>\n",
       "      <td>0.0</td>\n",
       "      <td>0.000000</td>\n",
       "      <td>0.0</td>\n",
       "      <td>0.000000</td>\n",
       "      <td>0.0</td>\n",
       "      <td>0.00000</td>\n",
       "      <td>...</td>\n",
       "      <td>0.0</td>\n",
       "      <td>0.000000</td>\n",
       "      <td>0.0</td>\n",
       "      <td>0.000000</td>\n",
       "      <td>0.0</td>\n",
       "      <td>0.000000</td>\n",
       "      <td>0.0</td>\n",
       "      <td>0.000000</td>\n",
       "      <td>0.0</td>\n",
       "      <td>0.000000</td>\n",
       "    </tr>\n",
       "    <tr>\n",
       "      <th>ENSMUSG00000064842|U6</th>\n",
       "      <td>0.0</td>\n",
       "      <td>0.000000</td>\n",
       "      <td>0.0</td>\n",
       "      <td>0.000000</td>\n",
       "      <td>0.0</td>\n",
       "      <td>0.000000</td>\n",
       "      <td>0.0</td>\n",
       "      <td>0.000000</td>\n",
       "      <td>0.0</td>\n",
       "      <td>0.00000</td>\n",
       "      <td>...</td>\n",
       "      <td>0.0</td>\n",
       "      <td>0.000000</td>\n",
       "      <td>0.0</td>\n",
       "      <td>0.000000</td>\n",
       "      <td>0.0</td>\n",
       "      <td>0.000000</td>\n",
       "      <td>0.0</td>\n",
       "      <td>0.000000</td>\n",
       "      <td>0.0</td>\n",
       "      <td>0.000000</td>\n",
       "    </tr>\n",
       "    <tr>\n",
       "      <th>ENSMUSG00000051951|Xkr4</th>\n",
       "      <td>0.0</td>\n",
       "      <td>1.972758</td>\n",
       "      <td>0.0</td>\n",
       "      <td>7.955391</td>\n",
       "      <td>0.0</td>\n",
       "      <td>3.763305</td>\n",
       "      <td>0.0</td>\n",
       "      <td>1.941199</td>\n",
       "      <td>0.0</td>\n",
       "      <td>3.90031</td>\n",
       "      <td>...</td>\n",
       "      <td>0.0</td>\n",
       "      <td>4.871782</td>\n",
       "      <td>0.0</td>\n",
       "      <td>3.863257</td>\n",
       "      <td>0.0</td>\n",
       "      <td>4.953918</td>\n",
       "      <td>0.0</td>\n",
       "      <td>2.945545</td>\n",
       "      <td>0.0</td>\n",
       "      <td>1.963427</td>\n",
       "    </tr>\n",
       "    <tr>\n",
       "      <th>ENSMUSG00000089699|Gm1992</th>\n",
       "      <td>0.0</td>\n",
       "      <td>0.000000</td>\n",
       "      <td>0.0</td>\n",
       "      <td>0.980092</td>\n",
       "      <td>0.0</td>\n",
       "      <td>0.000000</td>\n",
       "      <td>0.0</td>\n",
       "      <td>0.000000</td>\n",
       "      <td>0.0</td>\n",
       "      <td>0.00000</td>\n",
       "      <td>...</td>\n",
       "      <td>0.0</td>\n",
       "      <td>0.000000</td>\n",
       "      <td>0.0</td>\n",
       "      <td>0.000000</td>\n",
       "      <td>0.0</td>\n",
       "      <td>1.000000</td>\n",
       "      <td>0.0</td>\n",
       "      <td>0.000000</td>\n",
       "      <td>0.0</td>\n",
       "      <td>0.568750</td>\n",
       "    </tr>\n",
       "    <tr>\n",
       "      <th>ENSMUSG00000088390|U7</th>\n",
       "      <td>0.0</td>\n",
       "      <td>0.000000</td>\n",
       "      <td>0.0</td>\n",
       "      <td>0.000000</td>\n",
       "      <td>0.0</td>\n",
       "      <td>0.000000</td>\n",
       "      <td>0.0</td>\n",
       "      <td>0.000000</td>\n",
       "      <td>0.0</td>\n",
       "      <td>0.00000</td>\n",
       "      <td>...</td>\n",
       "      <td>0.0</td>\n",
       "      <td>0.000000</td>\n",
       "      <td>0.0</td>\n",
       "      <td>0.000000</td>\n",
       "      <td>0.0</td>\n",
       "      <td>0.000000</td>\n",
       "      <td>0.0</td>\n",
       "      <td>0.000000</td>\n",
       "      <td>0.0</td>\n",
       "      <td>0.000000</td>\n",
       "    </tr>\n",
       "  </tbody>\n",
       "</table>\n",
       "<p>5 rows × 40 columns</p>\n",
       "</div>"
      ],
      "text/plain": [
       "condition                  33to38                                          \\\n",
       "time                            0                             1             \n",
       "replicate                      13              2             13             \n",
       "feature                      exon    intron exon    intron exon    intron   \n",
       "ENSMUSG00000090025|Gm16088    0.0  0.000000  0.0  0.000000  0.0  0.000000   \n",
       "ENSMUSG00000064842|U6         0.0  0.000000  0.0  0.000000  0.0  0.000000   \n",
       "ENSMUSG00000051951|Xkr4       0.0  1.972758  0.0  7.955391  0.0  3.763305   \n",
       "ENSMUSG00000089699|Gm1992     0.0  0.000000  0.0  0.980092  0.0  0.000000   \n",
       "ENSMUSG00000088390|U7         0.0  0.000000  0.0  0.000000  0.0  0.000000   \n",
       "\n",
       "condition                                                ... 38to33            \\\n",
       "time                                         3           ...      3             \n",
       "replicate                     2             13           ...      5             \n",
       "feature                    exon    intron exon   intron  ...   exon    intron   \n",
       "ENSMUSG00000090025|Gm16088  0.0  0.000000  0.0  0.00000  ...    0.0  0.000000   \n",
       "ENSMUSG00000064842|U6       0.0  0.000000  0.0  0.00000  ...    0.0  0.000000   \n",
       "ENSMUSG00000051951|Xkr4     0.0  1.941199  0.0  3.90031  ...    0.0  4.871782   \n",
       "ENSMUSG00000089699|Gm1992   0.0  0.000000  0.0  0.00000  ...    0.0  0.000000   \n",
       "ENSMUSG00000088390|U7       0.0  0.000000  0.0  0.00000  ...    0.0  0.000000   \n",
       "\n",
       "condition                                                                     \\\n",
       "time                          6                             9                  \n",
       "replicate                    11              5             11              5   \n",
       "feature                    exon    intron exon    intron exon    intron exon   \n",
       "ENSMUSG00000090025|Gm16088  0.0  0.000000  0.0  0.000000  0.0  0.000000  0.0   \n",
       "ENSMUSG00000064842|U6       0.0  0.000000  0.0  0.000000  0.0  0.000000  0.0   \n",
       "ENSMUSG00000051951|Xkr4     0.0  3.863257  0.0  4.953918  0.0  2.945545  0.0   \n",
       "ENSMUSG00000089699|Gm1992   0.0  0.000000  0.0  1.000000  0.0  0.000000  0.0   \n",
       "ENSMUSG00000088390|U7       0.0  0.000000  0.0  0.000000  0.0  0.000000  0.0   \n",
       "\n",
       "condition                             \n",
       "time                                  \n",
       "replicate                             \n",
       "feature                       intron  \n",
       "ENSMUSG00000090025|Gm16088  0.000000  \n",
       "ENSMUSG00000064842|U6       0.000000  \n",
       "ENSMUSG00000051951|Xkr4     1.963427  \n",
       "ENSMUSG00000089699|Gm1992   0.568750  \n",
       "ENSMUSG00000088390|U7       0.000000  \n",
       "\n",
       "[5 rows x 40 columns]"
      ]
     },
     "execution_count": 36,
     "metadata": {},
     "output_type": "execute_result"
    }
   ],
   "source": [
    "#Load the RNA-seq data (normalized counts) downloaded from the GEO database\n",
    "\n",
    "dat_33_38 = pd.read_csv(\"./GoticData/GSE85553_33-38_exon_intron_RPKM.txt\",sep='\\t')\n",
    "dat_33_38=dat_33_38.add_prefix(\"33to38.\")\n",
    "\n",
    "dat_38_33 = pd.read_csv(\"./GoticData/GSE85553_38-33_exon_intron_RPKM.txt\",sep='\\t')\n",
    "dat_38_33=dat_38_33.add_prefix(\"38to33.\")\n",
    "\n",
    "dat_all = pd.concat([dat_33_38, dat_38_33.iloc[:, :20]],axis=1)\n",
    "dat_all.columns=dat_all.columns.str.replace('\\.t','.', regex=True)\n",
    "dat_all.replace([np.inf, -np.inf], 0, inplace=True)\n",
    "\n",
    "dat_all.columns=dat_all.columns.str.split('.', expand = True)\n",
    "dat_all.columns.names = ['condition','time','replicate','feature']\n",
    "print(dat_all.shape)\n",
    "dat_all.head()"
   ]
  },
  {
   "cell_type": "code",
   "execution_count": 37,
   "id": "87113bef-dd6d-4add-a465-7ac782d4373e",
   "metadata": {},
   "outputs": [
    {
     "name": "stdout",
     "output_type": "stream",
     "text": [
      "(11553, 40)\n"
     ]
    }
   ],
   "source": [
    "# Remove lowly expressed genes.\n",
    "time= ['0', '1' ,'3' ,'6', '9']\n",
    "replicate = ['2', '13', '11', '5']\n",
    "conditions = ['33to38','38to33']\n",
    "\n",
    "dat_intron= subselect(dat_all, ['intron'], replicate, time, conditions)\n",
    "dat_exon= subselect(dat_all, ['exon'], replicate, time, conditions)\n",
    "dat_all = dat_all.loc[(dat_intron.mean(axis=1) > 1 ) & (dat_exon.mean(axis=1) > 10), :]\n",
    "print(dat_all.shape)\n"
   ]
  },
  {
   "cell_type": "markdown",
   "id": "21dac8cb",
   "metadata": {},
   "source": [
    "**PCA cell**"
   ]
  },
  {
   "cell_type": "code",
   "execution_count": 67,
   "id": "03cf66ae-b8ad-4b7c-8949-529110ac0a61",
   "metadata": {},
   "outputs": [
    {
     "data": {
      "application/vnd.plotly.v1+json": {
       "config": {
        "plotlyServerURL": "https://plot.ly"
       },
       "data": [
        {
         "hovertemplate": "color=0<br>symbol=33to38<br>0=%{x}<br>1=%{y}<extra></extra>",
         "legendgroup": "0, 33to38",
         "marker": {
          "color": "#636efa",
          "size": 13,
          "symbol": "circle"
         },
         "mode": "markers",
         "name": "0, 33to38",
         "orientation": "v",
         "showlegend": true,
         "type": "scatter",
         "x": [
          10.605546944601855,
          -2.8338216649838674
         ],
         "xaxis": "x",
         "y": [
          -3.2526221144724112,
          -6.4170264930729815
         ],
         "yaxis": "y"
        },
        {
         "hovertemplate": "color=0<br>symbol=38to33<br>0=%{x}<br>1=%{y}<extra></extra>",
         "legendgroup": "0, 38to33",
         "marker": {
          "color": "#636efa",
          "size": 13,
          "symbol": "diamond"
         },
         "mode": "markers",
         "name": "0, 38to33",
         "orientation": "v",
         "showlegend": true,
         "type": "scatter",
         "x": [
          0.8232930818406718,
          -5.844873313015545
         ],
         "xaxis": "x",
         "y": [
          5.891332318825961,
          -0.7722904657860391
         ],
         "yaxis": "y"
        },
        {
         "hovertemplate": "color=1<br>symbol=33to38<br>0=%{x}<br>1=%{y}<extra></extra>",
         "legendgroup": "1, 33to38",
         "marker": {
          "color": "#EF553B",
          "size": 13,
          "symbol": "circle"
         },
         "mode": "markers",
         "name": "1, 33to38",
         "orientation": "v",
         "showlegend": true,
         "type": "scatter",
         "x": [
          10.382522239099773,
          -5.064776874629128
         ],
         "xaxis": "x",
         "y": [
          -3.546837885030652,
          -5.977012410642761
         ],
         "yaxis": "y"
        },
        {
         "hovertemplate": "color=1<br>symbol=38to33<br>0=%{x}<br>1=%{y}<extra></extra>",
         "legendgroup": "1, 38to33",
         "marker": {
          "color": "#EF553B",
          "size": 13,
          "symbol": "diamond"
         },
         "mode": "markers",
         "name": "1, 38to33",
         "orientation": "v",
         "showlegend": true,
         "type": "scatter",
         "x": [
          -0.14304812341762685,
          -7.303629062074594
         ],
         "xaxis": "x",
         "y": [
          6.0783864040385325,
          -0.671447419124677
         ],
         "yaxis": "y"
        },
        {
         "hovertemplate": "color=3<br>symbol=33to38<br>0=%{x}<br>1=%{y}<extra></extra>",
         "legendgroup": "3, 33to38",
         "marker": {
          "color": "#00cc96",
          "size": 13,
          "symbol": "circle"
         },
         "mode": "markers",
         "name": "3, 33to38",
         "orientation": "v",
         "showlegend": true,
         "type": "scatter",
         "x": [
          10.584942490767341,
          -7.257550823500347
         ],
         "xaxis": "x",
         "y": [
          -3.6245219294614386,
          -5.542672320473253
         ],
         "yaxis": "y"
        },
        {
         "hovertemplate": "color=3<br>symbol=38to33<br>0=%{x}<br>1=%{y}<extra></extra>",
         "legendgroup": "3, 38to33",
         "marker": {
          "color": "#00cc96",
          "size": 13,
          "symbol": "diamond"
         },
         "mode": "markers",
         "name": "3, 38to33",
         "orientation": "v",
         "showlegend": true,
         "type": "scatter",
         "x": [
          1.2898503829985544,
          -8.270470879966492
         ],
         "xaxis": "x",
         "y": [
          7.359007325806974,
          -0.5330164728780863
         ],
         "yaxis": "y"
        },
        {
         "hovertemplate": "color=6<br>symbol=33to38<br>0=%{x}<br>1=%{y}<extra></extra>",
         "legendgroup": "6, 33to38",
         "marker": {
          "color": "#ab63fa",
          "size": 13,
          "symbol": "circle"
         },
         "mode": "markers",
         "name": "6, 33to38",
         "orientation": "v",
         "showlegend": true,
         "type": "scatter",
         "x": [
          11.084280237622217,
          -6.735459044870035
         ],
         "xaxis": "x",
         "y": [
          -2.1915153309258297,
          -1.7392627699182746
         ],
         "yaxis": "y"
        },
        {
         "hovertemplate": "color=6<br>symbol=38to33<br>0=%{x}<br>1=%{y}<extra></extra>",
         "legendgroup": "6, 38to33",
         "marker": {
          "color": "#ab63fa",
          "size": 13,
          "symbol": "diamond"
         },
         "mode": "markers",
         "name": "6, 38to33",
         "orientation": "v",
         "showlegend": true,
         "type": "scatter",
         "x": [
          0.9567515654396339,
          -6.945121877244291
         ],
         "xaxis": "x",
         "y": [
          7.329984898050894,
          1.7021084978051988
         ],
         "yaxis": "y"
        },
        {
         "hovertemplate": "color=9<br>symbol=33to38<br>0=%{x}<br>1=%{y}<extra></extra>",
         "legendgroup": "9, 33to38",
         "marker": {
          "color": "#FFA15A",
          "size": 13,
          "symbol": "circle"
         },
         "mode": "markers",
         "name": "9, 33to38",
         "orientation": "v",
         "showlegend": true,
         "type": "scatter",
         "x": [
          10.954565653047677,
          -6.816659842695357
         ],
         "xaxis": "x",
         "y": [
          -1.1170589397775315,
          0.21887801588452852
         ],
         "yaxis": "y"
        },
        {
         "hovertemplate": "color=9<br>symbol=38to33<br>0=%{x}<br>1=%{y}<extra></extra>",
         "legendgroup": "9, 38to33",
         "marker": {
          "color": "#FFA15A",
          "size": 13,
          "symbol": "diamond"
         },
         "mode": "markers",
         "name": "9, 38to33",
         "orientation": "v",
         "showlegend": true,
         "type": "scatter",
         "x": [
          5.879548288925774,
          -5.345889377946198
         ],
         "xaxis": "x",
         "y": [
          5.451897778237721,
          1.353689312914124
         ],
         "yaxis": "y"
        }
       ],
       "layout": {
        "height": 600,
        "legend": {
         "title": {
          "text": "color, symbol"
         },
         "tracegroupgap": 0
        },
        "margin": {
         "t": 60
        },
        "plot_bgcolor": "rgb(243,243,243)",
        "template": {
         "data": {
          "bar": [
           {
            "error_x": {
             "color": "#2a3f5f"
            },
            "error_y": {
             "color": "#2a3f5f"
            },
            "marker": {
             "line": {
              "color": "#E5ECF6",
              "width": 0.5
             },
             "pattern": {
              "fillmode": "overlay",
              "size": 10,
              "solidity": 0.2
             }
            },
            "type": "bar"
           }
          ],
          "barpolar": [
           {
            "marker": {
             "line": {
              "color": "#E5ECF6",
              "width": 0.5
             },
             "pattern": {
              "fillmode": "overlay",
              "size": 10,
              "solidity": 0.2
             }
            },
            "type": "barpolar"
           }
          ],
          "carpet": [
           {
            "aaxis": {
             "endlinecolor": "#2a3f5f",
             "gridcolor": "white",
             "linecolor": "white",
             "minorgridcolor": "white",
             "startlinecolor": "#2a3f5f"
            },
            "baxis": {
             "endlinecolor": "#2a3f5f",
             "gridcolor": "white",
             "linecolor": "white",
             "minorgridcolor": "white",
             "startlinecolor": "#2a3f5f"
            },
            "type": "carpet"
           }
          ],
          "choropleth": [
           {
            "colorbar": {
             "outlinewidth": 0,
             "ticks": ""
            },
            "type": "choropleth"
           }
          ],
          "contour": [
           {
            "colorbar": {
             "outlinewidth": 0,
             "ticks": ""
            },
            "colorscale": [
             [
              0,
              "#0d0887"
             ],
             [
              0.1111111111111111,
              "#46039f"
             ],
             [
              0.2222222222222222,
              "#7201a8"
             ],
             [
              0.3333333333333333,
              "#9c179e"
             ],
             [
              0.4444444444444444,
              "#bd3786"
             ],
             [
              0.5555555555555556,
              "#d8576b"
             ],
             [
              0.6666666666666666,
              "#ed7953"
             ],
             [
              0.7777777777777778,
              "#fb9f3a"
             ],
             [
              0.8888888888888888,
              "#fdca26"
             ],
             [
              1,
              "#f0f921"
             ]
            ],
            "type": "contour"
           }
          ],
          "contourcarpet": [
           {
            "colorbar": {
             "outlinewidth": 0,
             "ticks": ""
            },
            "type": "contourcarpet"
           }
          ],
          "heatmap": [
           {
            "colorbar": {
             "outlinewidth": 0,
             "ticks": ""
            },
            "colorscale": [
             [
              0,
              "#0d0887"
             ],
             [
              0.1111111111111111,
              "#46039f"
             ],
             [
              0.2222222222222222,
              "#7201a8"
             ],
             [
              0.3333333333333333,
              "#9c179e"
             ],
             [
              0.4444444444444444,
              "#bd3786"
             ],
             [
              0.5555555555555556,
              "#d8576b"
             ],
             [
              0.6666666666666666,
              "#ed7953"
             ],
             [
              0.7777777777777778,
              "#fb9f3a"
             ],
             [
              0.8888888888888888,
              "#fdca26"
             ],
             [
              1,
              "#f0f921"
             ]
            ],
            "type": "heatmap"
           }
          ],
          "heatmapgl": [
           {
            "colorbar": {
             "outlinewidth": 0,
             "ticks": ""
            },
            "colorscale": [
             [
              0,
              "#0d0887"
             ],
             [
              0.1111111111111111,
              "#46039f"
             ],
             [
              0.2222222222222222,
              "#7201a8"
             ],
             [
              0.3333333333333333,
              "#9c179e"
             ],
             [
              0.4444444444444444,
              "#bd3786"
             ],
             [
              0.5555555555555556,
              "#d8576b"
             ],
             [
              0.6666666666666666,
              "#ed7953"
             ],
             [
              0.7777777777777778,
              "#fb9f3a"
             ],
             [
              0.8888888888888888,
              "#fdca26"
             ],
             [
              1,
              "#f0f921"
             ]
            ],
            "type": "heatmapgl"
           }
          ],
          "histogram": [
           {
            "marker": {
             "pattern": {
              "fillmode": "overlay",
              "size": 10,
              "solidity": 0.2
             }
            },
            "type": "histogram"
           }
          ],
          "histogram2d": [
           {
            "colorbar": {
             "outlinewidth": 0,
             "ticks": ""
            },
            "colorscale": [
             [
              0,
              "#0d0887"
             ],
             [
              0.1111111111111111,
              "#46039f"
             ],
             [
              0.2222222222222222,
              "#7201a8"
             ],
             [
              0.3333333333333333,
              "#9c179e"
             ],
             [
              0.4444444444444444,
              "#bd3786"
             ],
             [
              0.5555555555555556,
              "#d8576b"
             ],
             [
              0.6666666666666666,
              "#ed7953"
             ],
             [
              0.7777777777777778,
              "#fb9f3a"
             ],
             [
              0.8888888888888888,
              "#fdca26"
             ],
             [
              1,
              "#f0f921"
             ]
            ],
            "type": "histogram2d"
           }
          ],
          "histogram2dcontour": [
           {
            "colorbar": {
             "outlinewidth": 0,
             "ticks": ""
            },
            "colorscale": [
             [
              0,
              "#0d0887"
             ],
             [
              0.1111111111111111,
              "#46039f"
             ],
             [
              0.2222222222222222,
              "#7201a8"
             ],
             [
              0.3333333333333333,
              "#9c179e"
             ],
             [
              0.4444444444444444,
              "#bd3786"
             ],
             [
              0.5555555555555556,
              "#d8576b"
             ],
             [
              0.6666666666666666,
              "#ed7953"
             ],
             [
              0.7777777777777778,
              "#fb9f3a"
             ],
             [
              0.8888888888888888,
              "#fdca26"
             ],
             [
              1,
              "#f0f921"
             ]
            ],
            "type": "histogram2dcontour"
           }
          ],
          "mesh3d": [
           {
            "colorbar": {
             "outlinewidth": 0,
             "ticks": ""
            },
            "type": "mesh3d"
           }
          ],
          "parcoords": [
           {
            "line": {
             "colorbar": {
              "outlinewidth": 0,
              "ticks": ""
             }
            },
            "type": "parcoords"
           }
          ],
          "pie": [
           {
            "automargin": true,
            "type": "pie"
           }
          ],
          "scatter": [
           {
            "marker": {
             "colorbar": {
              "outlinewidth": 0,
              "ticks": ""
             }
            },
            "type": "scatter"
           }
          ],
          "scatter3d": [
           {
            "line": {
             "colorbar": {
              "outlinewidth": 0,
              "ticks": ""
             }
            },
            "marker": {
             "colorbar": {
              "outlinewidth": 0,
              "ticks": ""
             }
            },
            "type": "scatter3d"
           }
          ],
          "scattercarpet": [
           {
            "marker": {
             "colorbar": {
              "outlinewidth": 0,
              "ticks": ""
             }
            },
            "type": "scattercarpet"
           }
          ],
          "scattergeo": [
           {
            "marker": {
             "colorbar": {
              "outlinewidth": 0,
              "ticks": ""
             }
            },
            "type": "scattergeo"
           }
          ],
          "scattergl": [
           {
            "marker": {
             "colorbar": {
              "outlinewidth": 0,
              "ticks": ""
             }
            },
            "type": "scattergl"
           }
          ],
          "scattermapbox": [
           {
            "marker": {
             "colorbar": {
              "outlinewidth": 0,
              "ticks": ""
             }
            },
            "type": "scattermapbox"
           }
          ],
          "scatterpolar": [
           {
            "marker": {
             "colorbar": {
              "outlinewidth": 0,
              "ticks": ""
             }
            },
            "type": "scatterpolar"
           }
          ],
          "scatterpolargl": [
           {
            "marker": {
             "colorbar": {
              "outlinewidth": 0,
              "ticks": ""
             }
            },
            "type": "scatterpolargl"
           }
          ],
          "scatterternary": [
           {
            "marker": {
             "colorbar": {
              "outlinewidth": 0,
              "ticks": ""
             }
            },
            "type": "scatterternary"
           }
          ],
          "surface": [
           {
            "colorbar": {
             "outlinewidth": 0,
             "ticks": ""
            },
            "colorscale": [
             [
              0,
              "#0d0887"
             ],
             [
              0.1111111111111111,
              "#46039f"
             ],
             [
              0.2222222222222222,
              "#7201a8"
             ],
             [
              0.3333333333333333,
              "#9c179e"
             ],
             [
              0.4444444444444444,
              "#bd3786"
             ],
             [
              0.5555555555555556,
              "#d8576b"
             ],
             [
              0.6666666666666666,
              "#ed7953"
             ],
             [
              0.7777777777777778,
              "#fb9f3a"
             ],
             [
              0.8888888888888888,
              "#fdca26"
             ],
             [
              1,
              "#f0f921"
             ]
            ],
            "type": "surface"
           }
          ],
          "table": [
           {
            "cells": {
             "fill": {
              "color": "#EBF0F8"
             },
             "line": {
              "color": "white"
             }
            },
            "header": {
             "fill": {
              "color": "#C8D4E3"
             },
             "line": {
              "color": "white"
             }
            },
            "type": "table"
           }
          ]
         },
         "layout": {
          "annotationdefaults": {
           "arrowcolor": "#2a3f5f",
           "arrowhead": 0,
           "arrowwidth": 1
          },
          "autotypenumbers": "strict",
          "coloraxis": {
           "colorbar": {
            "outlinewidth": 0,
            "ticks": ""
           }
          },
          "colorscale": {
           "diverging": [
            [
             0,
             "#8e0152"
            ],
            [
             0.1,
             "#c51b7d"
            ],
            [
             0.2,
             "#de77ae"
            ],
            [
             0.3,
             "#f1b6da"
            ],
            [
             0.4,
             "#fde0ef"
            ],
            [
             0.5,
             "#f7f7f7"
            ],
            [
             0.6,
             "#e6f5d0"
            ],
            [
             0.7,
             "#b8e186"
            ],
            [
             0.8,
             "#7fbc41"
            ],
            [
             0.9,
             "#4d9221"
            ],
            [
             1,
             "#276419"
            ]
           ],
           "sequential": [
            [
             0,
             "#0d0887"
            ],
            [
             0.1111111111111111,
             "#46039f"
            ],
            [
             0.2222222222222222,
             "#7201a8"
            ],
            [
             0.3333333333333333,
             "#9c179e"
            ],
            [
             0.4444444444444444,
             "#bd3786"
            ],
            [
             0.5555555555555556,
             "#d8576b"
            ],
            [
             0.6666666666666666,
             "#ed7953"
            ],
            [
             0.7777777777777778,
             "#fb9f3a"
            ],
            [
             0.8888888888888888,
             "#fdca26"
            ],
            [
             1,
             "#f0f921"
            ]
           ],
           "sequentialminus": [
            [
             0,
             "#0d0887"
            ],
            [
             0.1111111111111111,
             "#46039f"
            ],
            [
             0.2222222222222222,
             "#7201a8"
            ],
            [
             0.3333333333333333,
             "#9c179e"
            ],
            [
             0.4444444444444444,
             "#bd3786"
            ],
            [
             0.5555555555555556,
             "#d8576b"
            ],
            [
             0.6666666666666666,
             "#ed7953"
            ],
            [
             0.7777777777777778,
             "#fb9f3a"
            ],
            [
             0.8888888888888888,
             "#fdca26"
            ],
            [
             1,
             "#f0f921"
            ]
           ]
          },
          "colorway": [
           "#636efa",
           "#EF553B",
           "#00cc96",
           "#ab63fa",
           "#FFA15A",
           "#19d3f3",
           "#FF6692",
           "#B6E880",
           "#FF97FF",
           "#FECB52"
          ],
          "font": {
           "color": "#2a3f5f"
          },
          "geo": {
           "bgcolor": "white",
           "lakecolor": "white",
           "landcolor": "#E5ECF6",
           "showlakes": true,
           "showland": true,
           "subunitcolor": "white"
          },
          "hoverlabel": {
           "align": "left"
          },
          "hovermode": "closest",
          "mapbox": {
           "style": "light"
          },
          "paper_bgcolor": "white",
          "plot_bgcolor": "#E5ECF6",
          "polar": {
           "angularaxis": {
            "gridcolor": "white",
            "linecolor": "white",
            "ticks": ""
           },
           "bgcolor": "#E5ECF6",
           "radialaxis": {
            "gridcolor": "white",
            "linecolor": "white",
            "ticks": ""
           }
          },
          "scene": {
           "xaxis": {
            "backgroundcolor": "#E5ECF6",
            "gridcolor": "white",
            "gridwidth": 2,
            "linecolor": "white",
            "showbackground": true,
            "ticks": "",
            "zerolinecolor": "white"
           },
           "yaxis": {
            "backgroundcolor": "#E5ECF6",
            "gridcolor": "white",
            "gridwidth": 2,
            "linecolor": "white",
            "showbackground": true,
            "ticks": "",
            "zerolinecolor": "white"
           },
           "zaxis": {
            "backgroundcolor": "#E5ECF6",
            "gridcolor": "white",
            "gridwidth": 2,
            "linecolor": "white",
            "showbackground": true,
            "ticks": "",
            "zerolinecolor": "white"
           }
          },
          "shapedefaults": {
           "line": {
            "color": "#2a3f5f"
           }
          },
          "ternary": {
           "aaxis": {
            "gridcolor": "white",
            "linecolor": "white",
            "ticks": ""
           },
           "baxis": {
            "gridcolor": "white",
            "linecolor": "white",
            "ticks": ""
           },
           "bgcolor": "#E5ECF6",
           "caxis": {
            "gridcolor": "white",
            "linecolor": "white",
            "ticks": ""
           }
          },
          "title": {
           "x": 0.05
          },
          "xaxis": {
           "automargin": true,
           "gridcolor": "white",
           "linecolor": "white",
           "ticks": "",
           "title": {
            "standoff": 15
           },
           "zerolinecolor": "white",
           "zerolinewidth": 2
          },
          "yaxis": {
           "automargin": true,
           "gridcolor": "white",
           "linecolor": "white",
           "ticks": "",
           "title": {
            "standoff": 15
           },
           "zerolinecolor": "white",
           "zerolinewidth": 2
          }
         }
        },
        "width": 600,
        "xaxis": {
         "anchor": "y",
         "domain": [
          0,
          1
         ],
         "title": {
          "text": "PC 1 (50.4%)"
         }
        },
        "yaxis": {
         "anchor": "x",
         "domain": [
          0,
          1
         ],
         "title": {
          "text": "PC 2 (18.1%)"
         }
        }
       }
      },
      "text/html": [
       "<div>                            <div id=\"b0012f98-bbe0-4333-bb35-118c1f4d5877\" class=\"plotly-graph-div\" style=\"height:600px; width:600px;\"></div>            <script type=\"text/javascript\">                require([\"plotly\"], function(Plotly) {                    window.PLOTLYENV=window.PLOTLYENV || {};                                    if (document.getElementById(\"b0012f98-bbe0-4333-bb35-118c1f4d5877\")) {                    Plotly.newPlot(                        \"b0012f98-bbe0-4333-bb35-118c1f4d5877\",                        [{\"hovertemplate\":\"color=0<br>symbol=33to38<br>0=%{x}<br>1=%{y}<extra></extra>\",\"legendgroup\":\"0, 33to38\",\"marker\":{\"color\":\"#636efa\",\"symbol\":\"circle\",\"size\":13},\"mode\":\"markers\",\"name\":\"0, 33to38\",\"orientation\":\"v\",\"showlegend\":true,\"x\":[10.605546944601855,-2.8338216649838674],\"xaxis\":\"x\",\"y\":[-3.2526221144724112,-6.4170264930729815],\"yaxis\":\"y\",\"type\":\"scatter\"},{\"hovertemplate\":\"color=0<br>symbol=38to33<br>0=%{x}<br>1=%{y}<extra></extra>\",\"legendgroup\":\"0, 38to33\",\"marker\":{\"color\":\"#636efa\",\"symbol\":\"diamond\",\"size\":13},\"mode\":\"markers\",\"name\":\"0, 38to33\",\"orientation\":\"v\",\"showlegend\":true,\"x\":[0.8232930818406718,-5.844873313015545],\"xaxis\":\"x\",\"y\":[5.891332318825961,-0.7722904657860391],\"yaxis\":\"y\",\"type\":\"scatter\"},{\"hovertemplate\":\"color=1<br>symbol=33to38<br>0=%{x}<br>1=%{y}<extra></extra>\",\"legendgroup\":\"1, 33to38\",\"marker\":{\"color\":\"#EF553B\",\"symbol\":\"circle\",\"size\":13},\"mode\":\"markers\",\"name\":\"1, 33to38\",\"orientation\":\"v\",\"showlegend\":true,\"x\":[10.382522239099773,-5.064776874629128],\"xaxis\":\"x\",\"y\":[-3.546837885030652,-5.977012410642761],\"yaxis\":\"y\",\"type\":\"scatter\"},{\"hovertemplate\":\"color=1<br>symbol=38to33<br>0=%{x}<br>1=%{y}<extra></extra>\",\"legendgroup\":\"1, 38to33\",\"marker\":{\"color\":\"#EF553B\",\"symbol\":\"diamond\",\"size\":13},\"mode\":\"markers\",\"name\":\"1, 38to33\",\"orientation\":\"v\",\"showlegend\":true,\"x\":[-0.14304812341762685,-7.303629062074594],\"xaxis\":\"x\",\"y\":[6.0783864040385325,-0.671447419124677],\"yaxis\":\"y\",\"type\":\"scatter\"},{\"hovertemplate\":\"color=3<br>symbol=33to38<br>0=%{x}<br>1=%{y}<extra></extra>\",\"legendgroup\":\"3, 33to38\",\"marker\":{\"color\":\"#00cc96\",\"symbol\":\"circle\",\"size\":13},\"mode\":\"markers\",\"name\":\"3, 33to38\",\"orientation\":\"v\",\"showlegend\":true,\"x\":[10.584942490767341,-7.257550823500347],\"xaxis\":\"x\",\"y\":[-3.6245219294614386,-5.542672320473253],\"yaxis\":\"y\",\"type\":\"scatter\"},{\"hovertemplate\":\"color=3<br>symbol=38to33<br>0=%{x}<br>1=%{y}<extra></extra>\",\"legendgroup\":\"3, 38to33\",\"marker\":{\"color\":\"#00cc96\",\"symbol\":\"diamond\",\"size\":13},\"mode\":\"markers\",\"name\":\"3, 38to33\",\"orientation\":\"v\",\"showlegend\":true,\"x\":[1.2898503829985544,-8.270470879966492],\"xaxis\":\"x\",\"y\":[7.359007325806974,-0.5330164728780863],\"yaxis\":\"y\",\"type\":\"scatter\"},{\"hovertemplate\":\"color=6<br>symbol=33to38<br>0=%{x}<br>1=%{y}<extra></extra>\",\"legendgroup\":\"6, 33to38\",\"marker\":{\"color\":\"#ab63fa\",\"symbol\":\"circle\",\"size\":13},\"mode\":\"markers\",\"name\":\"6, 33to38\",\"orientation\":\"v\",\"showlegend\":true,\"x\":[11.084280237622217,-6.735459044870035],\"xaxis\":\"x\",\"y\":[-2.1915153309258297,-1.7392627699182746],\"yaxis\":\"y\",\"type\":\"scatter\"},{\"hovertemplate\":\"color=6<br>symbol=38to33<br>0=%{x}<br>1=%{y}<extra></extra>\",\"legendgroup\":\"6, 38to33\",\"marker\":{\"color\":\"#ab63fa\",\"symbol\":\"diamond\",\"size\":13},\"mode\":\"markers\",\"name\":\"6, 38to33\",\"orientation\":\"v\",\"showlegend\":true,\"x\":[0.9567515654396339,-6.945121877244291],\"xaxis\":\"x\",\"y\":[7.329984898050894,1.7021084978051988],\"yaxis\":\"y\",\"type\":\"scatter\"},{\"hovertemplate\":\"color=9<br>symbol=33to38<br>0=%{x}<br>1=%{y}<extra></extra>\",\"legendgroup\":\"9, 33to38\",\"marker\":{\"color\":\"#FFA15A\",\"symbol\":\"circle\",\"size\":13},\"mode\":\"markers\",\"name\":\"9, 33to38\",\"orientation\":\"v\",\"showlegend\":true,\"x\":[10.954565653047677,-6.816659842695357],\"xaxis\":\"x\",\"y\":[-1.1170589397775315,0.21887801588452852],\"yaxis\":\"y\",\"type\":\"scatter\"},{\"hovertemplate\":\"color=9<br>symbol=38to33<br>0=%{x}<br>1=%{y}<extra></extra>\",\"legendgroup\":\"9, 38to33\",\"marker\":{\"color\":\"#FFA15A\",\"symbol\":\"diamond\",\"size\":13},\"mode\":\"markers\",\"name\":\"9, 38to33\",\"orientation\":\"v\",\"showlegend\":true,\"x\":[5.879548288925774,-5.345889377946198],\"xaxis\":\"x\",\"y\":[5.451897778237721,1.353689312914124],\"yaxis\":\"y\",\"type\":\"scatter\"}],                        {\"template\":{\"data\":{\"bar\":[{\"error_x\":{\"color\":\"#2a3f5f\"},\"error_y\":{\"color\":\"#2a3f5f\"},\"marker\":{\"line\":{\"color\":\"#E5ECF6\",\"width\":0.5},\"pattern\":{\"fillmode\":\"overlay\",\"size\":10,\"solidity\":0.2}},\"type\":\"bar\"}],\"barpolar\":[{\"marker\":{\"line\":{\"color\":\"#E5ECF6\",\"width\":0.5},\"pattern\":{\"fillmode\":\"overlay\",\"size\":10,\"solidity\":0.2}},\"type\":\"barpolar\"}],\"carpet\":[{\"aaxis\":{\"endlinecolor\":\"#2a3f5f\",\"gridcolor\":\"white\",\"linecolor\":\"white\",\"minorgridcolor\":\"white\",\"startlinecolor\":\"#2a3f5f\"},\"baxis\":{\"endlinecolor\":\"#2a3f5f\",\"gridcolor\":\"white\",\"linecolor\":\"white\",\"minorgridcolor\":\"white\",\"startlinecolor\":\"#2a3f5f\"},\"type\":\"carpet\"}],\"choropleth\":[{\"colorbar\":{\"outlinewidth\":0,\"ticks\":\"\"},\"type\":\"choropleth\"}],\"contour\":[{\"colorbar\":{\"outlinewidth\":0,\"ticks\":\"\"},\"colorscale\":[[0.0,\"#0d0887\"],[0.1111111111111111,\"#46039f\"],[0.2222222222222222,\"#7201a8\"],[0.3333333333333333,\"#9c179e\"],[0.4444444444444444,\"#bd3786\"],[0.5555555555555556,\"#d8576b\"],[0.6666666666666666,\"#ed7953\"],[0.7777777777777778,\"#fb9f3a\"],[0.8888888888888888,\"#fdca26\"],[1.0,\"#f0f921\"]],\"type\":\"contour\"}],\"contourcarpet\":[{\"colorbar\":{\"outlinewidth\":0,\"ticks\":\"\"},\"type\":\"contourcarpet\"}],\"heatmap\":[{\"colorbar\":{\"outlinewidth\":0,\"ticks\":\"\"},\"colorscale\":[[0.0,\"#0d0887\"],[0.1111111111111111,\"#46039f\"],[0.2222222222222222,\"#7201a8\"],[0.3333333333333333,\"#9c179e\"],[0.4444444444444444,\"#bd3786\"],[0.5555555555555556,\"#d8576b\"],[0.6666666666666666,\"#ed7953\"],[0.7777777777777778,\"#fb9f3a\"],[0.8888888888888888,\"#fdca26\"],[1.0,\"#f0f921\"]],\"type\":\"heatmap\"}],\"heatmapgl\":[{\"colorbar\":{\"outlinewidth\":0,\"ticks\":\"\"},\"colorscale\":[[0.0,\"#0d0887\"],[0.1111111111111111,\"#46039f\"],[0.2222222222222222,\"#7201a8\"],[0.3333333333333333,\"#9c179e\"],[0.4444444444444444,\"#bd3786\"],[0.5555555555555556,\"#d8576b\"],[0.6666666666666666,\"#ed7953\"],[0.7777777777777778,\"#fb9f3a\"],[0.8888888888888888,\"#fdca26\"],[1.0,\"#f0f921\"]],\"type\":\"heatmapgl\"}],\"histogram\":[{\"marker\":{\"pattern\":{\"fillmode\":\"overlay\",\"size\":10,\"solidity\":0.2}},\"type\":\"histogram\"}],\"histogram2d\":[{\"colorbar\":{\"outlinewidth\":0,\"ticks\":\"\"},\"colorscale\":[[0.0,\"#0d0887\"],[0.1111111111111111,\"#46039f\"],[0.2222222222222222,\"#7201a8\"],[0.3333333333333333,\"#9c179e\"],[0.4444444444444444,\"#bd3786\"],[0.5555555555555556,\"#d8576b\"],[0.6666666666666666,\"#ed7953\"],[0.7777777777777778,\"#fb9f3a\"],[0.8888888888888888,\"#fdca26\"],[1.0,\"#f0f921\"]],\"type\":\"histogram2d\"}],\"histogram2dcontour\":[{\"colorbar\":{\"outlinewidth\":0,\"ticks\":\"\"},\"colorscale\":[[0.0,\"#0d0887\"],[0.1111111111111111,\"#46039f\"],[0.2222222222222222,\"#7201a8\"],[0.3333333333333333,\"#9c179e\"],[0.4444444444444444,\"#bd3786\"],[0.5555555555555556,\"#d8576b\"],[0.6666666666666666,\"#ed7953\"],[0.7777777777777778,\"#fb9f3a\"],[0.8888888888888888,\"#fdca26\"],[1.0,\"#f0f921\"]],\"type\":\"histogram2dcontour\"}],\"mesh3d\":[{\"colorbar\":{\"outlinewidth\":0,\"ticks\":\"\"},\"type\":\"mesh3d\"}],\"parcoords\":[{\"line\":{\"colorbar\":{\"outlinewidth\":0,\"ticks\":\"\"}},\"type\":\"parcoords\"}],\"pie\":[{\"automargin\":true,\"type\":\"pie\"}],\"scatter\":[{\"marker\":{\"colorbar\":{\"outlinewidth\":0,\"ticks\":\"\"}},\"type\":\"scatter\"}],\"scatter3d\":[{\"line\":{\"colorbar\":{\"outlinewidth\":0,\"ticks\":\"\"}},\"marker\":{\"colorbar\":{\"outlinewidth\":0,\"ticks\":\"\"}},\"type\":\"scatter3d\"}],\"scattercarpet\":[{\"marker\":{\"colorbar\":{\"outlinewidth\":0,\"ticks\":\"\"}},\"type\":\"scattercarpet\"}],\"scattergeo\":[{\"marker\":{\"colorbar\":{\"outlinewidth\":0,\"ticks\":\"\"}},\"type\":\"scattergeo\"}],\"scattergl\":[{\"marker\":{\"colorbar\":{\"outlinewidth\":0,\"ticks\":\"\"}},\"type\":\"scattergl\"}],\"scattermapbox\":[{\"marker\":{\"colorbar\":{\"outlinewidth\":0,\"ticks\":\"\"}},\"type\":\"scattermapbox\"}],\"scatterpolar\":[{\"marker\":{\"colorbar\":{\"outlinewidth\":0,\"ticks\":\"\"}},\"type\":\"scatterpolar\"}],\"scatterpolargl\":[{\"marker\":{\"colorbar\":{\"outlinewidth\":0,\"ticks\":\"\"}},\"type\":\"scatterpolargl\"}],\"scatterternary\":[{\"marker\":{\"colorbar\":{\"outlinewidth\":0,\"ticks\":\"\"}},\"type\":\"scatterternary\"}],\"surface\":[{\"colorbar\":{\"outlinewidth\":0,\"ticks\":\"\"},\"colorscale\":[[0.0,\"#0d0887\"],[0.1111111111111111,\"#46039f\"],[0.2222222222222222,\"#7201a8\"],[0.3333333333333333,\"#9c179e\"],[0.4444444444444444,\"#bd3786\"],[0.5555555555555556,\"#d8576b\"],[0.6666666666666666,\"#ed7953\"],[0.7777777777777778,\"#fb9f3a\"],[0.8888888888888888,\"#fdca26\"],[1.0,\"#f0f921\"]],\"type\":\"surface\"}],\"table\":[{\"cells\":{\"fill\":{\"color\":\"#EBF0F8\"},\"line\":{\"color\":\"white\"}},\"header\":{\"fill\":{\"color\":\"#C8D4E3\"},\"line\":{\"color\":\"white\"}},\"type\":\"table\"}]},\"layout\":{\"annotationdefaults\":{\"arrowcolor\":\"#2a3f5f\",\"arrowhead\":0,\"arrowwidth\":1},\"autotypenumbers\":\"strict\",\"coloraxis\":{\"colorbar\":{\"outlinewidth\":0,\"ticks\":\"\"}},\"colorscale\":{\"diverging\":[[0,\"#8e0152\"],[0.1,\"#c51b7d\"],[0.2,\"#de77ae\"],[0.3,\"#f1b6da\"],[0.4,\"#fde0ef\"],[0.5,\"#f7f7f7\"],[0.6,\"#e6f5d0\"],[0.7,\"#b8e186\"],[0.8,\"#7fbc41\"],[0.9,\"#4d9221\"],[1,\"#276419\"]],\"sequential\":[[0.0,\"#0d0887\"],[0.1111111111111111,\"#46039f\"],[0.2222222222222222,\"#7201a8\"],[0.3333333333333333,\"#9c179e\"],[0.4444444444444444,\"#bd3786\"],[0.5555555555555556,\"#d8576b\"],[0.6666666666666666,\"#ed7953\"],[0.7777777777777778,\"#fb9f3a\"],[0.8888888888888888,\"#fdca26\"],[1.0,\"#f0f921\"]],\"sequentialminus\":[[0.0,\"#0d0887\"],[0.1111111111111111,\"#46039f\"],[0.2222222222222222,\"#7201a8\"],[0.3333333333333333,\"#9c179e\"],[0.4444444444444444,\"#bd3786\"],[0.5555555555555556,\"#d8576b\"],[0.6666666666666666,\"#ed7953\"],[0.7777777777777778,\"#fb9f3a\"],[0.8888888888888888,\"#fdca26\"],[1.0,\"#f0f921\"]]},\"colorway\":[\"#636efa\",\"#EF553B\",\"#00cc96\",\"#ab63fa\",\"#FFA15A\",\"#19d3f3\",\"#FF6692\",\"#B6E880\",\"#FF97FF\",\"#FECB52\"],\"font\":{\"color\":\"#2a3f5f\"},\"geo\":{\"bgcolor\":\"white\",\"lakecolor\":\"white\",\"landcolor\":\"#E5ECF6\",\"showlakes\":true,\"showland\":true,\"subunitcolor\":\"white\"},\"hoverlabel\":{\"align\":\"left\"},\"hovermode\":\"closest\",\"mapbox\":{\"style\":\"light\"},\"paper_bgcolor\":\"white\",\"plot_bgcolor\":\"#E5ECF6\",\"polar\":{\"angularaxis\":{\"gridcolor\":\"white\",\"linecolor\":\"white\",\"ticks\":\"\"},\"bgcolor\":\"#E5ECF6\",\"radialaxis\":{\"gridcolor\":\"white\",\"linecolor\":\"white\",\"ticks\":\"\"}},\"scene\":{\"xaxis\":{\"backgroundcolor\":\"#E5ECF6\",\"gridcolor\":\"white\",\"gridwidth\":2,\"linecolor\":\"white\",\"showbackground\":true,\"ticks\":\"\",\"zerolinecolor\":\"white\"},\"yaxis\":{\"backgroundcolor\":\"#E5ECF6\",\"gridcolor\":\"white\",\"gridwidth\":2,\"linecolor\":\"white\",\"showbackground\":true,\"ticks\":\"\",\"zerolinecolor\":\"white\"},\"zaxis\":{\"backgroundcolor\":\"#E5ECF6\",\"gridcolor\":\"white\",\"gridwidth\":2,\"linecolor\":\"white\",\"showbackground\":true,\"ticks\":\"\",\"zerolinecolor\":\"white\"}},\"shapedefaults\":{\"line\":{\"color\":\"#2a3f5f\"}},\"ternary\":{\"aaxis\":{\"gridcolor\":\"white\",\"linecolor\":\"white\",\"ticks\":\"\"},\"baxis\":{\"gridcolor\":\"white\",\"linecolor\":\"white\",\"ticks\":\"\"},\"bgcolor\":\"#E5ECF6\",\"caxis\":{\"gridcolor\":\"white\",\"linecolor\":\"white\",\"ticks\":\"\"}},\"title\":{\"x\":0.05},\"xaxis\":{\"automargin\":true,\"gridcolor\":\"white\",\"linecolor\":\"white\",\"ticks\":\"\",\"title\":{\"standoff\":15},\"zerolinecolor\":\"white\",\"zerolinewidth\":2},\"yaxis\":{\"automargin\":true,\"gridcolor\":\"white\",\"linecolor\":\"white\",\"ticks\":\"\",\"title\":{\"standoff\":15},\"zerolinecolor\":\"white\",\"zerolinewidth\":2}}},\"xaxis\":{\"anchor\":\"y\",\"domain\":[0.0,1.0],\"title\":{\"text\":\"PC 1 (50.4%)\"}},\"yaxis\":{\"anchor\":\"x\",\"domain\":[0.0,1.0],\"title\":{\"text\":\"PC 2 (18.1%)\"}},\"legend\":{\"title\":{\"text\":\"color, symbol\"},\"tracegroupgap\":0},\"margin\":{\"t\":60},\"height\":600,\"width\":600,\"plot_bgcolor\":\"rgb(243,243,243)\"},                        {\"responsive\": true}                    ).then(function(){\n",
       "                            \n",
       "var gd = document.getElementById('b0012f98-bbe0-4333-bb35-118c1f4d5877');\n",
       "var x = new MutationObserver(function (mutations, observer) {{\n",
       "        var display = window.getComputedStyle(gd).display;\n",
       "        if (!display || display === 'none') {{\n",
       "            console.log([gd, 'removed!']);\n",
       "            Plotly.purge(gd);\n",
       "            observer.disconnect();\n",
       "        }}\n",
       "}});\n",
       "\n",
       "// Listen for the removal of the full notebook cells\n",
       "var notebookContainer = gd.closest('#notebook-container');\n",
       "if (notebookContainer) {{\n",
       "    x.observe(notebookContainer, {childList: true});\n",
       "}}\n",
       "\n",
       "// Listen for the clearing of the current output cell\n",
       "var outputEl = gd.closest('.output');\n",
       "if (outputEl) {{\n",
       "    x.observe(outputEl, {childList: true});\n",
       "}}\n",
       "\n",
       "                        })                };                });            </script>        </div>"
      ]
     },
     "metadata": {},
     "output_type": "display_data"
    },
    {
     "data": {
      "application/vnd.plotly.v1+json": {
       "config": {
        "plotlyServerURL": "https://plot.ly"
       },
       "data": [
        {
         "hovertemplate": "color=13<br>symbol=exon<br>0=%{x}<br>1=%{y}<extra></extra>",
         "legendgroup": "13, exon",
         "marker": {
          "color": "#636efa",
          "size": 13,
          "symbol": "circle"
         },
         "mode": "markers",
         "name": "13, exon",
         "orientation": "v",
         "showlegend": true,
         "type": "scatter",
         "x": [
          10.605546944602311,
          10.382522239100101,
          10.58494249076941,
          11.084280237609414,
          10.954565653058612
         ],
         "xaxis": "x",
         "y": [
          -3.252622112164318,
          -3.54683788813761,
          -3.6245219287573165,
          -2.1915153301108985,
          -1.1170589407233003
         ],
         "yaxis": "y"
        },
        {
         "hovertemplate": "color=2<br>symbol=exon<br>0=%{x}<br>1=%{y}<extra></extra>",
         "legendgroup": "2, exon",
         "marker": {
          "color": "#EF553B",
          "size": 13,
          "symbol": "circle"
         },
         "mode": "markers",
         "name": "2, exon",
         "orientation": "v",
         "showlegend": true,
         "type": "scatter",
         "x": [
          -2.833821664981473,
          -5.064776874641886,
          -7.257550823489936,
          -6.735459044858722,
          -6.816659842707502
         ],
         "xaxis": "x",
         "y": [
          -6.4170264973877185,
          -5.9770124054271125,
          -5.542672319080904,
          -1.7392627772623903,
          0.2188780217668147
         ],
         "yaxis": "y"
        },
        {
         "hovertemplate": "color=11<br>symbol=exon<br>0=%{x}<br>1=%{y}<extra></extra>",
         "legendgroup": "11, exon",
         "marker": {
          "color": "#00cc96",
          "size": 13,
          "symbol": "circle"
         },
         "mode": "markers",
         "name": "11, exon",
         "orientation": "v",
         "showlegend": true,
         "type": "scatter",
         "x": [
          0.8232930818570667,
          -0.14304812344252596,
          1.2898503830044745,
          0.9567515654419748,
          5.879548288925288
         ],
         "xaxis": "x",
         "y": [
          5.891332319683047,
          6.078386397831672,
          7.359007331531424,
          7.329984897216792,
          5.451897778866644
         ],
         "yaxis": "y"
        },
        {
         "hovertemplate": "color=5<br>symbol=exon<br>0=%{x}<br>1=%{y}<extra></extra>",
         "legendgroup": "5, exon",
         "marker": {
          "color": "#ab63fa",
          "size": 13,
          "symbol": "circle"
         },
         "mode": "markers",
         "name": "5, exon",
         "orientation": "v",
         "showlegend": true,
         "type": "scatter",
         "x": [
          -5.84487331301815,
          -7.303629062077173,
          -8.270470879963865,
          -6.945121877233645,
          -5.34588937795378
         ],
         "xaxis": "x",
         "y": [
          -0.7722904627291515,
          -0.6714474228313391,
          -0.533016468544913,
          1.7021084931160715,
          1.353689313144517
         ],
         "yaxis": "y"
        }
       ],
       "layout": {
        "height": 600,
        "legend": {
         "title": {
          "text": "color, symbol"
         },
         "tracegroupgap": 0
        },
        "margin": {
         "t": 60
        },
        "plot_bgcolor": "rgb(243,243,243)",
        "template": {
         "data": {
          "bar": [
           {
            "error_x": {
             "color": "#2a3f5f"
            },
            "error_y": {
             "color": "#2a3f5f"
            },
            "marker": {
             "line": {
              "color": "#E5ECF6",
              "width": 0.5
             },
             "pattern": {
              "fillmode": "overlay",
              "size": 10,
              "solidity": 0.2
             }
            },
            "type": "bar"
           }
          ],
          "barpolar": [
           {
            "marker": {
             "line": {
              "color": "#E5ECF6",
              "width": 0.5
             },
             "pattern": {
              "fillmode": "overlay",
              "size": 10,
              "solidity": 0.2
             }
            },
            "type": "barpolar"
           }
          ],
          "carpet": [
           {
            "aaxis": {
             "endlinecolor": "#2a3f5f",
             "gridcolor": "white",
             "linecolor": "white",
             "minorgridcolor": "white",
             "startlinecolor": "#2a3f5f"
            },
            "baxis": {
             "endlinecolor": "#2a3f5f",
             "gridcolor": "white",
             "linecolor": "white",
             "minorgridcolor": "white",
             "startlinecolor": "#2a3f5f"
            },
            "type": "carpet"
           }
          ],
          "choropleth": [
           {
            "colorbar": {
             "outlinewidth": 0,
             "ticks": ""
            },
            "type": "choropleth"
           }
          ],
          "contour": [
           {
            "colorbar": {
             "outlinewidth": 0,
             "ticks": ""
            },
            "colorscale": [
             [
              0,
              "#0d0887"
             ],
             [
              0.1111111111111111,
              "#46039f"
             ],
             [
              0.2222222222222222,
              "#7201a8"
             ],
             [
              0.3333333333333333,
              "#9c179e"
             ],
             [
              0.4444444444444444,
              "#bd3786"
             ],
             [
              0.5555555555555556,
              "#d8576b"
             ],
             [
              0.6666666666666666,
              "#ed7953"
             ],
             [
              0.7777777777777778,
              "#fb9f3a"
             ],
             [
              0.8888888888888888,
              "#fdca26"
             ],
             [
              1,
              "#f0f921"
             ]
            ],
            "type": "contour"
           }
          ],
          "contourcarpet": [
           {
            "colorbar": {
             "outlinewidth": 0,
             "ticks": ""
            },
            "type": "contourcarpet"
           }
          ],
          "heatmap": [
           {
            "colorbar": {
             "outlinewidth": 0,
             "ticks": ""
            },
            "colorscale": [
             [
              0,
              "#0d0887"
             ],
             [
              0.1111111111111111,
              "#46039f"
             ],
             [
              0.2222222222222222,
              "#7201a8"
             ],
             [
              0.3333333333333333,
              "#9c179e"
             ],
             [
              0.4444444444444444,
              "#bd3786"
             ],
             [
              0.5555555555555556,
              "#d8576b"
             ],
             [
              0.6666666666666666,
              "#ed7953"
             ],
             [
              0.7777777777777778,
              "#fb9f3a"
             ],
             [
              0.8888888888888888,
              "#fdca26"
             ],
             [
              1,
              "#f0f921"
             ]
            ],
            "type": "heatmap"
           }
          ],
          "heatmapgl": [
           {
            "colorbar": {
             "outlinewidth": 0,
             "ticks": ""
            },
            "colorscale": [
             [
              0,
              "#0d0887"
             ],
             [
              0.1111111111111111,
              "#46039f"
             ],
             [
              0.2222222222222222,
              "#7201a8"
             ],
             [
              0.3333333333333333,
              "#9c179e"
             ],
             [
              0.4444444444444444,
              "#bd3786"
             ],
             [
              0.5555555555555556,
              "#d8576b"
             ],
             [
              0.6666666666666666,
              "#ed7953"
             ],
             [
              0.7777777777777778,
              "#fb9f3a"
             ],
             [
              0.8888888888888888,
              "#fdca26"
             ],
             [
              1,
              "#f0f921"
             ]
            ],
            "type": "heatmapgl"
           }
          ],
          "histogram": [
           {
            "marker": {
             "pattern": {
              "fillmode": "overlay",
              "size": 10,
              "solidity": 0.2
             }
            },
            "type": "histogram"
           }
          ],
          "histogram2d": [
           {
            "colorbar": {
             "outlinewidth": 0,
             "ticks": ""
            },
            "colorscale": [
             [
              0,
              "#0d0887"
             ],
             [
              0.1111111111111111,
              "#46039f"
             ],
             [
              0.2222222222222222,
              "#7201a8"
             ],
             [
              0.3333333333333333,
              "#9c179e"
             ],
             [
              0.4444444444444444,
              "#bd3786"
             ],
             [
              0.5555555555555556,
              "#d8576b"
             ],
             [
              0.6666666666666666,
              "#ed7953"
             ],
             [
              0.7777777777777778,
              "#fb9f3a"
             ],
             [
              0.8888888888888888,
              "#fdca26"
             ],
             [
              1,
              "#f0f921"
             ]
            ],
            "type": "histogram2d"
           }
          ],
          "histogram2dcontour": [
           {
            "colorbar": {
             "outlinewidth": 0,
             "ticks": ""
            },
            "colorscale": [
             [
              0,
              "#0d0887"
             ],
             [
              0.1111111111111111,
              "#46039f"
             ],
             [
              0.2222222222222222,
              "#7201a8"
             ],
             [
              0.3333333333333333,
              "#9c179e"
             ],
             [
              0.4444444444444444,
              "#bd3786"
             ],
             [
              0.5555555555555556,
              "#d8576b"
             ],
             [
              0.6666666666666666,
              "#ed7953"
             ],
             [
              0.7777777777777778,
              "#fb9f3a"
             ],
             [
              0.8888888888888888,
              "#fdca26"
             ],
             [
              1,
              "#f0f921"
             ]
            ],
            "type": "histogram2dcontour"
           }
          ],
          "mesh3d": [
           {
            "colorbar": {
             "outlinewidth": 0,
             "ticks": ""
            },
            "type": "mesh3d"
           }
          ],
          "parcoords": [
           {
            "line": {
             "colorbar": {
              "outlinewidth": 0,
              "ticks": ""
             }
            },
            "type": "parcoords"
           }
          ],
          "pie": [
           {
            "automargin": true,
            "type": "pie"
           }
          ],
          "scatter": [
           {
            "marker": {
             "colorbar": {
              "outlinewidth": 0,
              "ticks": ""
             }
            },
            "type": "scatter"
           }
          ],
          "scatter3d": [
           {
            "line": {
             "colorbar": {
              "outlinewidth": 0,
              "ticks": ""
             }
            },
            "marker": {
             "colorbar": {
              "outlinewidth": 0,
              "ticks": ""
             }
            },
            "type": "scatter3d"
           }
          ],
          "scattercarpet": [
           {
            "marker": {
             "colorbar": {
              "outlinewidth": 0,
              "ticks": ""
             }
            },
            "type": "scattercarpet"
           }
          ],
          "scattergeo": [
           {
            "marker": {
             "colorbar": {
              "outlinewidth": 0,
              "ticks": ""
             }
            },
            "type": "scattergeo"
           }
          ],
          "scattergl": [
           {
            "marker": {
             "colorbar": {
              "outlinewidth": 0,
              "ticks": ""
             }
            },
            "type": "scattergl"
           }
          ],
          "scattermapbox": [
           {
            "marker": {
             "colorbar": {
              "outlinewidth": 0,
              "ticks": ""
             }
            },
            "type": "scattermapbox"
           }
          ],
          "scatterpolar": [
           {
            "marker": {
             "colorbar": {
              "outlinewidth": 0,
              "ticks": ""
             }
            },
            "type": "scatterpolar"
           }
          ],
          "scatterpolargl": [
           {
            "marker": {
             "colorbar": {
              "outlinewidth": 0,
              "ticks": ""
             }
            },
            "type": "scatterpolargl"
           }
          ],
          "scatterternary": [
           {
            "marker": {
             "colorbar": {
              "outlinewidth": 0,
              "ticks": ""
             }
            },
            "type": "scatterternary"
           }
          ],
          "surface": [
           {
            "colorbar": {
             "outlinewidth": 0,
             "ticks": ""
            },
            "colorscale": [
             [
              0,
              "#0d0887"
             ],
             [
              0.1111111111111111,
              "#46039f"
             ],
             [
              0.2222222222222222,
              "#7201a8"
             ],
             [
              0.3333333333333333,
              "#9c179e"
             ],
             [
              0.4444444444444444,
              "#bd3786"
             ],
             [
              0.5555555555555556,
              "#d8576b"
             ],
             [
              0.6666666666666666,
              "#ed7953"
             ],
             [
              0.7777777777777778,
              "#fb9f3a"
             ],
             [
              0.8888888888888888,
              "#fdca26"
             ],
             [
              1,
              "#f0f921"
             ]
            ],
            "type": "surface"
           }
          ],
          "table": [
           {
            "cells": {
             "fill": {
              "color": "#EBF0F8"
             },
             "line": {
              "color": "white"
             }
            },
            "header": {
             "fill": {
              "color": "#C8D4E3"
             },
             "line": {
              "color": "white"
             }
            },
            "type": "table"
           }
          ]
         },
         "layout": {
          "annotationdefaults": {
           "arrowcolor": "#2a3f5f",
           "arrowhead": 0,
           "arrowwidth": 1
          },
          "autotypenumbers": "strict",
          "coloraxis": {
           "colorbar": {
            "outlinewidth": 0,
            "ticks": ""
           }
          },
          "colorscale": {
           "diverging": [
            [
             0,
             "#8e0152"
            ],
            [
             0.1,
             "#c51b7d"
            ],
            [
             0.2,
             "#de77ae"
            ],
            [
             0.3,
             "#f1b6da"
            ],
            [
             0.4,
             "#fde0ef"
            ],
            [
             0.5,
             "#f7f7f7"
            ],
            [
             0.6,
             "#e6f5d0"
            ],
            [
             0.7,
             "#b8e186"
            ],
            [
             0.8,
             "#7fbc41"
            ],
            [
             0.9,
             "#4d9221"
            ],
            [
             1,
             "#276419"
            ]
           ],
           "sequential": [
            [
             0,
             "#0d0887"
            ],
            [
             0.1111111111111111,
             "#46039f"
            ],
            [
             0.2222222222222222,
             "#7201a8"
            ],
            [
             0.3333333333333333,
             "#9c179e"
            ],
            [
             0.4444444444444444,
             "#bd3786"
            ],
            [
             0.5555555555555556,
             "#d8576b"
            ],
            [
             0.6666666666666666,
             "#ed7953"
            ],
            [
             0.7777777777777778,
             "#fb9f3a"
            ],
            [
             0.8888888888888888,
             "#fdca26"
            ],
            [
             1,
             "#f0f921"
            ]
           ],
           "sequentialminus": [
            [
             0,
             "#0d0887"
            ],
            [
             0.1111111111111111,
             "#46039f"
            ],
            [
             0.2222222222222222,
             "#7201a8"
            ],
            [
             0.3333333333333333,
             "#9c179e"
            ],
            [
             0.4444444444444444,
             "#bd3786"
            ],
            [
             0.5555555555555556,
             "#d8576b"
            ],
            [
             0.6666666666666666,
             "#ed7953"
            ],
            [
             0.7777777777777778,
             "#fb9f3a"
            ],
            [
             0.8888888888888888,
             "#fdca26"
            ],
            [
             1,
             "#f0f921"
            ]
           ]
          },
          "colorway": [
           "#636efa",
           "#EF553B",
           "#00cc96",
           "#ab63fa",
           "#FFA15A",
           "#19d3f3",
           "#FF6692",
           "#B6E880",
           "#FF97FF",
           "#FECB52"
          ],
          "font": {
           "color": "#2a3f5f"
          },
          "geo": {
           "bgcolor": "white",
           "lakecolor": "white",
           "landcolor": "#E5ECF6",
           "showlakes": true,
           "showland": true,
           "subunitcolor": "white"
          },
          "hoverlabel": {
           "align": "left"
          },
          "hovermode": "closest",
          "mapbox": {
           "style": "light"
          },
          "paper_bgcolor": "white",
          "plot_bgcolor": "#E5ECF6",
          "polar": {
           "angularaxis": {
            "gridcolor": "white",
            "linecolor": "white",
            "ticks": ""
           },
           "bgcolor": "#E5ECF6",
           "radialaxis": {
            "gridcolor": "white",
            "linecolor": "white",
            "ticks": ""
           }
          },
          "scene": {
           "xaxis": {
            "backgroundcolor": "#E5ECF6",
            "gridcolor": "white",
            "gridwidth": 2,
            "linecolor": "white",
            "showbackground": true,
            "ticks": "",
            "zerolinecolor": "white"
           },
           "yaxis": {
            "backgroundcolor": "#E5ECF6",
            "gridcolor": "white",
            "gridwidth": 2,
            "linecolor": "white",
            "showbackground": true,
            "ticks": "",
            "zerolinecolor": "white"
           },
           "zaxis": {
            "backgroundcolor": "#E5ECF6",
            "gridcolor": "white",
            "gridwidth": 2,
            "linecolor": "white",
            "showbackground": true,
            "ticks": "",
            "zerolinecolor": "white"
           }
          },
          "shapedefaults": {
           "line": {
            "color": "#2a3f5f"
           }
          },
          "ternary": {
           "aaxis": {
            "gridcolor": "white",
            "linecolor": "white",
            "ticks": ""
           },
           "baxis": {
            "gridcolor": "white",
            "linecolor": "white",
            "ticks": ""
           },
           "bgcolor": "#E5ECF6",
           "caxis": {
            "gridcolor": "white",
            "linecolor": "white",
            "ticks": ""
           }
          },
          "title": {
           "x": 0.05
          },
          "xaxis": {
           "automargin": true,
           "gridcolor": "white",
           "linecolor": "white",
           "ticks": "",
           "title": {
            "standoff": 15
           },
           "zerolinecolor": "white",
           "zerolinewidth": 2
          },
          "yaxis": {
           "automargin": true,
           "gridcolor": "white",
           "linecolor": "white",
           "ticks": "",
           "title": {
            "standoff": 15
           },
           "zerolinecolor": "white",
           "zerolinewidth": 2
          }
         }
        },
        "width": 600,
        "xaxis": {
         "anchor": "y",
         "domain": [
          0,
          1
         ],
         "title": {
          "text": "PC 1 (50.4%)"
         }
        },
        "yaxis": {
         "anchor": "x",
         "domain": [
          0,
          1
         ],
         "title": {
          "text": "PC 2 (18.1%)"
         }
        }
       }
      },
      "text/html": [
       "<div>                            <div id=\"c854677c-4ef7-4291-87ef-3a962e0d993c\" class=\"plotly-graph-div\" style=\"height:600px; width:600px;\"></div>            <script type=\"text/javascript\">                require([\"plotly\"], function(Plotly) {                    window.PLOTLYENV=window.PLOTLYENV || {};                                    if (document.getElementById(\"c854677c-4ef7-4291-87ef-3a962e0d993c\")) {                    Plotly.newPlot(                        \"c854677c-4ef7-4291-87ef-3a962e0d993c\",                        [{\"hovertemplate\":\"color=13<br>symbol=exon<br>0=%{x}<br>1=%{y}<extra></extra>\",\"legendgroup\":\"13, exon\",\"marker\":{\"color\":\"#636efa\",\"symbol\":\"circle\",\"size\":13},\"mode\":\"markers\",\"name\":\"13, exon\",\"orientation\":\"v\",\"showlegend\":true,\"x\":[10.605546944602311,10.382522239100101,10.58494249076941,11.084280237609414,10.954565653058612],\"xaxis\":\"x\",\"y\":[-3.252622112164318,-3.54683788813761,-3.6245219287573165,-2.1915153301108985,-1.1170589407233003],\"yaxis\":\"y\",\"type\":\"scatter\"},{\"hovertemplate\":\"color=2<br>symbol=exon<br>0=%{x}<br>1=%{y}<extra></extra>\",\"legendgroup\":\"2, exon\",\"marker\":{\"color\":\"#EF553B\",\"symbol\":\"circle\",\"size\":13},\"mode\":\"markers\",\"name\":\"2, exon\",\"orientation\":\"v\",\"showlegend\":true,\"x\":[-2.833821664981473,-5.064776874641886,-7.257550823489936,-6.735459044858722,-6.816659842707502],\"xaxis\":\"x\",\"y\":[-6.4170264973877185,-5.9770124054271125,-5.542672319080904,-1.7392627772623903,0.2188780217668147],\"yaxis\":\"y\",\"type\":\"scatter\"},{\"hovertemplate\":\"color=11<br>symbol=exon<br>0=%{x}<br>1=%{y}<extra></extra>\",\"legendgroup\":\"11, exon\",\"marker\":{\"color\":\"#00cc96\",\"symbol\":\"circle\",\"size\":13},\"mode\":\"markers\",\"name\":\"11, exon\",\"orientation\":\"v\",\"showlegend\":true,\"x\":[0.8232930818570667,-0.14304812344252596,1.2898503830044745,0.9567515654419748,5.879548288925288],\"xaxis\":\"x\",\"y\":[5.891332319683047,6.078386397831672,7.359007331531424,7.329984897216792,5.451897778866644],\"yaxis\":\"y\",\"type\":\"scatter\"},{\"hovertemplate\":\"color=5<br>symbol=exon<br>0=%{x}<br>1=%{y}<extra></extra>\",\"legendgroup\":\"5, exon\",\"marker\":{\"color\":\"#ab63fa\",\"symbol\":\"circle\",\"size\":13},\"mode\":\"markers\",\"name\":\"5, exon\",\"orientation\":\"v\",\"showlegend\":true,\"x\":[-5.84487331301815,-7.303629062077173,-8.270470879963865,-6.945121877233645,-5.34588937795378],\"xaxis\":\"x\",\"y\":[-0.7722904627291515,-0.6714474228313391,-0.533016468544913,1.7021084931160715,1.353689313144517],\"yaxis\":\"y\",\"type\":\"scatter\"}],                        {\"template\":{\"data\":{\"bar\":[{\"error_x\":{\"color\":\"#2a3f5f\"},\"error_y\":{\"color\":\"#2a3f5f\"},\"marker\":{\"line\":{\"color\":\"#E5ECF6\",\"width\":0.5},\"pattern\":{\"fillmode\":\"overlay\",\"size\":10,\"solidity\":0.2}},\"type\":\"bar\"}],\"barpolar\":[{\"marker\":{\"line\":{\"color\":\"#E5ECF6\",\"width\":0.5},\"pattern\":{\"fillmode\":\"overlay\",\"size\":10,\"solidity\":0.2}},\"type\":\"barpolar\"}],\"carpet\":[{\"aaxis\":{\"endlinecolor\":\"#2a3f5f\",\"gridcolor\":\"white\",\"linecolor\":\"white\",\"minorgridcolor\":\"white\",\"startlinecolor\":\"#2a3f5f\"},\"baxis\":{\"endlinecolor\":\"#2a3f5f\",\"gridcolor\":\"white\",\"linecolor\":\"white\",\"minorgridcolor\":\"white\",\"startlinecolor\":\"#2a3f5f\"},\"type\":\"carpet\"}],\"choropleth\":[{\"colorbar\":{\"outlinewidth\":0,\"ticks\":\"\"},\"type\":\"choropleth\"}],\"contour\":[{\"colorbar\":{\"outlinewidth\":0,\"ticks\":\"\"},\"colorscale\":[[0.0,\"#0d0887\"],[0.1111111111111111,\"#46039f\"],[0.2222222222222222,\"#7201a8\"],[0.3333333333333333,\"#9c179e\"],[0.4444444444444444,\"#bd3786\"],[0.5555555555555556,\"#d8576b\"],[0.6666666666666666,\"#ed7953\"],[0.7777777777777778,\"#fb9f3a\"],[0.8888888888888888,\"#fdca26\"],[1.0,\"#f0f921\"]],\"type\":\"contour\"}],\"contourcarpet\":[{\"colorbar\":{\"outlinewidth\":0,\"ticks\":\"\"},\"type\":\"contourcarpet\"}],\"heatmap\":[{\"colorbar\":{\"outlinewidth\":0,\"ticks\":\"\"},\"colorscale\":[[0.0,\"#0d0887\"],[0.1111111111111111,\"#46039f\"],[0.2222222222222222,\"#7201a8\"],[0.3333333333333333,\"#9c179e\"],[0.4444444444444444,\"#bd3786\"],[0.5555555555555556,\"#d8576b\"],[0.6666666666666666,\"#ed7953\"],[0.7777777777777778,\"#fb9f3a\"],[0.8888888888888888,\"#fdca26\"],[1.0,\"#f0f921\"]],\"type\":\"heatmap\"}],\"heatmapgl\":[{\"colorbar\":{\"outlinewidth\":0,\"ticks\":\"\"},\"colorscale\":[[0.0,\"#0d0887\"],[0.1111111111111111,\"#46039f\"],[0.2222222222222222,\"#7201a8\"],[0.3333333333333333,\"#9c179e\"],[0.4444444444444444,\"#bd3786\"],[0.5555555555555556,\"#d8576b\"],[0.6666666666666666,\"#ed7953\"],[0.7777777777777778,\"#fb9f3a\"],[0.8888888888888888,\"#fdca26\"],[1.0,\"#f0f921\"]],\"type\":\"heatmapgl\"}],\"histogram\":[{\"marker\":{\"pattern\":{\"fillmode\":\"overlay\",\"size\":10,\"solidity\":0.2}},\"type\":\"histogram\"}],\"histogram2d\":[{\"colorbar\":{\"outlinewidth\":0,\"ticks\":\"\"},\"colorscale\":[[0.0,\"#0d0887\"],[0.1111111111111111,\"#46039f\"],[0.2222222222222222,\"#7201a8\"],[0.3333333333333333,\"#9c179e\"],[0.4444444444444444,\"#bd3786\"],[0.5555555555555556,\"#d8576b\"],[0.6666666666666666,\"#ed7953\"],[0.7777777777777778,\"#fb9f3a\"],[0.8888888888888888,\"#fdca26\"],[1.0,\"#f0f921\"]],\"type\":\"histogram2d\"}],\"histogram2dcontour\":[{\"colorbar\":{\"outlinewidth\":0,\"ticks\":\"\"},\"colorscale\":[[0.0,\"#0d0887\"],[0.1111111111111111,\"#46039f\"],[0.2222222222222222,\"#7201a8\"],[0.3333333333333333,\"#9c179e\"],[0.4444444444444444,\"#bd3786\"],[0.5555555555555556,\"#d8576b\"],[0.6666666666666666,\"#ed7953\"],[0.7777777777777778,\"#fb9f3a\"],[0.8888888888888888,\"#fdca26\"],[1.0,\"#f0f921\"]],\"type\":\"histogram2dcontour\"}],\"mesh3d\":[{\"colorbar\":{\"outlinewidth\":0,\"ticks\":\"\"},\"type\":\"mesh3d\"}],\"parcoords\":[{\"line\":{\"colorbar\":{\"outlinewidth\":0,\"ticks\":\"\"}},\"type\":\"parcoords\"}],\"pie\":[{\"automargin\":true,\"type\":\"pie\"}],\"scatter\":[{\"marker\":{\"colorbar\":{\"outlinewidth\":0,\"ticks\":\"\"}},\"type\":\"scatter\"}],\"scatter3d\":[{\"line\":{\"colorbar\":{\"outlinewidth\":0,\"ticks\":\"\"}},\"marker\":{\"colorbar\":{\"outlinewidth\":0,\"ticks\":\"\"}},\"type\":\"scatter3d\"}],\"scattercarpet\":[{\"marker\":{\"colorbar\":{\"outlinewidth\":0,\"ticks\":\"\"}},\"type\":\"scattercarpet\"}],\"scattergeo\":[{\"marker\":{\"colorbar\":{\"outlinewidth\":0,\"ticks\":\"\"}},\"type\":\"scattergeo\"}],\"scattergl\":[{\"marker\":{\"colorbar\":{\"outlinewidth\":0,\"ticks\":\"\"}},\"type\":\"scattergl\"}],\"scattermapbox\":[{\"marker\":{\"colorbar\":{\"outlinewidth\":0,\"ticks\":\"\"}},\"type\":\"scattermapbox\"}],\"scatterpolar\":[{\"marker\":{\"colorbar\":{\"outlinewidth\":0,\"ticks\":\"\"}},\"type\":\"scatterpolar\"}],\"scatterpolargl\":[{\"marker\":{\"colorbar\":{\"outlinewidth\":0,\"ticks\":\"\"}},\"type\":\"scatterpolargl\"}],\"scatterternary\":[{\"marker\":{\"colorbar\":{\"outlinewidth\":0,\"ticks\":\"\"}},\"type\":\"scatterternary\"}],\"surface\":[{\"colorbar\":{\"outlinewidth\":0,\"ticks\":\"\"},\"colorscale\":[[0.0,\"#0d0887\"],[0.1111111111111111,\"#46039f\"],[0.2222222222222222,\"#7201a8\"],[0.3333333333333333,\"#9c179e\"],[0.4444444444444444,\"#bd3786\"],[0.5555555555555556,\"#d8576b\"],[0.6666666666666666,\"#ed7953\"],[0.7777777777777778,\"#fb9f3a\"],[0.8888888888888888,\"#fdca26\"],[1.0,\"#f0f921\"]],\"type\":\"surface\"}],\"table\":[{\"cells\":{\"fill\":{\"color\":\"#EBF0F8\"},\"line\":{\"color\":\"white\"}},\"header\":{\"fill\":{\"color\":\"#C8D4E3\"},\"line\":{\"color\":\"white\"}},\"type\":\"table\"}]},\"layout\":{\"annotationdefaults\":{\"arrowcolor\":\"#2a3f5f\",\"arrowhead\":0,\"arrowwidth\":1},\"autotypenumbers\":\"strict\",\"coloraxis\":{\"colorbar\":{\"outlinewidth\":0,\"ticks\":\"\"}},\"colorscale\":{\"diverging\":[[0,\"#8e0152\"],[0.1,\"#c51b7d\"],[0.2,\"#de77ae\"],[0.3,\"#f1b6da\"],[0.4,\"#fde0ef\"],[0.5,\"#f7f7f7\"],[0.6,\"#e6f5d0\"],[0.7,\"#b8e186\"],[0.8,\"#7fbc41\"],[0.9,\"#4d9221\"],[1,\"#276419\"]],\"sequential\":[[0.0,\"#0d0887\"],[0.1111111111111111,\"#46039f\"],[0.2222222222222222,\"#7201a8\"],[0.3333333333333333,\"#9c179e\"],[0.4444444444444444,\"#bd3786\"],[0.5555555555555556,\"#d8576b\"],[0.6666666666666666,\"#ed7953\"],[0.7777777777777778,\"#fb9f3a\"],[0.8888888888888888,\"#fdca26\"],[1.0,\"#f0f921\"]],\"sequentialminus\":[[0.0,\"#0d0887\"],[0.1111111111111111,\"#46039f\"],[0.2222222222222222,\"#7201a8\"],[0.3333333333333333,\"#9c179e\"],[0.4444444444444444,\"#bd3786\"],[0.5555555555555556,\"#d8576b\"],[0.6666666666666666,\"#ed7953\"],[0.7777777777777778,\"#fb9f3a\"],[0.8888888888888888,\"#fdca26\"],[1.0,\"#f0f921\"]]},\"colorway\":[\"#636efa\",\"#EF553B\",\"#00cc96\",\"#ab63fa\",\"#FFA15A\",\"#19d3f3\",\"#FF6692\",\"#B6E880\",\"#FF97FF\",\"#FECB52\"],\"font\":{\"color\":\"#2a3f5f\"},\"geo\":{\"bgcolor\":\"white\",\"lakecolor\":\"white\",\"landcolor\":\"#E5ECF6\",\"showlakes\":true,\"showland\":true,\"subunitcolor\":\"white\"},\"hoverlabel\":{\"align\":\"left\"},\"hovermode\":\"closest\",\"mapbox\":{\"style\":\"light\"},\"paper_bgcolor\":\"white\",\"plot_bgcolor\":\"#E5ECF6\",\"polar\":{\"angularaxis\":{\"gridcolor\":\"white\",\"linecolor\":\"white\",\"ticks\":\"\"},\"bgcolor\":\"#E5ECF6\",\"radialaxis\":{\"gridcolor\":\"white\",\"linecolor\":\"white\",\"ticks\":\"\"}},\"scene\":{\"xaxis\":{\"backgroundcolor\":\"#E5ECF6\",\"gridcolor\":\"white\",\"gridwidth\":2,\"linecolor\":\"white\",\"showbackground\":true,\"ticks\":\"\",\"zerolinecolor\":\"white\"},\"yaxis\":{\"backgroundcolor\":\"#E5ECF6\",\"gridcolor\":\"white\",\"gridwidth\":2,\"linecolor\":\"white\",\"showbackground\":true,\"ticks\":\"\",\"zerolinecolor\":\"white\"},\"zaxis\":{\"backgroundcolor\":\"#E5ECF6\",\"gridcolor\":\"white\",\"gridwidth\":2,\"linecolor\":\"white\",\"showbackground\":true,\"ticks\":\"\",\"zerolinecolor\":\"white\"}},\"shapedefaults\":{\"line\":{\"color\":\"#2a3f5f\"}},\"ternary\":{\"aaxis\":{\"gridcolor\":\"white\",\"linecolor\":\"white\",\"ticks\":\"\"},\"baxis\":{\"gridcolor\":\"white\",\"linecolor\":\"white\",\"ticks\":\"\"},\"bgcolor\":\"#E5ECF6\",\"caxis\":{\"gridcolor\":\"white\",\"linecolor\":\"white\",\"ticks\":\"\"}},\"title\":{\"x\":0.05},\"xaxis\":{\"automargin\":true,\"gridcolor\":\"white\",\"linecolor\":\"white\",\"ticks\":\"\",\"title\":{\"standoff\":15},\"zerolinecolor\":\"white\",\"zerolinewidth\":2},\"yaxis\":{\"automargin\":true,\"gridcolor\":\"white\",\"linecolor\":\"white\",\"ticks\":\"\",\"title\":{\"standoff\":15},\"zerolinecolor\":\"white\",\"zerolinewidth\":2}}},\"xaxis\":{\"anchor\":\"y\",\"domain\":[0.0,1.0],\"title\":{\"text\":\"PC 1 (50.4%)\"}},\"yaxis\":{\"anchor\":\"x\",\"domain\":[0.0,1.0],\"title\":{\"text\":\"PC 2 (18.1%)\"}},\"legend\":{\"title\":{\"text\":\"color, symbol\"},\"tracegroupgap\":0},\"margin\":{\"t\":60},\"height\":600,\"width\":600,\"plot_bgcolor\":\"rgb(243,243,243)\"},                        {\"responsive\": true}                    ).then(function(){\n",
       "                            \n",
       "var gd = document.getElementById('c854677c-4ef7-4291-87ef-3a962e0d993c');\n",
       "var x = new MutationObserver(function (mutations, observer) {{\n",
       "        var display = window.getComputedStyle(gd).display;\n",
       "        if (!display || display === 'none') {{\n",
       "            console.log([gd, 'removed!']);\n",
       "            Plotly.purge(gd);\n",
       "            observer.disconnect();\n",
       "        }}\n",
       "}});\n",
       "\n",
       "// Listen for the removal of the full notebook cells\n",
       "var notebookContainer = gd.closest('#notebook-container');\n",
       "if (notebookContainer) {{\n",
       "    x.observe(notebookContainer, {childList: true});\n",
       "}}\n",
       "\n",
       "// Listen for the clearing of the current output cell\n",
       "var outputEl = gd.closest('.output');\n",
       "if (outputEl) {{\n",
       "    x.observe(outputEl, {childList: true});\n",
       "}}\n",
       "\n",
       "                        })                };                });            </script>        </div>"
      ]
     },
     "metadata": {},
     "output_type": "display_data"
    },
    {
     "data": {
      "application/vnd.plotly.v1+json": {
       "config": {
        "plotlyServerURL": "https://plot.ly"
       },
       "data": [
        {
         "hovertemplate": "color=0<br>symbol=33to38<br>1=%{x}<br>2=%{y}<extra></extra>",
         "legendgroup": "0, 33to38",
         "marker": {
          "color": "#636efa",
          "size": 13,
          "symbol": "circle"
         },
         "mode": "markers",
         "name": "0, 33to38",
         "orientation": "v",
         "showlegend": true,
         "type": "scatter",
         "x": [
          -3.252622114567862,
          -6.417026493033435
         ],
         "xaxis": "x",
         "y": [
          -2.9172401705545496,
          -6.587855129512788
         ],
         "yaxis": "y"
        },
        {
         "hovertemplate": "color=0<br>symbol=38to33<br>1=%{x}<br>2=%{y}<extra></extra>",
         "legendgroup": "0, 38to33",
         "marker": {
          "color": "#636efa",
          "size": 13,
          "symbol": "diamond"
         },
         "mode": "markers",
         "name": "0, 38to33",
         "orientation": "v",
         "showlegend": true,
         "type": "scatter",
         "x": [
          5.891332318140392,
          -0.7722904657698887
         ],
         "xaxis": "x",
         "y": [
          1.909534065973651,
          6.643852219892312
         ],
         "yaxis": "y"
        },
        {
         "hovertemplate": "color=1<br>symbol=33to38<br>1=%{x}<br>2=%{y}<extra></extra>",
         "legendgroup": "1, 33to38",
         "marker": {
          "color": "#EF553B",
          "size": 13,
          "symbol": "circle"
         },
         "mode": "markers",
         "name": "1, 33to38",
         "orientation": "v",
         "showlegend": true,
         "type": "scatter",
         "x": [
          -3.546837884948963,
          -5.977012410299124
         ],
         "xaxis": "x",
         "y": [
          -1.5278803673709642,
          -3.933454698164211
         ],
         "yaxis": "y"
        },
        {
         "hovertemplate": "color=1<br>symbol=38to33<br>1=%{x}<br>2=%{y}<extra></extra>",
         "legendgroup": "1, 38to33",
         "marker": {
          "color": "#EF553B",
          "size": 13,
          "symbol": "diamond"
         },
         "mode": "markers",
         "name": "1, 38to33",
         "orientation": "v",
         "showlegend": true,
         "type": "scatter",
         "x": [
          6.078386405210265,
          -0.6714474189099962
         ],
         "xaxis": "x",
         "y": [
          1.4371259004594699,
          3.523506639000303
         ],
         "yaxis": "y"
        },
        {
         "hovertemplate": "color=3<br>symbol=33to38<br>1=%{x}<br>2=%{y}<extra></extra>",
         "legendgroup": "3, 33to38",
         "marker": {
          "color": "#00cc96",
          "size": 13,
          "symbol": "circle"
         },
         "mode": "markers",
         "name": "3, 33to38",
         "orientation": "v",
         "showlegend": true,
         "type": "scatter",
         "x": [
          -3.624521929548471,
          -5.542672320919016
         ],
         "xaxis": "x",
         "y": [
          2.726897402288859,
          -0.22974916828785633
         ],
         "yaxis": "y"
        },
        {
         "hovertemplate": "color=3<br>symbol=38to33<br>1=%{x}<br>2=%{y}<extra></extra>",
         "legendgroup": "3, 38to33",
         "marker": {
          "color": "#00cc96",
          "size": 13,
          "symbol": "diamond"
         },
         "mode": "markers",
         "name": "3, 38to33",
         "orientation": "v",
         "showlegend": true,
         "type": "scatter",
         "x": [
          7.3590073254130415,
          -0.533016473099502
         ],
         "xaxis": "x",
         "y": [
          -0.6318997817490557,
          -0.14387348009392273
         ],
         "yaxis": "y"
        },
        {
         "hovertemplate": "color=6<br>symbol=33to38<br>1=%{x}<br>2=%{y}<extra></extra>",
         "legendgroup": "6, 33to38",
         "marker": {
          "color": "#ab63fa",
          "size": 13,
          "symbol": "circle"
         },
         "mode": "markers",
         "name": "6, 33to38",
         "orientation": "v",
         "showlegend": true,
         "type": "scatter",
         "x": [
          -2.1915153304846573,
          -1.7392627701746144
         ],
         "xaxis": "x",
         "y": [
          3.8988655258145055,
          3.6252298483278067
         ],
         "yaxis": "y"
        },
        {
         "hovertemplate": "color=6<br>symbol=38to33<br>1=%{x}<br>2=%{y}<extra></extra>",
         "legendgroup": "6, 38to33",
         "marker": {
          "color": "#ab63fa",
          "size": 13,
          "symbol": "diamond"
         },
         "mode": "markers",
         "name": "6, 38to33",
         "orientation": "v",
         "showlegend": true,
         "type": "scatter",
         "x": [
          7.3299848979841284,
          1.702108497488231
         ],
         "xaxis": "x",
         "y": [
          -3.240064571499732,
          -2.121338886207512
         ],
         "yaxis": "y"
        },
        {
         "hovertemplate": "color=9<br>symbol=33to38<br>1=%{x}<br>2=%{y}<extra></extra>",
         "legendgroup": "9, 33to38",
         "marker": {
          "color": "#FFA15A",
          "size": 13,
          "symbol": "circle"
         },
         "mode": "markers",
         "name": "9, 33to38",
         "orientation": "v",
         "showlegend": true,
         "type": "scatter",
         "x": [
          -1.1170589401519357,
          0.21887801621294312
         ],
         "xaxis": "x",
         "y": [
          3.7843011754206417,
          2.60400978489963
         ],
         "yaxis": "y"
        },
        {
         "hovertemplate": "color=9<br>symbol=38to33<br>1=%{x}<br>2=%{y}<extra></extra>",
         "legendgroup": "9, 38to33",
         "marker": {
          "color": "#FFA15A",
          "size": 13,
          "symbol": "diamond"
         },
         "mode": "markers",
         "name": "9, 38to33",
         "orientation": "v",
         "showlegend": true,
         "type": "scatter",
         "x": [
          5.451897778237634,
          1.353689313220832
         ],
         "xaxis": "x",
         "y": [
          -5.414623745328698,
          -3.405342563307887
         ],
         "yaxis": "y"
        }
       ],
       "layout": {
        "height": 600,
        "legend": {
         "title": {
          "text": "color, symbol"
         },
         "tracegroupgap": 0
        },
        "margin": {
         "t": 60
        },
        "plot_bgcolor": "rgb(243,243,243)",
        "template": {
         "data": {
          "bar": [
           {
            "error_x": {
             "color": "#2a3f5f"
            },
            "error_y": {
             "color": "#2a3f5f"
            },
            "marker": {
             "line": {
              "color": "#E5ECF6",
              "width": 0.5
             },
             "pattern": {
              "fillmode": "overlay",
              "size": 10,
              "solidity": 0.2
             }
            },
            "type": "bar"
           }
          ],
          "barpolar": [
           {
            "marker": {
             "line": {
              "color": "#E5ECF6",
              "width": 0.5
             },
             "pattern": {
              "fillmode": "overlay",
              "size": 10,
              "solidity": 0.2
             }
            },
            "type": "barpolar"
           }
          ],
          "carpet": [
           {
            "aaxis": {
             "endlinecolor": "#2a3f5f",
             "gridcolor": "white",
             "linecolor": "white",
             "minorgridcolor": "white",
             "startlinecolor": "#2a3f5f"
            },
            "baxis": {
             "endlinecolor": "#2a3f5f",
             "gridcolor": "white",
             "linecolor": "white",
             "minorgridcolor": "white",
             "startlinecolor": "#2a3f5f"
            },
            "type": "carpet"
           }
          ],
          "choropleth": [
           {
            "colorbar": {
             "outlinewidth": 0,
             "ticks": ""
            },
            "type": "choropleth"
           }
          ],
          "contour": [
           {
            "colorbar": {
             "outlinewidth": 0,
             "ticks": ""
            },
            "colorscale": [
             [
              0,
              "#0d0887"
             ],
             [
              0.1111111111111111,
              "#46039f"
             ],
             [
              0.2222222222222222,
              "#7201a8"
             ],
             [
              0.3333333333333333,
              "#9c179e"
             ],
             [
              0.4444444444444444,
              "#bd3786"
             ],
             [
              0.5555555555555556,
              "#d8576b"
             ],
             [
              0.6666666666666666,
              "#ed7953"
             ],
             [
              0.7777777777777778,
              "#fb9f3a"
             ],
             [
              0.8888888888888888,
              "#fdca26"
             ],
             [
              1,
              "#f0f921"
             ]
            ],
            "type": "contour"
           }
          ],
          "contourcarpet": [
           {
            "colorbar": {
             "outlinewidth": 0,
             "ticks": ""
            },
            "type": "contourcarpet"
           }
          ],
          "heatmap": [
           {
            "colorbar": {
             "outlinewidth": 0,
             "ticks": ""
            },
            "colorscale": [
             [
              0,
              "#0d0887"
             ],
             [
              0.1111111111111111,
              "#46039f"
             ],
             [
              0.2222222222222222,
              "#7201a8"
             ],
             [
              0.3333333333333333,
              "#9c179e"
             ],
             [
              0.4444444444444444,
              "#bd3786"
             ],
             [
              0.5555555555555556,
              "#d8576b"
             ],
             [
              0.6666666666666666,
              "#ed7953"
             ],
             [
              0.7777777777777778,
              "#fb9f3a"
             ],
             [
              0.8888888888888888,
              "#fdca26"
             ],
             [
              1,
              "#f0f921"
             ]
            ],
            "type": "heatmap"
           }
          ],
          "heatmapgl": [
           {
            "colorbar": {
             "outlinewidth": 0,
             "ticks": ""
            },
            "colorscale": [
             [
              0,
              "#0d0887"
             ],
             [
              0.1111111111111111,
              "#46039f"
             ],
             [
              0.2222222222222222,
              "#7201a8"
             ],
             [
              0.3333333333333333,
              "#9c179e"
             ],
             [
              0.4444444444444444,
              "#bd3786"
             ],
             [
              0.5555555555555556,
              "#d8576b"
             ],
             [
              0.6666666666666666,
              "#ed7953"
             ],
             [
              0.7777777777777778,
              "#fb9f3a"
             ],
             [
              0.8888888888888888,
              "#fdca26"
             ],
             [
              1,
              "#f0f921"
             ]
            ],
            "type": "heatmapgl"
           }
          ],
          "histogram": [
           {
            "marker": {
             "pattern": {
              "fillmode": "overlay",
              "size": 10,
              "solidity": 0.2
             }
            },
            "type": "histogram"
           }
          ],
          "histogram2d": [
           {
            "colorbar": {
             "outlinewidth": 0,
             "ticks": ""
            },
            "colorscale": [
             [
              0,
              "#0d0887"
             ],
             [
              0.1111111111111111,
              "#46039f"
             ],
             [
              0.2222222222222222,
              "#7201a8"
             ],
             [
              0.3333333333333333,
              "#9c179e"
             ],
             [
              0.4444444444444444,
              "#bd3786"
             ],
             [
              0.5555555555555556,
              "#d8576b"
             ],
             [
              0.6666666666666666,
              "#ed7953"
             ],
             [
              0.7777777777777778,
              "#fb9f3a"
             ],
             [
              0.8888888888888888,
              "#fdca26"
             ],
             [
              1,
              "#f0f921"
             ]
            ],
            "type": "histogram2d"
           }
          ],
          "histogram2dcontour": [
           {
            "colorbar": {
             "outlinewidth": 0,
             "ticks": ""
            },
            "colorscale": [
             [
              0,
              "#0d0887"
             ],
             [
              0.1111111111111111,
              "#46039f"
             ],
             [
              0.2222222222222222,
              "#7201a8"
             ],
             [
              0.3333333333333333,
              "#9c179e"
             ],
             [
              0.4444444444444444,
              "#bd3786"
             ],
             [
              0.5555555555555556,
              "#d8576b"
             ],
             [
              0.6666666666666666,
              "#ed7953"
             ],
             [
              0.7777777777777778,
              "#fb9f3a"
             ],
             [
              0.8888888888888888,
              "#fdca26"
             ],
             [
              1,
              "#f0f921"
             ]
            ],
            "type": "histogram2dcontour"
           }
          ],
          "mesh3d": [
           {
            "colorbar": {
             "outlinewidth": 0,
             "ticks": ""
            },
            "type": "mesh3d"
           }
          ],
          "parcoords": [
           {
            "line": {
             "colorbar": {
              "outlinewidth": 0,
              "ticks": ""
             }
            },
            "type": "parcoords"
           }
          ],
          "pie": [
           {
            "automargin": true,
            "type": "pie"
           }
          ],
          "scatter": [
           {
            "marker": {
             "colorbar": {
              "outlinewidth": 0,
              "ticks": ""
             }
            },
            "type": "scatter"
           }
          ],
          "scatter3d": [
           {
            "line": {
             "colorbar": {
              "outlinewidth": 0,
              "ticks": ""
             }
            },
            "marker": {
             "colorbar": {
              "outlinewidth": 0,
              "ticks": ""
             }
            },
            "type": "scatter3d"
           }
          ],
          "scattercarpet": [
           {
            "marker": {
             "colorbar": {
              "outlinewidth": 0,
              "ticks": ""
             }
            },
            "type": "scattercarpet"
           }
          ],
          "scattergeo": [
           {
            "marker": {
             "colorbar": {
              "outlinewidth": 0,
              "ticks": ""
             }
            },
            "type": "scattergeo"
           }
          ],
          "scattergl": [
           {
            "marker": {
             "colorbar": {
              "outlinewidth": 0,
              "ticks": ""
             }
            },
            "type": "scattergl"
           }
          ],
          "scattermapbox": [
           {
            "marker": {
             "colorbar": {
              "outlinewidth": 0,
              "ticks": ""
             }
            },
            "type": "scattermapbox"
           }
          ],
          "scatterpolar": [
           {
            "marker": {
             "colorbar": {
              "outlinewidth": 0,
              "ticks": ""
             }
            },
            "type": "scatterpolar"
           }
          ],
          "scatterpolargl": [
           {
            "marker": {
             "colorbar": {
              "outlinewidth": 0,
              "ticks": ""
             }
            },
            "type": "scatterpolargl"
           }
          ],
          "scatterternary": [
           {
            "marker": {
             "colorbar": {
              "outlinewidth": 0,
              "ticks": ""
             }
            },
            "type": "scatterternary"
           }
          ],
          "surface": [
           {
            "colorbar": {
             "outlinewidth": 0,
             "ticks": ""
            },
            "colorscale": [
             [
              0,
              "#0d0887"
             ],
             [
              0.1111111111111111,
              "#46039f"
             ],
             [
              0.2222222222222222,
              "#7201a8"
             ],
             [
              0.3333333333333333,
              "#9c179e"
             ],
             [
              0.4444444444444444,
              "#bd3786"
             ],
             [
              0.5555555555555556,
              "#d8576b"
             ],
             [
              0.6666666666666666,
              "#ed7953"
             ],
             [
              0.7777777777777778,
              "#fb9f3a"
             ],
             [
              0.8888888888888888,
              "#fdca26"
             ],
             [
              1,
              "#f0f921"
             ]
            ],
            "type": "surface"
           }
          ],
          "table": [
           {
            "cells": {
             "fill": {
              "color": "#EBF0F8"
             },
             "line": {
              "color": "white"
             }
            },
            "header": {
             "fill": {
              "color": "#C8D4E3"
             },
             "line": {
              "color": "white"
             }
            },
            "type": "table"
           }
          ]
         },
         "layout": {
          "annotationdefaults": {
           "arrowcolor": "#2a3f5f",
           "arrowhead": 0,
           "arrowwidth": 1
          },
          "autotypenumbers": "strict",
          "coloraxis": {
           "colorbar": {
            "outlinewidth": 0,
            "ticks": ""
           }
          },
          "colorscale": {
           "diverging": [
            [
             0,
             "#8e0152"
            ],
            [
             0.1,
             "#c51b7d"
            ],
            [
             0.2,
             "#de77ae"
            ],
            [
             0.3,
             "#f1b6da"
            ],
            [
             0.4,
             "#fde0ef"
            ],
            [
             0.5,
             "#f7f7f7"
            ],
            [
             0.6,
             "#e6f5d0"
            ],
            [
             0.7,
             "#b8e186"
            ],
            [
             0.8,
             "#7fbc41"
            ],
            [
             0.9,
             "#4d9221"
            ],
            [
             1,
             "#276419"
            ]
           ],
           "sequential": [
            [
             0,
             "#0d0887"
            ],
            [
             0.1111111111111111,
             "#46039f"
            ],
            [
             0.2222222222222222,
             "#7201a8"
            ],
            [
             0.3333333333333333,
             "#9c179e"
            ],
            [
             0.4444444444444444,
             "#bd3786"
            ],
            [
             0.5555555555555556,
             "#d8576b"
            ],
            [
             0.6666666666666666,
             "#ed7953"
            ],
            [
             0.7777777777777778,
             "#fb9f3a"
            ],
            [
             0.8888888888888888,
             "#fdca26"
            ],
            [
             1,
             "#f0f921"
            ]
           ],
           "sequentialminus": [
            [
             0,
             "#0d0887"
            ],
            [
             0.1111111111111111,
             "#46039f"
            ],
            [
             0.2222222222222222,
             "#7201a8"
            ],
            [
             0.3333333333333333,
             "#9c179e"
            ],
            [
             0.4444444444444444,
             "#bd3786"
            ],
            [
             0.5555555555555556,
             "#d8576b"
            ],
            [
             0.6666666666666666,
             "#ed7953"
            ],
            [
             0.7777777777777778,
             "#fb9f3a"
            ],
            [
             0.8888888888888888,
             "#fdca26"
            ],
            [
             1,
             "#f0f921"
            ]
           ]
          },
          "colorway": [
           "#636efa",
           "#EF553B",
           "#00cc96",
           "#ab63fa",
           "#FFA15A",
           "#19d3f3",
           "#FF6692",
           "#B6E880",
           "#FF97FF",
           "#FECB52"
          ],
          "font": {
           "color": "#2a3f5f"
          },
          "geo": {
           "bgcolor": "white",
           "lakecolor": "white",
           "landcolor": "#E5ECF6",
           "showlakes": true,
           "showland": true,
           "subunitcolor": "white"
          },
          "hoverlabel": {
           "align": "left"
          },
          "hovermode": "closest",
          "mapbox": {
           "style": "light"
          },
          "paper_bgcolor": "white",
          "plot_bgcolor": "#E5ECF6",
          "polar": {
           "angularaxis": {
            "gridcolor": "white",
            "linecolor": "white",
            "ticks": ""
           },
           "bgcolor": "#E5ECF6",
           "radialaxis": {
            "gridcolor": "white",
            "linecolor": "white",
            "ticks": ""
           }
          },
          "scene": {
           "xaxis": {
            "backgroundcolor": "#E5ECF6",
            "gridcolor": "white",
            "gridwidth": 2,
            "linecolor": "white",
            "showbackground": true,
            "ticks": "",
            "zerolinecolor": "white"
           },
           "yaxis": {
            "backgroundcolor": "#E5ECF6",
            "gridcolor": "white",
            "gridwidth": 2,
            "linecolor": "white",
            "showbackground": true,
            "ticks": "",
            "zerolinecolor": "white"
           },
           "zaxis": {
            "backgroundcolor": "#E5ECF6",
            "gridcolor": "white",
            "gridwidth": 2,
            "linecolor": "white",
            "showbackground": true,
            "ticks": "",
            "zerolinecolor": "white"
           }
          },
          "shapedefaults": {
           "line": {
            "color": "#2a3f5f"
           }
          },
          "ternary": {
           "aaxis": {
            "gridcolor": "white",
            "linecolor": "white",
            "ticks": ""
           },
           "baxis": {
            "gridcolor": "white",
            "linecolor": "white",
            "ticks": ""
           },
           "bgcolor": "#E5ECF6",
           "caxis": {
            "gridcolor": "white",
            "linecolor": "white",
            "ticks": ""
           }
          },
          "title": {
           "x": 0.05
          },
          "xaxis": {
           "automargin": true,
           "gridcolor": "white",
           "linecolor": "white",
           "ticks": "",
           "title": {
            "standoff": 15
           },
           "zerolinecolor": "white",
           "zerolinewidth": 2
          },
          "yaxis": {
           "automargin": true,
           "gridcolor": "white",
           "linecolor": "white",
           "ticks": "",
           "title": {
            "standoff": 15
           },
           "zerolinecolor": "white",
           "zerolinewidth": 2
          }
         }
        },
        "width": 600,
        "xaxis": {
         "anchor": "y",
         "domain": [
          0,
          1
         ],
         "title": {
          "text": "PC 2 (18.1%)"
         }
        },
        "yaxis": {
         "anchor": "x",
         "domain": [
          0,
          1
         ],
         "title": {
          "text": "PC 3 (12.1%)"
         }
        }
       }
      },
      "text/html": [
       "<div>                            <div id=\"9173a93f-b3a3-478c-b471-ddf90f567726\" class=\"plotly-graph-div\" style=\"height:600px; width:600px;\"></div>            <script type=\"text/javascript\">                require([\"plotly\"], function(Plotly) {                    window.PLOTLYENV=window.PLOTLYENV || {};                                    if (document.getElementById(\"9173a93f-b3a3-478c-b471-ddf90f567726\")) {                    Plotly.newPlot(                        \"9173a93f-b3a3-478c-b471-ddf90f567726\",                        [{\"hovertemplate\":\"color=0<br>symbol=33to38<br>1=%{x}<br>2=%{y}<extra></extra>\",\"legendgroup\":\"0, 33to38\",\"marker\":{\"color\":\"#636efa\",\"symbol\":\"circle\",\"size\":13},\"mode\":\"markers\",\"name\":\"0, 33to38\",\"orientation\":\"v\",\"showlegend\":true,\"x\":[-3.252622114567862,-6.417026493033435],\"xaxis\":\"x\",\"y\":[-2.9172401705545496,-6.587855129512788],\"yaxis\":\"y\",\"type\":\"scatter\"},{\"hovertemplate\":\"color=0<br>symbol=38to33<br>1=%{x}<br>2=%{y}<extra></extra>\",\"legendgroup\":\"0, 38to33\",\"marker\":{\"color\":\"#636efa\",\"symbol\":\"diamond\",\"size\":13},\"mode\":\"markers\",\"name\":\"0, 38to33\",\"orientation\":\"v\",\"showlegend\":true,\"x\":[5.891332318140392,-0.7722904657698887],\"xaxis\":\"x\",\"y\":[1.909534065973651,6.643852219892312],\"yaxis\":\"y\",\"type\":\"scatter\"},{\"hovertemplate\":\"color=1<br>symbol=33to38<br>1=%{x}<br>2=%{y}<extra></extra>\",\"legendgroup\":\"1, 33to38\",\"marker\":{\"color\":\"#EF553B\",\"symbol\":\"circle\",\"size\":13},\"mode\":\"markers\",\"name\":\"1, 33to38\",\"orientation\":\"v\",\"showlegend\":true,\"x\":[-3.546837884948963,-5.977012410299124],\"xaxis\":\"x\",\"y\":[-1.5278803673709642,-3.933454698164211],\"yaxis\":\"y\",\"type\":\"scatter\"},{\"hovertemplate\":\"color=1<br>symbol=38to33<br>1=%{x}<br>2=%{y}<extra></extra>\",\"legendgroup\":\"1, 38to33\",\"marker\":{\"color\":\"#EF553B\",\"symbol\":\"diamond\",\"size\":13},\"mode\":\"markers\",\"name\":\"1, 38to33\",\"orientation\":\"v\",\"showlegend\":true,\"x\":[6.078386405210265,-0.6714474189099962],\"xaxis\":\"x\",\"y\":[1.4371259004594699,3.523506639000303],\"yaxis\":\"y\",\"type\":\"scatter\"},{\"hovertemplate\":\"color=3<br>symbol=33to38<br>1=%{x}<br>2=%{y}<extra></extra>\",\"legendgroup\":\"3, 33to38\",\"marker\":{\"color\":\"#00cc96\",\"symbol\":\"circle\",\"size\":13},\"mode\":\"markers\",\"name\":\"3, 33to38\",\"orientation\":\"v\",\"showlegend\":true,\"x\":[-3.624521929548471,-5.542672320919016],\"xaxis\":\"x\",\"y\":[2.726897402288859,-0.22974916828785633],\"yaxis\":\"y\",\"type\":\"scatter\"},{\"hovertemplate\":\"color=3<br>symbol=38to33<br>1=%{x}<br>2=%{y}<extra></extra>\",\"legendgroup\":\"3, 38to33\",\"marker\":{\"color\":\"#00cc96\",\"symbol\":\"diamond\",\"size\":13},\"mode\":\"markers\",\"name\":\"3, 38to33\",\"orientation\":\"v\",\"showlegend\":true,\"x\":[7.3590073254130415,-0.533016473099502],\"xaxis\":\"x\",\"y\":[-0.6318997817490557,-0.14387348009392273],\"yaxis\":\"y\",\"type\":\"scatter\"},{\"hovertemplate\":\"color=6<br>symbol=33to38<br>1=%{x}<br>2=%{y}<extra></extra>\",\"legendgroup\":\"6, 33to38\",\"marker\":{\"color\":\"#ab63fa\",\"symbol\":\"circle\",\"size\":13},\"mode\":\"markers\",\"name\":\"6, 33to38\",\"orientation\":\"v\",\"showlegend\":true,\"x\":[-2.1915153304846573,-1.7392627701746144],\"xaxis\":\"x\",\"y\":[3.8988655258145055,3.6252298483278067],\"yaxis\":\"y\",\"type\":\"scatter\"},{\"hovertemplate\":\"color=6<br>symbol=38to33<br>1=%{x}<br>2=%{y}<extra></extra>\",\"legendgroup\":\"6, 38to33\",\"marker\":{\"color\":\"#ab63fa\",\"symbol\":\"diamond\",\"size\":13},\"mode\":\"markers\",\"name\":\"6, 38to33\",\"orientation\":\"v\",\"showlegend\":true,\"x\":[7.3299848979841284,1.702108497488231],\"xaxis\":\"x\",\"y\":[-3.240064571499732,-2.121338886207512],\"yaxis\":\"y\",\"type\":\"scatter\"},{\"hovertemplate\":\"color=9<br>symbol=33to38<br>1=%{x}<br>2=%{y}<extra></extra>\",\"legendgroup\":\"9, 33to38\",\"marker\":{\"color\":\"#FFA15A\",\"symbol\":\"circle\",\"size\":13},\"mode\":\"markers\",\"name\":\"9, 33to38\",\"orientation\":\"v\",\"showlegend\":true,\"x\":[-1.1170589401519357,0.21887801621294312],\"xaxis\":\"x\",\"y\":[3.7843011754206417,2.60400978489963],\"yaxis\":\"y\",\"type\":\"scatter\"},{\"hovertemplate\":\"color=9<br>symbol=38to33<br>1=%{x}<br>2=%{y}<extra></extra>\",\"legendgroup\":\"9, 38to33\",\"marker\":{\"color\":\"#FFA15A\",\"symbol\":\"diamond\",\"size\":13},\"mode\":\"markers\",\"name\":\"9, 38to33\",\"orientation\":\"v\",\"showlegend\":true,\"x\":[5.451897778237634,1.353689313220832],\"xaxis\":\"x\",\"y\":[-5.414623745328698,-3.405342563307887],\"yaxis\":\"y\",\"type\":\"scatter\"}],                        {\"template\":{\"data\":{\"bar\":[{\"error_x\":{\"color\":\"#2a3f5f\"},\"error_y\":{\"color\":\"#2a3f5f\"},\"marker\":{\"line\":{\"color\":\"#E5ECF6\",\"width\":0.5},\"pattern\":{\"fillmode\":\"overlay\",\"size\":10,\"solidity\":0.2}},\"type\":\"bar\"}],\"barpolar\":[{\"marker\":{\"line\":{\"color\":\"#E5ECF6\",\"width\":0.5},\"pattern\":{\"fillmode\":\"overlay\",\"size\":10,\"solidity\":0.2}},\"type\":\"barpolar\"}],\"carpet\":[{\"aaxis\":{\"endlinecolor\":\"#2a3f5f\",\"gridcolor\":\"white\",\"linecolor\":\"white\",\"minorgridcolor\":\"white\",\"startlinecolor\":\"#2a3f5f\"},\"baxis\":{\"endlinecolor\":\"#2a3f5f\",\"gridcolor\":\"white\",\"linecolor\":\"white\",\"minorgridcolor\":\"white\",\"startlinecolor\":\"#2a3f5f\"},\"type\":\"carpet\"}],\"choropleth\":[{\"colorbar\":{\"outlinewidth\":0,\"ticks\":\"\"},\"type\":\"choropleth\"}],\"contour\":[{\"colorbar\":{\"outlinewidth\":0,\"ticks\":\"\"},\"colorscale\":[[0.0,\"#0d0887\"],[0.1111111111111111,\"#46039f\"],[0.2222222222222222,\"#7201a8\"],[0.3333333333333333,\"#9c179e\"],[0.4444444444444444,\"#bd3786\"],[0.5555555555555556,\"#d8576b\"],[0.6666666666666666,\"#ed7953\"],[0.7777777777777778,\"#fb9f3a\"],[0.8888888888888888,\"#fdca26\"],[1.0,\"#f0f921\"]],\"type\":\"contour\"}],\"contourcarpet\":[{\"colorbar\":{\"outlinewidth\":0,\"ticks\":\"\"},\"type\":\"contourcarpet\"}],\"heatmap\":[{\"colorbar\":{\"outlinewidth\":0,\"ticks\":\"\"},\"colorscale\":[[0.0,\"#0d0887\"],[0.1111111111111111,\"#46039f\"],[0.2222222222222222,\"#7201a8\"],[0.3333333333333333,\"#9c179e\"],[0.4444444444444444,\"#bd3786\"],[0.5555555555555556,\"#d8576b\"],[0.6666666666666666,\"#ed7953\"],[0.7777777777777778,\"#fb9f3a\"],[0.8888888888888888,\"#fdca26\"],[1.0,\"#f0f921\"]],\"type\":\"heatmap\"}],\"heatmapgl\":[{\"colorbar\":{\"outlinewidth\":0,\"ticks\":\"\"},\"colorscale\":[[0.0,\"#0d0887\"],[0.1111111111111111,\"#46039f\"],[0.2222222222222222,\"#7201a8\"],[0.3333333333333333,\"#9c179e\"],[0.4444444444444444,\"#bd3786\"],[0.5555555555555556,\"#d8576b\"],[0.6666666666666666,\"#ed7953\"],[0.7777777777777778,\"#fb9f3a\"],[0.8888888888888888,\"#fdca26\"],[1.0,\"#f0f921\"]],\"type\":\"heatmapgl\"}],\"histogram\":[{\"marker\":{\"pattern\":{\"fillmode\":\"overlay\",\"size\":10,\"solidity\":0.2}},\"type\":\"histogram\"}],\"histogram2d\":[{\"colorbar\":{\"outlinewidth\":0,\"ticks\":\"\"},\"colorscale\":[[0.0,\"#0d0887\"],[0.1111111111111111,\"#46039f\"],[0.2222222222222222,\"#7201a8\"],[0.3333333333333333,\"#9c179e\"],[0.4444444444444444,\"#bd3786\"],[0.5555555555555556,\"#d8576b\"],[0.6666666666666666,\"#ed7953\"],[0.7777777777777778,\"#fb9f3a\"],[0.8888888888888888,\"#fdca26\"],[1.0,\"#f0f921\"]],\"type\":\"histogram2d\"}],\"histogram2dcontour\":[{\"colorbar\":{\"outlinewidth\":0,\"ticks\":\"\"},\"colorscale\":[[0.0,\"#0d0887\"],[0.1111111111111111,\"#46039f\"],[0.2222222222222222,\"#7201a8\"],[0.3333333333333333,\"#9c179e\"],[0.4444444444444444,\"#bd3786\"],[0.5555555555555556,\"#d8576b\"],[0.6666666666666666,\"#ed7953\"],[0.7777777777777778,\"#fb9f3a\"],[0.8888888888888888,\"#fdca26\"],[1.0,\"#f0f921\"]],\"type\":\"histogram2dcontour\"}],\"mesh3d\":[{\"colorbar\":{\"outlinewidth\":0,\"ticks\":\"\"},\"type\":\"mesh3d\"}],\"parcoords\":[{\"line\":{\"colorbar\":{\"outlinewidth\":0,\"ticks\":\"\"}},\"type\":\"parcoords\"}],\"pie\":[{\"automargin\":true,\"type\":\"pie\"}],\"scatter\":[{\"marker\":{\"colorbar\":{\"outlinewidth\":0,\"ticks\":\"\"}},\"type\":\"scatter\"}],\"scatter3d\":[{\"line\":{\"colorbar\":{\"outlinewidth\":0,\"ticks\":\"\"}},\"marker\":{\"colorbar\":{\"outlinewidth\":0,\"ticks\":\"\"}},\"type\":\"scatter3d\"}],\"scattercarpet\":[{\"marker\":{\"colorbar\":{\"outlinewidth\":0,\"ticks\":\"\"}},\"type\":\"scattercarpet\"}],\"scattergeo\":[{\"marker\":{\"colorbar\":{\"outlinewidth\":0,\"ticks\":\"\"}},\"type\":\"scattergeo\"}],\"scattergl\":[{\"marker\":{\"colorbar\":{\"outlinewidth\":0,\"ticks\":\"\"}},\"type\":\"scattergl\"}],\"scattermapbox\":[{\"marker\":{\"colorbar\":{\"outlinewidth\":0,\"ticks\":\"\"}},\"type\":\"scattermapbox\"}],\"scatterpolar\":[{\"marker\":{\"colorbar\":{\"outlinewidth\":0,\"ticks\":\"\"}},\"type\":\"scatterpolar\"}],\"scatterpolargl\":[{\"marker\":{\"colorbar\":{\"outlinewidth\":0,\"ticks\":\"\"}},\"type\":\"scatterpolargl\"}],\"scatterternary\":[{\"marker\":{\"colorbar\":{\"outlinewidth\":0,\"ticks\":\"\"}},\"type\":\"scatterternary\"}],\"surface\":[{\"colorbar\":{\"outlinewidth\":0,\"ticks\":\"\"},\"colorscale\":[[0.0,\"#0d0887\"],[0.1111111111111111,\"#46039f\"],[0.2222222222222222,\"#7201a8\"],[0.3333333333333333,\"#9c179e\"],[0.4444444444444444,\"#bd3786\"],[0.5555555555555556,\"#d8576b\"],[0.6666666666666666,\"#ed7953\"],[0.7777777777777778,\"#fb9f3a\"],[0.8888888888888888,\"#fdca26\"],[1.0,\"#f0f921\"]],\"type\":\"surface\"}],\"table\":[{\"cells\":{\"fill\":{\"color\":\"#EBF0F8\"},\"line\":{\"color\":\"white\"}},\"header\":{\"fill\":{\"color\":\"#C8D4E3\"},\"line\":{\"color\":\"white\"}},\"type\":\"table\"}]},\"layout\":{\"annotationdefaults\":{\"arrowcolor\":\"#2a3f5f\",\"arrowhead\":0,\"arrowwidth\":1},\"autotypenumbers\":\"strict\",\"coloraxis\":{\"colorbar\":{\"outlinewidth\":0,\"ticks\":\"\"}},\"colorscale\":{\"diverging\":[[0,\"#8e0152\"],[0.1,\"#c51b7d\"],[0.2,\"#de77ae\"],[0.3,\"#f1b6da\"],[0.4,\"#fde0ef\"],[0.5,\"#f7f7f7\"],[0.6,\"#e6f5d0\"],[0.7,\"#b8e186\"],[0.8,\"#7fbc41\"],[0.9,\"#4d9221\"],[1,\"#276419\"]],\"sequential\":[[0.0,\"#0d0887\"],[0.1111111111111111,\"#46039f\"],[0.2222222222222222,\"#7201a8\"],[0.3333333333333333,\"#9c179e\"],[0.4444444444444444,\"#bd3786\"],[0.5555555555555556,\"#d8576b\"],[0.6666666666666666,\"#ed7953\"],[0.7777777777777778,\"#fb9f3a\"],[0.8888888888888888,\"#fdca26\"],[1.0,\"#f0f921\"]],\"sequentialminus\":[[0.0,\"#0d0887\"],[0.1111111111111111,\"#46039f\"],[0.2222222222222222,\"#7201a8\"],[0.3333333333333333,\"#9c179e\"],[0.4444444444444444,\"#bd3786\"],[0.5555555555555556,\"#d8576b\"],[0.6666666666666666,\"#ed7953\"],[0.7777777777777778,\"#fb9f3a\"],[0.8888888888888888,\"#fdca26\"],[1.0,\"#f0f921\"]]},\"colorway\":[\"#636efa\",\"#EF553B\",\"#00cc96\",\"#ab63fa\",\"#FFA15A\",\"#19d3f3\",\"#FF6692\",\"#B6E880\",\"#FF97FF\",\"#FECB52\"],\"font\":{\"color\":\"#2a3f5f\"},\"geo\":{\"bgcolor\":\"white\",\"lakecolor\":\"white\",\"landcolor\":\"#E5ECF6\",\"showlakes\":true,\"showland\":true,\"subunitcolor\":\"white\"},\"hoverlabel\":{\"align\":\"left\"},\"hovermode\":\"closest\",\"mapbox\":{\"style\":\"light\"},\"paper_bgcolor\":\"white\",\"plot_bgcolor\":\"#E5ECF6\",\"polar\":{\"angularaxis\":{\"gridcolor\":\"white\",\"linecolor\":\"white\",\"ticks\":\"\"},\"bgcolor\":\"#E5ECF6\",\"radialaxis\":{\"gridcolor\":\"white\",\"linecolor\":\"white\",\"ticks\":\"\"}},\"scene\":{\"xaxis\":{\"backgroundcolor\":\"#E5ECF6\",\"gridcolor\":\"white\",\"gridwidth\":2,\"linecolor\":\"white\",\"showbackground\":true,\"ticks\":\"\",\"zerolinecolor\":\"white\"},\"yaxis\":{\"backgroundcolor\":\"#E5ECF6\",\"gridcolor\":\"white\",\"gridwidth\":2,\"linecolor\":\"white\",\"showbackground\":true,\"ticks\":\"\",\"zerolinecolor\":\"white\"},\"zaxis\":{\"backgroundcolor\":\"#E5ECF6\",\"gridcolor\":\"white\",\"gridwidth\":2,\"linecolor\":\"white\",\"showbackground\":true,\"ticks\":\"\",\"zerolinecolor\":\"white\"}},\"shapedefaults\":{\"line\":{\"color\":\"#2a3f5f\"}},\"ternary\":{\"aaxis\":{\"gridcolor\":\"white\",\"linecolor\":\"white\",\"ticks\":\"\"},\"baxis\":{\"gridcolor\":\"white\",\"linecolor\":\"white\",\"ticks\":\"\"},\"bgcolor\":\"#E5ECF6\",\"caxis\":{\"gridcolor\":\"white\",\"linecolor\":\"white\",\"ticks\":\"\"}},\"title\":{\"x\":0.05},\"xaxis\":{\"automargin\":true,\"gridcolor\":\"white\",\"linecolor\":\"white\",\"ticks\":\"\",\"title\":{\"standoff\":15},\"zerolinecolor\":\"white\",\"zerolinewidth\":2},\"yaxis\":{\"automargin\":true,\"gridcolor\":\"white\",\"linecolor\":\"white\",\"ticks\":\"\",\"title\":{\"standoff\":15},\"zerolinecolor\":\"white\",\"zerolinewidth\":2}}},\"xaxis\":{\"anchor\":\"y\",\"domain\":[0.0,1.0],\"title\":{\"text\":\"PC 2 (18.1%)\"}},\"yaxis\":{\"anchor\":\"x\",\"domain\":[0.0,1.0],\"title\":{\"text\":\"PC 3 (12.1%)\"}},\"legend\":{\"title\":{\"text\":\"color, symbol\"},\"tracegroupgap\":0},\"margin\":{\"t\":60},\"height\":600,\"width\":600,\"plot_bgcolor\":\"rgb(243,243,243)\"},                        {\"responsive\": true}                    ).then(function(){\n",
       "                            \n",
       "var gd = document.getElementById('9173a93f-b3a3-478c-b471-ddf90f567726');\n",
       "var x = new MutationObserver(function (mutations, observer) {{\n",
       "        var display = window.getComputedStyle(gd).display;\n",
       "        if (!display || display === 'none') {{\n",
       "            console.log([gd, 'removed!']);\n",
       "            Plotly.purge(gd);\n",
       "            observer.disconnect();\n",
       "        }}\n",
       "}});\n",
       "\n",
       "// Listen for the removal of the full notebook cells\n",
       "var notebookContainer = gd.closest('#notebook-container');\n",
       "if (notebookContainer) {{\n",
       "    x.observe(notebookContainer, {childList: true});\n",
       "}}\n",
       "\n",
       "// Listen for the clearing of the current output cell\n",
       "var outputEl = gd.closest('.output');\n",
       "if (outputEl) {{\n",
       "    x.observe(outputEl, {childList: true});\n",
       "}}\n",
       "\n",
       "                        })                };                });            </script>        </div>"
      ]
     },
     "metadata": {},
     "output_type": "display_data"
    },
    {
     "data": {
      "application/vnd.plotly.v1+json": {
       "config": {
        "plotlyServerURL": "https://plot.ly"
       },
       "data": [
        {
         "hovertemplate": "color=13<br>symbol=exon<br>1=%{x}<br>2=%{y}<extra></extra>",
         "legendgroup": "13, exon",
         "marker": {
          "color": "#636efa",
          "size": 13,
          "symbol": "circle"
         },
         "mode": "markers",
         "name": "13, exon",
         "orientation": "v",
         "showlegend": true,
         "type": "scatter",
         "x": [
          -3.2526221143720733,
          -3.546837885104277,
          -3.624521929569702,
          -2.191515330366279,
          -1.1170589403078317
         ],
         "xaxis": "x",
         "y": [
          -2.9172401707131246,
          -1.5278803673308081,
          2.7268974024084924,
          3.898865525950063,
          3.7843011753886735
         ],
         "yaxis": "y"
        },
        {
         "hovertemplate": "color=2<br>symbol=exon<br>1=%{x}<br>2=%{y}<extra></extra>",
         "legendgroup": "2, exon",
         "marker": {
          "color": "#EF553B",
          "size": 13,
          "symbol": "circle"
         },
         "mode": "markers",
         "name": "2, exon",
         "orientation": "v",
         "showlegend": true,
         "type": "scatter",
         "x": [
          -6.417026493132955,
          -5.977012410247793,
          -5.542672320791636,
          -1.7392627704282082,
          0.21887801646445254
         ],
         "xaxis": "x",
         "y": [
          -6.587855129841519,
          -3.9334546979378437,
          -0.2297491687901948,
          3.625229849883072,
          2.6040097833773266
         ],
         "yaxis": "y"
        },
        {
         "hovertemplate": "color=11<br>symbol=exon<br>1=%{x}<br>2=%{y}<extra></extra>",
         "legendgroup": "11, exon",
         "marker": {
          "color": "#00cc96",
          "size": 13,
          "symbol": "circle"
         },
         "mode": "markers",
         "name": "11, exon",
         "orientation": "v",
         "showlegend": true,
         "type": "scatter",
         "x": [
          5.8913323181661,
          6.078386405022095,
          7.359007325634242,
          7.329984897865222,
          5.451897778290478
         ],
         "xaxis": "x",
         "y": [
          1.9095340673881487,
          1.4371258986777948,
          -0.6318997812571898,
          -3.2400645715697602,
          -5.414623745517061
         ],
         "yaxis": "y"
        },
        {
         "hovertemplate": "color=5<br>symbol=exon<br>1=%{x}<br>2=%{y}<extra></extra>",
         "legendgroup": "5, exon",
         "marker": {
          "color": "#ab63fa",
          "size": 13,
          "symbol": "circle"
         },
         "mode": "markers",
         "name": "5, exon",
         "orientation": "v",
         "showlegend": true,
         "type": "scatter",
         "x": [
          -0.7722904656464312,
          -0.6714474190037063,
          -0.5330164731362955,
          1.7021084974692886,
          1.3536893131953072
         ],
         "xaxis": "x",
         "y": [
          6.6438522198196726,
          3.523506637949409,
          -0.1438734785940041,
          -2.121338886294035,
          -3.4053425629971117
         ],
         "yaxis": "y"
        }
       ],
       "layout": {
        "height": 600,
        "legend": {
         "title": {
          "text": "color, symbol"
         },
         "tracegroupgap": 0
        },
        "margin": {
         "t": 60
        },
        "plot_bgcolor": "rgb(243,243,243)",
        "template": {
         "data": {
          "bar": [
           {
            "error_x": {
             "color": "#2a3f5f"
            },
            "error_y": {
             "color": "#2a3f5f"
            },
            "marker": {
             "line": {
              "color": "#E5ECF6",
              "width": 0.5
             },
             "pattern": {
              "fillmode": "overlay",
              "size": 10,
              "solidity": 0.2
             }
            },
            "type": "bar"
           }
          ],
          "barpolar": [
           {
            "marker": {
             "line": {
              "color": "#E5ECF6",
              "width": 0.5
             },
             "pattern": {
              "fillmode": "overlay",
              "size": 10,
              "solidity": 0.2
             }
            },
            "type": "barpolar"
           }
          ],
          "carpet": [
           {
            "aaxis": {
             "endlinecolor": "#2a3f5f",
             "gridcolor": "white",
             "linecolor": "white",
             "minorgridcolor": "white",
             "startlinecolor": "#2a3f5f"
            },
            "baxis": {
             "endlinecolor": "#2a3f5f",
             "gridcolor": "white",
             "linecolor": "white",
             "minorgridcolor": "white",
             "startlinecolor": "#2a3f5f"
            },
            "type": "carpet"
           }
          ],
          "choropleth": [
           {
            "colorbar": {
             "outlinewidth": 0,
             "ticks": ""
            },
            "type": "choropleth"
           }
          ],
          "contour": [
           {
            "colorbar": {
             "outlinewidth": 0,
             "ticks": ""
            },
            "colorscale": [
             [
              0,
              "#0d0887"
             ],
             [
              0.1111111111111111,
              "#46039f"
             ],
             [
              0.2222222222222222,
              "#7201a8"
             ],
             [
              0.3333333333333333,
              "#9c179e"
             ],
             [
              0.4444444444444444,
              "#bd3786"
             ],
             [
              0.5555555555555556,
              "#d8576b"
             ],
             [
              0.6666666666666666,
              "#ed7953"
             ],
             [
              0.7777777777777778,
              "#fb9f3a"
             ],
             [
              0.8888888888888888,
              "#fdca26"
             ],
             [
              1,
              "#f0f921"
             ]
            ],
            "type": "contour"
           }
          ],
          "contourcarpet": [
           {
            "colorbar": {
             "outlinewidth": 0,
             "ticks": ""
            },
            "type": "contourcarpet"
           }
          ],
          "heatmap": [
           {
            "colorbar": {
             "outlinewidth": 0,
             "ticks": ""
            },
            "colorscale": [
             [
              0,
              "#0d0887"
             ],
             [
              0.1111111111111111,
              "#46039f"
             ],
             [
              0.2222222222222222,
              "#7201a8"
             ],
             [
              0.3333333333333333,
              "#9c179e"
             ],
             [
              0.4444444444444444,
              "#bd3786"
             ],
             [
              0.5555555555555556,
              "#d8576b"
             ],
             [
              0.6666666666666666,
              "#ed7953"
             ],
             [
              0.7777777777777778,
              "#fb9f3a"
             ],
             [
              0.8888888888888888,
              "#fdca26"
             ],
             [
              1,
              "#f0f921"
             ]
            ],
            "type": "heatmap"
           }
          ],
          "heatmapgl": [
           {
            "colorbar": {
             "outlinewidth": 0,
             "ticks": ""
            },
            "colorscale": [
             [
              0,
              "#0d0887"
             ],
             [
              0.1111111111111111,
              "#46039f"
             ],
             [
              0.2222222222222222,
              "#7201a8"
             ],
             [
              0.3333333333333333,
              "#9c179e"
             ],
             [
              0.4444444444444444,
              "#bd3786"
             ],
             [
              0.5555555555555556,
              "#d8576b"
             ],
             [
              0.6666666666666666,
              "#ed7953"
             ],
             [
              0.7777777777777778,
              "#fb9f3a"
             ],
             [
              0.8888888888888888,
              "#fdca26"
             ],
             [
              1,
              "#f0f921"
             ]
            ],
            "type": "heatmapgl"
           }
          ],
          "histogram": [
           {
            "marker": {
             "pattern": {
              "fillmode": "overlay",
              "size": 10,
              "solidity": 0.2
             }
            },
            "type": "histogram"
           }
          ],
          "histogram2d": [
           {
            "colorbar": {
             "outlinewidth": 0,
             "ticks": ""
            },
            "colorscale": [
             [
              0,
              "#0d0887"
             ],
             [
              0.1111111111111111,
              "#46039f"
             ],
             [
              0.2222222222222222,
              "#7201a8"
             ],
             [
              0.3333333333333333,
              "#9c179e"
             ],
             [
              0.4444444444444444,
              "#bd3786"
             ],
             [
              0.5555555555555556,
              "#d8576b"
             ],
             [
              0.6666666666666666,
              "#ed7953"
             ],
             [
              0.7777777777777778,
              "#fb9f3a"
             ],
             [
              0.8888888888888888,
              "#fdca26"
             ],
             [
              1,
              "#f0f921"
             ]
            ],
            "type": "histogram2d"
           }
          ],
          "histogram2dcontour": [
           {
            "colorbar": {
             "outlinewidth": 0,
             "ticks": ""
            },
            "colorscale": [
             [
              0,
              "#0d0887"
             ],
             [
              0.1111111111111111,
              "#46039f"
             ],
             [
              0.2222222222222222,
              "#7201a8"
             ],
             [
              0.3333333333333333,
              "#9c179e"
             ],
             [
              0.4444444444444444,
              "#bd3786"
             ],
             [
              0.5555555555555556,
              "#d8576b"
             ],
             [
              0.6666666666666666,
              "#ed7953"
             ],
             [
              0.7777777777777778,
              "#fb9f3a"
             ],
             [
              0.8888888888888888,
              "#fdca26"
             ],
             [
              1,
              "#f0f921"
             ]
            ],
            "type": "histogram2dcontour"
           }
          ],
          "mesh3d": [
           {
            "colorbar": {
             "outlinewidth": 0,
             "ticks": ""
            },
            "type": "mesh3d"
           }
          ],
          "parcoords": [
           {
            "line": {
             "colorbar": {
              "outlinewidth": 0,
              "ticks": ""
             }
            },
            "type": "parcoords"
           }
          ],
          "pie": [
           {
            "automargin": true,
            "type": "pie"
           }
          ],
          "scatter": [
           {
            "marker": {
             "colorbar": {
              "outlinewidth": 0,
              "ticks": ""
             }
            },
            "type": "scatter"
           }
          ],
          "scatter3d": [
           {
            "line": {
             "colorbar": {
              "outlinewidth": 0,
              "ticks": ""
             }
            },
            "marker": {
             "colorbar": {
              "outlinewidth": 0,
              "ticks": ""
             }
            },
            "type": "scatter3d"
           }
          ],
          "scattercarpet": [
           {
            "marker": {
             "colorbar": {
              "outlinewidth": 0,
              "ticks": ""
             }
            },
            "type": "scattercarpet"
           }
          ],
          "scattergeo": [
           {
            "marker": {
             "colorbar": {
              "outlinewidth": 0,
              "ticks": ""
             }
            },
            "type": "scattergeo"
           }
          ],
          "scattergl": [
           {
            "marker": {
             "colorbar": {
              "outlinewidth": 0,
              "ticks": ""
             }
            },
            "type": "scattergl"
           }
          ],
          "scattermapbox": [
           {
            "marker": {
             "colorbar": {
              "outlinewidth": 0,
              "ticks": ""
             }
            },
            "type": "scattermapbox"
           }
          ],
          "scatterpolar": [
           {
            "marker": {
             "colorbar": {
              "outlinewidth": 0,
              "ticks": ""
             }
            },
            "type": "scatterpolar"
           }
          ],
          "scatterpolargl": [
           {
            "marker": {
             "colorbar": {
              "outlinewidth": 0,
              "ticks": ""
             }
            },
            "type": "scatterpolargl"
           }
          ],
          "scatterternary": [
           {
            "marker": {
             "colorbar": {
              "outlinewidth": 0,
              "ticks": ""
             }
            },
            "type": "scatterternary"
           }
          ],
          "surface": [
           {
            "colorbar": {
             "outlinewidth": 0,
             "ticks": ""
            },
            "colorscale": [
             [
              0,
              "#0d0887"
             ],
             [
              0.1111111111111111,
              "#46039f"
             ],
             [
              0.2222222222222222,
              "#7201a8"
             ],
             [
              0.3333333333333333,
              "#9c179e"
             ],
             [
              0.4444444444444444,
              "#bd3786"
             ],
             [
              0.5555555555555556,
              "#d8576b"
             ],
             [
              0.6666666666666666,
              "#ed7953"
             ],
             [
              0.7777777777777778,
              "#fb9f3a"
             ],
             [
              0.8888888888888888,
              "#fdca26"
             ],
             [
              1,
              "#f0f921"
             ]
            ],
            "type": "surface"
           }
          ],
          "table": [
           {
            "cells": {
             "fill": {
              "color": "#EBF0F8"
             },
             "line": {
              "color": "white"
             }
            },
            "header": {
             "fill": {
              "color": "#C8D4E3"
             },
             "line": {
              "color": "white"
             }
            },
            "type": "table"
           }
          ]
         },
         "layout": {
          "annotationdefaults": {
           "arrowcolor": "#2a3f5f",
           "arrowhead": 0,
           "arrowwidth": 1
          },
          "autotypenumbers": "strict",
          "coloraxis": {
           "colorbar": {
            "outlinewidth": 0,
            "ticks": ""
           }
          },
          "colorscale": {
           "diverging": [
            [
             0,
             "#8e0152"
            ],
            [
             0.1,
             "#c51b7d"
            ],
            [
             0.2,
             "#de77ae"
            ],
            [
             0.3,
             "#f1b6da"
            ],
            [
             0.4,
             "#fde0ef"
            ],
            [
             0.5,
             "#f7f7f7"
            ],
            [
             0.6,
             "#e6f5d0"
            ],
            [
             0.7,
             "#b8e186"
            ],
            [
             0.8,
             "#7fbc41"
            ],
            [
             0.9,
             "#4d9221"
            ],
            [
             1,
             "#276419"
            ]
           ],
           "sequential": [
            [
             0,
             "#0d0887"
            ],
            [
             0.1111111111111111,
             "#46039f"
            ],
            [
             0.2222222222222222,
             "#7201a8"
            ],
            [
             0.3333333333333333,
             "#9c179e"
            ],
            [
             0.4444444444444444,
             "#bd3786"
            ],
            [
             0.5555555555555556,
             "#d8576b"
            ],
            [
             0.6666666666666666,
             "#ed7953"
            ],
            [
             0.7777777777777778,
             "#fb9f3a"
            ],
            [
             0.8888888888888888,
             "#fdca26"
            ],
            [
             1,
             "#f0f921"
            ]
           ],
           "sequentialminus": [
            [
             0,
             "#0d0887"
            ],
            [
             0.1111111111111111,
             "#46039f"
            ],
            [
             0.2222222222222222,
             "#7201a8"
            ],
            [
             0.3333333333333333,
             "#9c179e"
            ],
            [
             0.4444444444444444,
             "#bd3786"
            ],
            [
             0.5555555555555556,
             "#d8576b"
            ],
            [
             0.6666666666666666,
             "#ed7953"
            ],
            [
             0.7777777777777778,
             "#fb9f3a"
            ],
            [
             0.8888888888888888,
             "#fdca26"
            ],
            [
             1,
             "#f0f921"
            ]
           ]
          },
          "colorway": [
           "#636efa",
           "#EF553B",
           "#00cc96",
           "#ab63fa",
           "#FFA15A",
           "#19d3f3",
           "#FF6692",
           "#B6E880",
           "#FF97FF",
           "#FECB52"
          ],
          "font": {
           "color": "#2a3f5f"
          },
          "geo": {
           "bgcolor": "white",
           "lakecolor": "white",
           "landcolor": "#E5ECF6",
           "showlakes": true,
           "showland": true,
           "subunitcolor": "white"
          },
          "hoverlabel": {
           "align": "left"
          },
          "hovermode": "closest",
          "mapbox": {
           "style": "light"
          },
          "paper_bgcolor": "white",
          "plot_bgcolor": "#E5ECF6",
          "polar": {
           "angularaxis": {
            "gridcolor": "white",
            "linecolor": "white",
            "ticks": ""
           },
           "bgcolor": "#E5ECF6",
           "radialaxis": {
            "gridcolor": "white",
            "linecolor": "white",
            "ticks": ""
           }
          },
          "scene": {
           "xaxis": {
            "backgroundcolor": "#E5ECF6",
            "gridcolor": "white",
            "gridwidth": 2,
            "linecolor": "white",
            "showbackground": true,
            "ticks": "",
            "zerolinecolor": "white"
           },
           "yaxis": {
            "backgroundcolor": "#E5ECF6",
            "gridcolor": "white",
            "gridwidth": 2,
            "linecolor": "white",
            "showbackground": true,
            "ticks": "",
            "zerolinecolor": "white"
           },
           "zaxis": {
            "backgroundcolor": "#E5ECF6",
            "gridcolor": "white",
            "gridwidth": 2,
            "linecolor": "white",
            "showbackground": true,
            "ticks": "",
            "zerolinecolor": "white"
           }
          },
          "shapedefaults": {
           "line": {
            "color": "#2a3f5f"
           }
          },
          "ternary": {
           "aaxis": {
            "gridcolor": "white",
            "linecolor": "white",
            "ticks": ""
           },
           "baxis": {
            "gridcolor": "white",
            "linecolor": "white",
            "ticks": ""
           },
           "bgcolor": "#E5ECF6",
           "caxis": {
            "gridcolor": "white",
            "linecolor": "white",
            "ticks": ""
           }
          },
          "title": {
           "x": 0.05
          },
          "xaxis": {
           "automargin": true,
           "gridcolor": "white",
           "linecolor": "white",
           "ticks": "",
           "title": {
            "standoff": 15
           },
           "zerolinecolor": "white",
           "zerolinewidth": 2
          },
          "yaxis": {
           "automargin": true,
           "gridcolor": "white",
           "linecolor": "white",
           "ticks": "",
           "title": {
            "standoff": 15
           },
           "zerolinecolor": "white",
           "zerolinewidth": 2
          }
         }
        },
        "width": 600,
        "xaxis": {
         "anchor": "y",
         "domain": [
          0,
          1
         ],
         "title": {
          "text": "PC 2 (18.1%)"
         }
        },
        "yaxis": {
         "anchor": "x",
         "domain": [
          0,
          1
         ],
         "title": {
          "text": "PC 3 (12.1%)"
         }
        }
       }
      },
      "text/html": [
       "<div>                            <div id=\"42a17bf1-fc00-4ddf-931f-1702f471fa74\" class=\"plotly-graph-div\" style=\"height:600px; width:600px;\"></div>            <script type=\"text/javascript\">                require([\"plotly\"], function(Plotly) {                    window.PLOTLYENV=window.PLOTLYENV || {};                                    if (document.getElementById(\"42a17bf1-fc00-4ddf-931f-1702f471fa74\")) {                    Plotly.newPlot(                        \"42a17bf1-fc00-4ddf-931f-1702f471fa74\",                        [{\"hovertemplate\":\"color=13<br>symbol=exon<br>1=%{x}<br>2=%{y}<extra></extra>\",\"legendgroup\":\"13, exon\",\"marker\":{\"color\":\"#636efa\",\"symbol\":\"circle\",\"size\":13},\"mode\":\"markers\",\"name\":\"13, exon\",\"orientation\":\"v\",\"showlegend\":true,\"x\":[-3.2526221143720733,-3.546837885104277,-3.624521929569702,-2.191515330366279,-1.1170589403078317],\"xaxis\":\"x\",\"y\":[-2.9172401707131246,-1.5278803673308081,2.7268974024084924,3.898865525950063,3.7843011753886735],\"yaxis\":\"y\",\"type\":\"scatter\"},{\"hovertemplate\":\"color=2<br>symbol=exon<br>1=%{x}<br>2=%{y}<extra></extra>\",\"legendgroup\":\"2, exon\",\"marker\":{\"color\":\"#EF553B\",\"symbol\":\"circle\",\"size\":13},\"mode\":\"markers\",\"name\":\"2, exon\",\"orientation\":\"v\",\"showlegend\":true,\"x\":[-6.417026493132955,-5.977012410247793,-5.542672320791636,-1.7392627704282082,0.21887801646445254],\"xaxis\":\"x\",\"y\":[-6.587855129841519,-3.9334546979378437,-0.2297491687901948,3.625229849883072,2.6040097833773266],\"yaxis\":\"y\",\"type\":\"scatter\"},{\"hovertemplate\":\"color=11<br>symbol=exon<br>1=%{x}<br>2=%{y}<extra></extra>\",\"legendgroup\":\"11, exon\",\"marker\":{\"color\":\"#00cc96\",\"symbol\":\"circle\",\"size\":13},\"mode\":\"markers\",\"name\":\"11, exon\",\"orientation\":\"v\",\"showlegend\":true,\"x\":[5.8913323181661,6.078386405022095,7.359007325634242,7.329984897865222,5.451897778290478],\"xaxis\":\"x\",\"y\":[1.9095340673881487,1.4371258986777948,-0.6318997812571898,-3.2400645715697602,-5.414623745517061],\"yaxis\":\"y\",\"type\":\"scatter\"},{\"hovertemplate\":\"color=5<br>symbol=exon<br>1=%{x}<br>2=%{y}<extra></extra>\",\"legendgroup\":\"5, exon\",\"marker\":{\"color\":\"#ab63fa\",\"symbol\":\"circle\",\"size\":13},\"mode\":\"markers\",\"name\":\"5, exon\",\"orientation\":\"v\",\"showlegend\":true,\"x\":[-0.7722904656464312,-0.6714474190037063,-0.5330164731362955,1.7021084974692886,1.3536893131953072],\"xaxis\":\"x\",\"y\":[6.6438522198196726,3.523506637949409,-0.1438734785940041,-2.121338886294035,-3.4053425629971117],\"yaxis\":\"y\",\"type\":\"scatter\"}],                        {\"template\":{\"data\":{\"bar\":[{\"error_x\":{\"color\":\"#2a3f5f\"},\"error_y\":{\"color\":\"#2a3f5f\"},\"marker\":{\"line\":{\"color\":\"#E5ECF6\",\"width\":0.5},\"pattern\":{\"fillmode\":\"overlay\",\"size\":10,\"solidity\":0.2}},\"type\":\"bar\"}],\"barpolar\":[{\"marker\":{\"line\":{\"color\":\"#E5ECF6\",\"width\":0.5},\"pattern\":{\"fillmode\":\"overlay\",\"size\":10,\"solidity\":0.2}},\"type\":\"barpolar\"}],\"carpet\":[{\"aaxis\":{\"endlinecolor\":\"#2a3f5f\",\"gridcolor\":\"white\",\"linecolor\":\"white\",\"minorgridcolor\":\"white\",\"startlinecolor\":\"#2a3f5f\"},\"baxis\":{\"endlinecolor\":\"#2a3f5f\",\"gridcolor\":\"white\",\"linecolor\":\"white\",\"minorgridcolor\":\"white\",\"startlinecolor\":\"#2a3f5f\"},\"type\":\"carpet\"}],\"choropleth\":[{\"colorbar\":{\"outlinewidth\":0,\"ticks\":\"\"},\"type\":\"choropleth\"}],\"contour\":[{\"colorbar\":{\"outlinewidth\":0,\"ticks\":\"\"},\"colorscale\":[[0.0,\"#0d0887\"],[0.1111111111111111,\"#46039f\"],[0.2222222222222222,\"#7201a8\"],[0.3333333333333333,\"#9c179e\"],[0.4444444444444444,\"#bd3786\"],[0.5555555555555556,\"#d8576b\"],[0.6666666666666666,\"#ed7953\"],[0.7777777777777778,\"#fb9f3a\"],[0.8888888888888888,\"#fdca26\"],[1.0,\"#f0f921\"]],\"type\":\"contour\"}],\"contourcarpet\":[{\"colorbar\":{\"outlinewidth\":0,\"ticks\":\"\"},\"type\":\"contourcarpet\"}],\"heatmap\":[{\"colorbar\":{\"outlinewidth\":0,\"ticks\":\"\"},\"colorscale\":[[0.0,\"#0d0887\"],[0.1111111111111111,\"#46039f\"],[0.2222222222222222,\"#7201a8\"],[0.3333333333333333,\"#9c179e\"],[0.4444444444444444,\"#bd3786\"],[0.5555555555555556,\"#d8576b\"],[0.6666666666666666,\"#ed7953\"],[0.7777777777777778,\"#fb9f3a\"],[0.8888888888888888,\"#fdca26\"],[1.0,\"#f0f921\"]],\"type\":\"heatmap\"}],\"heatmapgl\":[{\"colorbar\":{\"outlinewidth\":0,\"ticks\":\"\"},\"colorscale\":[[0.0,\"#0d0887\"],[0.1111111111111111,\"#46039f\"],[0.2222222222222222,\"#7201a8\"],[0.3333333333333333,\"#9c179e\"],[0.4444444444444444,\"#bd3786\"],[0.5555555555555556,\"#d8576b\"],[0.6666666666666666,\"#ed7953\"],[0.7777777777777778,\"#fb9f3a\"],[0.8888888888888888,\"#fdca26\"],[1.0,\"#f0f921\"]],\"type\":\"heatmapgl\"}],\"histogram\":[{\"marker\":{\"pattern\":{\"fillmode\":\"overlay\",\"size\":10,\"solidity\":0.2}},\"type\":\"histogram\"}],\"histogram2d\":[{\"colorbar\":{\"outlinewidth\":0,\"ticks\":\"\"},\"colorscale\":[[0.0,\"#0d0887\"],[0.1111111111111111,\"#46039f\"],[0.2222222222222222,\"#7201a8\"],[0.3333333333333333,\"#9c179e\"],[0.4444444444444444,\"#bd3786\"],[0.5555555555555556,\"#d8576b\"],[0.6666666666666666,\"#ed7953\"],[0.7777777777777778,\"#fb9f3a\"],[0.8888888888888888,\"#fdca26\"],[1.0,\"#f0f921\"]],\"type\":\"histogram2d\"}],\"histogram2dcontour\":[{\"colorbar\":{\"outlinewidth\":0,\"ticks\":\"\"},\"colorscale\":[[0.0,\"#0d0887\"],[0.1111111111111111,\"#46039f\"],[0.2222222222222222,\"#7201a8\"],[0.3333333333333333,\"#9c179e\"],[0.4444444444444444,\"#bd3786\"],[0.5555555555555556,\"#d8576b\"],[0.6666666666666666,\"#ed7953\"],[0.7777777777777778,\"#fb9f3a\"],[0.8888888888888888,\"#fdca26\"],[1.0,\"#f0f921\"]],\"type\":\"histogram2dcontour\"}],\"mesh3d\":[{\"colorbar\":{\"outlinewidth\":0,\"ticks\":\"\"},\"type\":\"mesh3d\"}],\"parcoords\":[{\"line\":{\"colorbar\":{\"outlinewidth\":0,\"ticks\":\"\"}},\"type\":\"parcoords\"}],\"pie\":[{\"automargin\":true,\"type\":\"pie\"}],\"scatter\":[{\"marker\":{\"colorbar\":{\"outlinewidth\":0,\"ticks\":\"\"}},\"type\":\"scatter\"}],\"scatter3d\":[{\"line\":{\"colorbar\":{\"outlinewidth\":0,\"ticks\":\"\"}},\"marker\":{\"colorbar\":{\"outlinewidth\":0,\"ticks\":\"\"}},\"type\":\"scatter3d\"}],\"scattercarpet\":[{\"marker\":{\"colorbar\":{\"outlinewidth\":0,\"ticks\":\"\"}},\"type\":\"scattercarpet\"}],\"scattergeo\":[{\"marker\":{\"colorbar\":{\"outlinewidth\":0,\"ticks\":\"\"}},\"type\":\"scattergeo\"}],\"scattergl\":[{\"marker\":{\"colorbar\":{\"outlinewidth\":0,\"ticks\":\"\"}},\"type\":\"scattergl\"}],\"scattermapbox\":[{\"marker\":{\"colorbar\":{\"outlinewidth\":0,\"ticks\":\"\"}},\"type\":\"scattermapbox\"}],\"scatterpolar\":[{\"marker\":{\"colorbar\":{\"outlinewidth\":0,\"ticks\":\"\"}},\"type\":\"scatterpolar\"}],\"scatterpolargl\":[{\"marker\":{\"colorbar\":{\"outlinewidth\":0,\"ticks\":\"\"}},\"type\":\"scatterpolargl\"}],\"scatterternary\":[{\"marker\":{\"colorbar\":{\"outlinewidth\":0,\"ticks\":\"\"}},\"type\":\"scatterternary\"}],\"surface\":[{\"colorbar\":{\"outlinewidth\":0,\"ticks\":\"\"},\"colorscale\":[[0.0,\"#0d0887\"],[0.1111111111111111,\"#46039f\"],[0.2222222222222222,\"#7201a8\"],[0.3333333333333333,\"#9c179e\"],[0.4444444444444444,\"#bd3786\"],[0.5555555555555556,\"#d8576b\"],[0.6666666666666666,\"#ed7953\"],[0.7777777777777778,\"#fb9f3a\"],[0.8888888888888888,\"#fdca26\"],[1.0,\"#f0f921\"]],\"type\":\"surface\"}],\"table\":[{\"cells\":{\"fill\":{\"color\":\"#EBF0F8\"},\"line\":{\"color\":\"white\"}},\"header\":{\"fill\":{\"color\":\"#C8D4E3\"},\"line\":{\"color\":\"white\"}},\"type\":\"table\"}]},\"layout\":{\"annotationdefaults\":{\"arrowcolor\":\"#2a3f5f\",\"arrowhead\":0,\"arrowwidth\":1},\"autotypenumbers\":\"strict\",\"coloraxis\":{\"colorbar\":{\"outlinewidth\":0,\"ticks\":\"\"}},\"colorscale\":{\"diverging\":[[0,\"#8e0152\"],[0.1,\"#c51b7d\"],[0.2,\"#de77ae\"],[0.3,\"#f1b6da\"],[0.4,\"#fde0ef\"],[0.5,\"#f7f7f7\"],[0.6,\"#e6f5d0\"],[0.7,\"#b8e186\"],[0.8,\"#7fbc41\"],[0.9,\"#4d9221\"],[1,\"#276419\"]],\"sequential\":[[0.0,\"#0d0887\"],[0.1111111111111111,\"#46039f\"],[0.2222222222222222,\"#7201a8\"],[0.3333333333333333,\"#9c179e\"],[0.4444444444444444,\"#bd3786\"],[0.5555555555555556,\"#d8576b\"],[0.6666666666666666,\"#ed7953\"],[0.7777777777777778,\"#fb9f3a\"],[0.8888888888888888,\"#fdca26\"],[1.0,\"#f0f921\"]],\"sequentialminus\":[[0.0,\"#0d0887\"],[0.1111111111111111,\"#46039f\"],[0.2222222222222222,\"#7201a8\"],[0.3333333333333333,\"#9c179e\"],[0.4444444444444444,\"#bd3786\"],[0.5555555555555556,\"#d8576b\"],[0.6666666666666666,\"#ed7953\"],[0.7777777777777778,\"#fb9f3a\"],[0.8888888888888888,\"#fdca26\"],[1.0,\"#f0f921\"]]},\"colorway\":[\"#636efa\",\"#EF553B\",\"#00cc96\",\"#ab63fa\",\"#FFA15A\",\"#19d3f3\",\"#FF6692\",\"#B6E880\",\"#FF97FF\",\"#FECB52\"],\"font\":{\"color\":\"#2a3f5f\"},\"geo\":{\"bgcolor\":\"white\",\"lakecolor\":\"white\",\"landcolor\":\"#E5ECF6\",\"showlakes\":true,\"showland\":true,\"subunitcolor\":\"white\"},\"hoverlabel\":{\"align\":\"left\"},\"hovermode\":\"closest\",\"mapbox\":{\"style\":\"light\"},\"paper_bgcolor\":\"white\",\"plot_bgcolor\":\"#E5ECF6\",\"polar\":{\"angularaxis\":{\"gridcolor\":\"white\",\"linecolor\":\"white\",\"ticks\":\"\"},\"bgcolor\":\"#E5ECF6\",\"radialaxis\":{\"gridcolor\":\"white\",\"linecolor\":\"white\",\"ticks\":\"\"}},\"scene\":{\"xaxis\":{\"backgroundcolor\":\"#E5ECF6\",\"gridcolor\":\"white\",\"gridwidth\":2,\"linecolor\":\"white\",\"showbackground\":true,\"ticks\":\"\",\"zerolinecolor\":\"white\"},\"yaxis\":{\"backgroundcolor\":\"#E5ECF6\",\"gridcolor\":\"white\",\"gridwidth\":2,\"linecolor\":\"white\",\"showbackground\":true,\"ticks\":\"\",\"zerolinecolor\":\"white\"},\"zaxis\":{\"backgroundcolor\":\"#E5ECF6\",\"gridcolor\":\"white\",\"gridwidth\":2,\"linecolor\":\"white\",\"showbackground\":true,\"ticks\":\"\",\"zerolinecolor\":\"white\"}},\"shapedefaults\":{\"line\":{\"color\":\"#2a3f5f\"}},\"ternary\":{\"aaxis\":{\"gridcolor\":\"white\",\"linecolor\":\"white\",\"ticks\":\"\"},\"baxis\":{\"gridcolor\":\"white\",\"linecolor\":\"white\",\"ticks\":\"\"},\"bgcolor\":\"#E5ECF6\",\"caxis\":{\"gridcolor\":\"white\",\"linecolor\":\"white\",\"ticks\":\"\"}},\"title\":{\"x\":0.05},\"xaxis\":{\"automargin\":true,\"gridcolor\":\"white\",\"linecolor\":\"white\",\"ticks\":\"\",\"title\":{\"standoff\":15},\"zerolinecolor\":\"white\",\"zerolinewidth\":2},\"yaxis\":{\"automargin\":true,\"gridcolor\":\"white\",\"linecolor\":\"white\",\"ticks\":\"\",\"title\":{\"standoff\":15},\"zerolinecolor\":\"white\",\"zerolinewidth\":2}}},\"xaxis\":{\"anchor\":\"y\",\"domain\":[0.0,1.0],\"title\":{\"text\":\"PC 2 (18.1%)\"}},\"yaxis\":{\"anchor\":\"x\",\"domain\":[0.0,1.0],\"title\":{\"text\":\"PC 3 (12.1%)\"}},\"legend\":{\"title\":{\"text\":\"color, symbol\"},\"tracegroupgap\":0},\"margin\":{\"t\":60},\"height\":600,\"width\":600,\"plot_bgcolor\":\"rgb(243,243,243)\"},                        {\"responsive\": true}                    ).then(function(){\n",
       "                            \n",
       "var gd = document.getElementById('42a17bf1-fc00-4ddf-931f-1702f471fa74');\n",
       "var x = new MutationObserver(function (mutations, observer) {{\n",
       "        var display = window.getComputedStyle(gd).display;\n",
       "        if (!display || display === 'none') {{\n",
       "            console.log([gd, 'removed!']);\n",
       "            Plotly.purge(gd);\n",
       "            observer.disconnect();\n",
       "        }}\n",
       "}});\n",
       "\n",
       "// Listen for the removal of the full notebook cells\n",
       "var notebookContainer = gd.closest('#notebook-container');\n",
       "if (notebookContainer) {{\n",
       "    x.observe(notebookContainer, {childList: true});\n",
       "}}\n",
       "\n",
       "// Listen for the clearing of the current output cell\n",
       "var outputEl = gd.closest('.output');\n",
       "if (outputEl) {{\n",
       "    x.observe(outputEl, {childList: true});\n",
       "}}\n",
       "\n",
       "                        })                };                });            </script>        </div>"
      ]
     },
     "metadata": {},
     "output_type": "display_data"
    },
    {
     "data": {
      "application/vnd.plotly.v1+json": {
       "config": {
        "plotlyServerURL": "https://plot.ly"
       },
       "data": [
        {
         "hovertemplate": "color=0<br>symbol=33to38<br>2=%{x}<br>3=%{y}<extra></extra>",
         "legendgroup": "0, 33to38",
         "marker": {
          "color": "#636efa",
          "size": 13,
          "symbol": "circle"
         },
         "mode": "markers",
         "name": "0, 33to38",
         "orientation": "v",
         "showlegend": true,
         "type": "scatter",
         "x": [
          -2.917240167024505,
          -6.587855128205584
         ],
         "xaxis": "x",
         "y": [
          2.055234343725337,
          -3.5532985009284643
         ],
         "yaxis": "y"
        },
        {
         "hovertemplate": "color=0<br>symbol=38to33<br>2=%{x}<br>3=%{y}<extra></extra>",
         "legendgroup": "0, 38to33",
         "marker": {
          "color": "#636efa",
          "size": 13,
          "symbol": "diamond"
         },
         "mode": "markers",
         "name": "0, 38to33",
         "orientation": "v",
         "showlegend": true,
         "type": "scatter",
         "x": [
          1.909534075440343,
          6.643852217233067
         ],
         "xaxis": "x",
         "y": [
          -3.6759901072723964,
          1.1858456018823385
         ],
         "yaxis": "y"
        },
        {
         "hovertemplate": "color=1<br>symbol=33to38<br>2=%{x}<br>3=%{y}<extra></extra>",
         "legendgroup": "1, 33to38",
         "marker": {
          "color": "#EF553B",
          "size": 13,
          "symbol": "circle"
         },
         "mode": "markers",
         "name": "1, 33to38",
         "orientation": "v",
         "showlegend": true,
         "type": "scatter",
         "x": [
          -1.5278803700784287,
          -3.9334547076483166
         ],
         "xaxis": "x",
         "y": [
          1.7036757488937453,
          -3.1695659972117105
         ],
         "yaxis": "y"
        },
        {
         "hovertemplate": "color=1<br>symbol=38to33<br>2=%{x}<br>3=%{y}<extra></extra>",
         "legendgroup": "1, 38to33",
         "marker": {
          "color": "#EF553B",
          "size": 13,
          "symbol": "diamond"
         },
         "mode": "markers",
         "name": "1, 38to33",
         "orientation": "v",
         "showlegend": true,
         "type": "scatter",
         "x": [
          1.437125885148057,
          3.523506644758918
         ],
         "xaxis": "x",
         "y": [
          -2.7406458839114975,
          1.5454744049692395
         ],
         "yaxis": "y"
        },
        {
         "hovertemplate": "color=3<br>symbol=33to38<br>2=%{x}<br>3=%{y}<extra></extra>",
         "legendgroup": "3, 33to38",
         "marker": {
          "color": "#00cc96",
          "size": 13,
          "symbol": "circle"
         },
         "mode": "markers",
         "name": "3, 33to38",
         "orientation": "v",
         "showlegend": true,
         "type": "scatter",
         "x": [
          2.7268974020502155,
          -0.22974915532130502
         ],
         "xaxis": "x",
         "y": [
          -0.059116210469461264,
          -2.834408734876594
         ],
         "yaxis": "y"
        },
        {
         "hovertemplate": "color=3<br>symbol=38to33<br>2=%{x}<br>3=%{y}<extra></extra>",
         "legendgroup": "3, 38to33",
         "marker": {
          "color": "#00cc96",
          "size": 13,
          "symbol": "diamond"
         },
         "mode": "markers",
         "name": "3, 38to33",
         "orientation": "v",
         "showlegend": true,
         "type": "scatter",
         "x": [
          -0.6318997798821904,
          -0.14387348718484205
         ],
         "xaxis": "x",
         "y": [
          -2.58816502548193,
          3.313649758609726
         ],
         "yaxis": "y"
        },
        {
         "hovertemplate": "color=6<br>symbol=33to38<br>2=%{x}<br>3=%{y}<extra></extra>",
         "legendgroup": "6, 33to38",
         "marker": {
          "color": "#ab63fa",
          "size": 13,
          "symbol": "circle"
         },
         "mode": "markers",
         "name": "6, 33to38",
         "orientation": "v",
         "showlegend": true,
         "type": "scatter",
         "x": [
          3.8988655182309047,
          3.6252298462642703
         ],
         "xaxis": "x",
         "y": [
          0.11114787108487566,
          -2.7967557941309225
         ],
         "yaxis": "y"
        },
        {
         "hovertemplate": "color=6<br>symbol=38to33<br>2=%{x}<br>3=%{y}<extra></extra>",
         "legendgroup": "6, 38to33",
         "marker": {
          "color": "#ab63fa",
          "size": 13,
          "symbol": "diamond"
         },
         "mode": "markers",
         "name": "6, 38to33",
         "orientation": "v",
         "showlegend": true,
         "type": "scatter",
         "x": [
          -3.240064568192936,
          -2.121338876595254
         ],
         "xaxis": "x",
         "y": [
          -0.23442465644769583,
          5.6224802672150505
         ],
         "yaxis": "y"
        },
        {
         "hovertemplate": "color=9<br>symbol=33to38<br>2=%{x}<br>3=%{y}<extra></extra>",
         "legendgroup": "9, 33to38",
         "marker": {
          "color": "#FFA15A",
          "size": 13,
          "symbol": "circle"
         },
         "mode": "markers",
         "name": "9, 33to38",
         "orientation": "v",
         "showlegend": true,
         "type": "scatter",
         "x": [
          3.7843011826431274,
          2.6040097846263395
         ],
         "xaxis": "x",
         "y": [
          1.3220564715629288,
          0.043937433681790046
         ],
         "yaxis": "y"
        },
        {
         "hovertemplate": "color=9<br>symbol=38to33<br>2=%{x}<br>3=%{y}<extra></extra>",
         "legendgroup": "9, 38to33",
         "marker": {
          "color": "#FFA15A",
          "size": 13,
          "symbol": "diamond"
         },
         "mode": "markers",
         "name": "9, 38to33",
         "orientation": "v",
         "showlegend": true,
         "type": "scatter",
         "x": [
          -5.41462374439689,
          -3.405342571864994
         ],
         "xaxis": "x",
         "y": [
          -0.3161228719188663,
          5.064991881024513
         ],
         "yaxis": "y"
        }
       ],
       "layout": {
        "height": 600,
        "legend": {
         "title": {
          "text": "color, symbol"
         },
         "tracegroupgap": 0
        },
        "margin": {
         "t": 60
        },
        "plot_bgcolor": "rgb(243,243,243)",
        "template": {
         "data": {
          "bar": [
           {
            "error_x": {
             "color": "#2a3f5f"
            },
            "error_y": {
             "color": "#2a3f5f"
            },
            "marker": {
             "line": {
              "color": "#E5ECF6",
              "width": 0.5
             },
             "pattern": {
              "fillmode": "overlay",
              "size": 10,
              "solidity": 0.2
             }
            },
            "type": "bar"
           }
          ],
          "barpolar": [
           {
            "marker": {
             "line": {
              "color": "#E5ECF6",
              "width": 0.5
             },
             "pattern": {
              "fillmode": "overlay",
              "size": 10,
              "solidity": 0.2
             }
            },
            "type": "barpolar"
           }
          ],
          "carpet": [
           {
            "aaxis": {
             "endlinecolor": "#2a3f5f",
             "gridcolor": "white",
             "linecolor": "white",
             "minorgridcolor": "white",
             "startlinecolor": "#2a3f5f"
            },
            "baxis": {
             "endlinecolor": "#2a3f5f",
             "gridcolor": "white",
             "linecolor": "white",
             "minorgridcolor": "white",
             "startlinecolor": "#2a3f5f"
            },
            "type": "carpet"
           }
          ],
          "choropleth": [
           {
            "colorbar": {
             "outlinewidth": 0,
             "ticks": ""
            },
            "type": "choropleth"
           }
          ],
          "contour": [
           {
            "colorbar": {
             "outlinewidth": 0,
             "ticks": ""
            },
            "colorscale": [
             [
              0,
              "#0d0887"
             ],
             [
              0.1111111111111111,
              "#46039f"
             ],
             [
              0.2222222222222222,
              "#7201a8"
             ],
             [
              0.3333333333333333,
              "#9c179e"
             ],
             [
              0.4444444444444444,
              "#bd3786"
             ],
             [
              0.5555555555555556,
              "#d8576b"
             ],
             [
              0.6666666666666666,
              "#ed7953"
             ],
             [
              0.7777777777777778,
              "#fb9f3a"
             ],
             [
              0.8888888888888888,
              "#fdca26"
             ],
             [
              1,
              "#f0f921"
             ]
            ],
            "type": "contour"
           }
          ],
          "contourcarpet": [
           {
            "colorbar": {
             "outlinewidth": 0,
             "ticks": ""
            },
            "type": "contourcarpet"
           }
          ],
          "heatmap": [
           {
            "colorbar": {
             "outlinewidth": 0,
             "ticks": ""
            },
            "colorscale": [
             [
              0,
              "#0d0887"
             ],
             [
              0.1111111111111111,
              "#46039f"
             ],
             [
              0.2222222222222222,
              "#7201a8"
             ],
             [
              0.3333333333333333,
              "#9c179e"
             ],
             [
              0.4444444444444444,
              "#bd3786"
             ],
             [
              0.5555555555555556,
              "#d8576b"
             ],
             [
              0.6666666666666666,
              "#ed7953"
             ],
             [
              0.7777777777777778,
              "#fb9f3a"
             ],
             [
              0.8888888888888888,
              "#fdca26"
             ],
             [
              1,
              "#f0f921"
             ]
            ],
            "type": "heatmap"
           }
          ],
          "heatmapgl": [
           {
            "colorbar": {
             "outlinewidth": 0,
             "ticks": ""
            },
            "colorscale": [
             [
              0,
              "#0d0887"
             ],
             [
              0.1111111111111111,
              "#46039f"
             ],
             [
              0.2222222222222222,
              "#7201a8"
             ],
             [
              0.3333333333333333,
              "#9c179e"
             ],
             [
              0.4444444444444444,
              "#bd3786"
             ],
             [
              0.5555555555555556,
              "#d8576b"
             ],
             [
              0.6666666666666666,
              "#ed7953"
             ],
             [
              0.7777777777777778,
              "#fb9f3a"
             ],
             [
              0.8888888888888888,
              "#fdca26"
             ],
             [
              1,
              "#f0f921"
             ]
            ],
            "type": "heatmapgl"
           }
          ],
          "histogram": [
           {
            "marker": {
             "pattern": {
              "fillmode": "overlay",
              "size": 10,
              "solidity": 0.2
             }
            },
            "type": "histogram"
           }
          ],
          "histogram2d": [
           {
            "colorbar": {
             "outlinewidth": 0,
             "ticks": ""
            },
            "colorscale": [
             [
              0,
              "#0d0887"
             ],
             [
              0.1111111111111111,
              "#46039f"
             ],
             [
              0.2222222222222222,
              "#7201a8"
             ],
             [
              0.3333333333333333,
              "#9c179e"
             ],
             [
              0.4444444444444444,
              "#bd3786"
             ],
             [
              0.5555555555555556,
              "#d8576b"
             ],
             [
              0.6666666666666666,
              "#ed7953"
             ],
             [
              0.7777777777777778,
              "#fb9f3a"
             ],
             [
              0.8888888888888888,
              "#fdca26"
             ],
             [
              1,
              "#f0f921"
             ]
            ],
            "type": "histogram2d"
           }
          ],
          "histogram2dcontour": [
           {
            "colorbar": {
             "outlinewidth": 0,
             "ticks": ""
            },
            "colorscale": [
             [
              0,
              "#0d0887"
             ],
             [
              0.1111111111111111,
              "#46039f"
             ],
             [
              0.2222222222222222,
              "#7201a8"
             ],
             [
              0.3333333333333333,
              "#9c179e"
             ],
             [
              0.4444444444444444,
              "#bd3786"
             ],
             [
              0.5555555555555556,
              "#d8576b"
             ],
             [
              0.6666666666666666,
              "#ed7953"
             ],
             [
              0.7777777777777778,
              "#fb9f3a"
             ],
             [
              0.8888888888888888,
              "#fdca26"
             ],
             [
              1,
              "#f0f921"
             ]
            ],
            "type": "histogram2dcontour"
           }
          ],
          "mesh3d": [
           {
            "colorbar": {
             "outlinewidth": 0,
             "ticks": ""
            },
            "type": "mesh3d"
           }
          ],
          "parcoords": [
           {
            "line": {
             "colorbar": {
              "outlinewidth": 0,
              "ticks": ""
             }
            },
            "type": "parcoords"
           }
          ],
          "pie": [
           {
            "automargin": true,
            "type": "pie"
           }
          ],
          "scatter": [
           {
            "marker": {
             "colorbar": {
              "outlinewidth": 0,
              "ticks": ""
             }
            },
            "type": "scatter"
           }
          ],
          "scatter3d": [
           {
            "line": {
             "colorbar": {
              "outlinewidth": 0,
              "ticks": ""
             }
            },
            "marker": {
             "colorbar": {
              "outlinewidth": 0,
              "ticks": ""
             }
            },
            "type": "scatter3d"
           }
          ],
          "scattercarpet": [
           {
            "marker": {
             "colorbar": {
              "outlinewidth": 0,
              "ticks": ""
             }
            },
            "type": "scattercarpet"
           }
          ],
          "scattergeo": [
           {
            "marker": {
             "colorbar": {
              "outlinewidth": 0,
              "ticks": ""
             }
            },
            "type": "scattergeo"
           }
          ],
          "scattergl": [
           {
            "marker": {
             "colorbar": {
              "outlinewidth": 0,
              "ticks": ""
             }
            },
            "type": "scattergl"
           }
          ],
          "scattermapbox": [
           {
            "marker": {
             "colorbar": {
              "outlinewidth": 0,
              "ticks": ""
             }
            },
            "type": "scattermapbox"
           }
          ],
          "scatterpolar": [
           {
            "marker": {
             "colorbar": {
              "outlinewidth": 0,
              "ticks": ""
             }
            },
            "type": "scatterpolar"
           }
          ],
          "scatterpolargl": [
           {
            "marker": {
             "colorbar": {
              "outlinewidth": 0,
              "ticks": ""
             }
            },
            "type": "scatterpolargl"
           }
          ],
          "scatterternary": [
           {
            "marker": {
             "colorbar": {
              "outlinewidth": 0,
              "ticks": ""
             }
            },
            "type": "scatterternary"
           }
          ],
          "surface": [
           {
            "colorbar": {
             "outlinewidth": 0,
             "ticks": ""
            },
            "colorscale": [
             [
              0,
              "#0d0887"
             ],
             [
              0.1111111111111111,
              "#46039f"
             ],
             [
              0.2222222222222222,
              "#7201a8"
             ],
             [
              0.3333333333333333,
              "#9c179e"
             ],
             [
              0.4444444444444444,
              "#bd3786"
             ],
             [
              0.5555555555555556,
              "#d8576b"
             ],
             [
              0.6666666666666666,
              "#ed7953"
             ],
             [
              0.7777777777777778,
              "#fb9f3a"
             ],
             [
              0.8888888888888888,
              "#fdca26"
             ],
             [
              1,
              "#f0f921"
             ]
            ],
            "type": "surface"
           }
          ],
          "table": [
           {
            "cells": {
             "fill": {
              "color": "#EBF0F8"
             },
             "line": {
              "color": "white"
             }
            },
            "header": {
             "fill": {
              "color": "#C8D4E3"
             },
             "line": {
              "color": "white"
             }
            },
            "type": "table"
           }
          ]
         },
         "layout": {
          "annotationdefaults": {
           "arrowcolor": "#2a3f5f",
           "arrowhead": 0,
           "arrowwidth": 1
          },
          "autotypenumbers": "strict",
          "coloraxis": {
           "colorbar": {
            "outlinewidth": 0,
            "ticks": ""
           }
          },
          "colorscale": {
           "diverging": [
            [
             0,
             "#8e0152"
            ],
            [
             0.1,
             "#c51b7d"
            ],
            [
             0.2,
             "#de77ae"
            ],
            [
             0.3,
             "#f1b6da"
            ],
            [
             0.4,
             "#fde0ef"
            ],
            [
             0.5,
             "#f7f7f7"
            ],
            [
             0.6,
             "#e6f5d0"
            ],
            [
             0.7,
             "#b8e186"
            ],
            [
             0.8,
             "#7fbc41"
            ],
            [
             0.9,
             "#4d9221"
            ],
            [
             1,
             "#276419"
            ]
           ],
           "sequential": [
            [
             0,
             "#0d0887"
            ],
            [
             0.1111111111111111,
             "#46039f"
            ],
            [
             0.2222222222222222,
             "#7201a8"
            ],
            [
             0.3333333333333333,
             "#9c179e"
            ],
            [
             0.4444444444444444,
             "#bd3786"
            ],
            [
             0.5555555555555556,
             "#d8576b"
            ],
            [
             0.6666666666666666,
             "#ed7953"
            ],
            [
             0.7777777777777778,
             "#fb9f3a"
            ],
            [
             0.8888888888888888,
             "#fdca26"
            ],
            [
             1,
             "#f0f921"
            ]
           ],
           "sequentialminus": [
            [
             0,
             "#0d0887"
            ],
            [
             0.1111111111111111,
             "#46039f"
            ],
            [
             0.2222222222222222,
             "#7201a8"
            ],
            [
             0.3333333333333333,
             "#9c179e"
            ],
            [
             0.4444444444444444,
             "#bd3786"
            ],
            [
             0.5555555555555556,
             "#d8576b"
            ],
            [
             0.6666666666666666,
             "#ed7953"
            ],
            [
             0.7777777777777778,
             "#fb9f3a"
            ],
            [
             0.8888888888888888,
             "#fdca26"
            ],
            [
             1,
             "#f0f921"
            ]
           ]
          },
          "colorway": [
           "#636efa",
           "#EF553B",
           "#00cc96",
           "#ab63fa",
           "#FFA15A",
           "#19d3f3",
           "#FF6692",
           "#B6E880",
           "#FF97FF",
           "#FECB52"
          ],
          "font": {
           "color": "#2a3f5f"
          },
          "geo": {
           "bgcolor": "white",
           "lakecolor": "white",
           "landcolor": "#E5ECF6",
           "showlakes": true,
           "showland": true,
           "subunitcolor": "white"
          },
          "hoverlabel": {
           "align": "left"
          },
          "hovermode": "closest",
          "mapbox": {
           "style": "light"
          },
          "paper_bgcolor": "white",
          "plot_bgcolor": "#E5ECF6",
          "polar": {
           "angularaxis": {
            "gridcolor": "white",
            "linecolor": "white",
            "ticks": ""
           },
           "bgcolor": "#E5ECF6",
           "radialaxis": {
            "gridcolor": "white",
            "linecolor": "white",
            "ticks": ""
           }
          },
          "scene": {
           "xaxis": {
            "backgroundcolor": "#E5ECF6",
            "gridcolor": "white",
            "gridwidth": 2,
            "linecolor": "white",
            "showbackground": true,
            "ticks": "",
            "zerolinecolor": "white"
           },
           "yaxis": {
            "backgroundcolor": "#E5ECF6",
            "gridcolor": "white",
            "gridwidth": 2,
            "linecolor": "white",
            "showbackground": true,
            "ticks": "",
            "zerolinecolor": "white"
           },
           "zaxis": {
            "backgroundcolor": "#E5ECF6",
            "gridcolor": "white",
            "gridwidth": 2,
            "linecolor": "white",
            "showbackground": true,
            "ticks": "",
            "zerolinecolor": "white"
           }
          },
          "shapedefaults": {
           "line": {
            "color": "#2a3f5f"
           }
          },
          "ternary": {
           "aaxis": {
            "gridcolor": "white",
            "linecolor": "white",
            "ticks": ""
           },
           "baxis": {
            "gridcolor": "white",
            "linecolor": "white",
            "ticks": ""
           },
           "bgcolor": "#E5ECF6",
           "caxis": {
            "gridcolor": "white",
            "linecolor": "white",
            "ticks": ""
           }
          },
          "title": {
           "x": 0.05
          },
          "xaxis": {
           "automargin": true,
           "gridcolor": "white",
           "linecolor": "white",
           "ticks": "",
           "title": {
            "standoff": 15
           },
           "zerolinecolor": "white",
           "zerolinewidth": 2
          },
          "yaxis": {
           "automargin": true,
           "gridcolor": "white",
           "linecolor": "white",
           "ticks": "",
           "title": {
            "standoff": 15
           },
           "zerolinecolor": "white",
           "zerolinewidth": 2
          }
         }
        },
        "width": 600,
        "xaxis": {
         "anchor": "y",
         "domain": [
          0,
          1
         ],
         "title": {
          "text": "PC 3 (12.1%)"
         }
        },
        "yaxis": {
         "anchor": "x",
         "domain": [
          0,
          1
         ],
         "title": {
          "text": "PC 4 (7.3%)"
         }
        }
       }
      },
      "text/html": [
       "<div>                            <div id=\"18465cc9-43b3-476a-994e-29e86fd98a54\" class=\"plotly-graph-div\" style=\"height:600px; width:600px;\"></div>            <script type=\"text/javascript\">                require([\"plotly\"], function(Plotly) {                    window.PLOTLYENV=window.PLOTLYENV || {};                                    if (document.getElementById(\"18465cc9-43b3-476a-994e-29e86fd98a54\")) {                    Plotly.newPlot(                        \"18465cc9-43b3-476a-994e-29e86fd98a54\",                        [{\"hovertemplate\":\"color=0<br>symbol=33to38<br>2=%{x}<br>3=%{y}<extra></extra>\",\"legendgroup\":\"0, 33to38\",\"marker\":{\"color\":\"#636efa\",\"symbol\":\"circle\",\"size\":13},\"mode\":\"markers\",\"name\":\"0, 33to38\",\"orientation\":\"v\",\"showlegend\":true,\"x\":[-2.917240167024505,-6.587855128205584],\"xaxis\":\"x\",\"y\":[2.055234343725337,-3.5532985009284643],\"yaxis\":\"y\",\"type\":\"scatter\"},{\"hovertemplate\":\"color=0<br>symbol=38to33<br>2=%{x}<br>3=%{y}<extra></extra>\",\"legendgroup\":\"0, 38to33\",\"marker\":{\"color\":\"#636efa\",\"symbol\":\"diamond\",\"size\":13},\"mode\":\"markers\",\"name\":\"0, 38to33\",\"orientation\":\"v\",\"showlegend\":true,\"x\":[1.909534075440343,6.643852217233067],\"xaxis\":\"x\",\"y\":[-3.6759901072723964,1.1858456018823385],\"yaxis\":\"y\",\"type\":\"scatter\"},{\"hovertemplate\":\"color=1<br>symbol=33to38<br>2=%{x}<br>3=%{y}<extra></extra>\",\"legendgroup\":\"1, 33to38\",\"marker\":{\"color\":\"#EF553B\",\"symbol\":\"circle\",\"size\":13},\"mode\":\"markers\",\"name\":\"1, 33to38\",\"orientation\":\"v\",\"showlegend\":true,\"x\":[-1.5278803700784287,-3.9334547076483166],\"xaxis\":\"x\",\"y\":[1.7036757488937453,-3.1695659972117105],\"yaxis\":\"y\",\"type\":\"scatter\"},{\"hovertemplate\":\"color=1<br>symbol=38to33<br>2=%{x}<br>3=%{y}<extra></extra>\",\"legendgroup\":\"1, 38to33\",\"marker\":{\"color\":\"#EF553B\",\"symbol\":\"diamond\",\"size\":13},\"mode\":\"markers\",\"name\":\"1, 38to33\",\"orientation\":\"v\",\"showlegend\":true,\"x\":[1.437125885148057,3.523506644758918],\"xaxis\":\"x\",\"y\":[-2.7406458839114975,1.5454744049692395],\"yaxis\":\"y\",\"type\":\"scatter\"},{\"hovertemplate\":\"color=3<br>symbol=33to38<br>2=%{x}<br>3=%{y}<extra></extra>\",\"legendgroup\":\"3, 33to38\",\"marker\":{\"color\":\"#00cc96\",\"symbol\":\"circle\",\"size\":13},\"mode\":\"markers\",\"name\":\"3, 33to38\",\"orientation\":\"v\",\"showlegend\":true,\"x\":[2.7268974020502155,-0.22974915532130502],\"xaxis\":\"x\",\"y\":[-0.059116210469461264,-2.834408734876594],\"yaxis\":\"y\",\"type\":\"scatter\"},{\"hovertemplate\":\"color=3<br>symbol=38to33<br>2=%{x}<br>3=%{y}<extra></extra>\",\"legendgroup\":\"3, 38to33\",\"marker\":{\"color\":\"#00cc96\",\"symbol\":\"diamond\",\"size\":13},\"mode\":\"markers\",\"name\":\"3, 38to33\",\"orientation\":\"v\",\"showlegend\":true,\"x\":[-0.6318997798821904,-0.14387348718484205],\"xaxis\":\"x\",\"y\":[-2.58816502548193,3.313649758609726],\"yaxis\":\"y\",\"type\":\"scatter\"},{\"hovertemplate\":\"color=6<br>symbol=33to38<br>2=%{x}<br>3=%{y}<extra></extra>\",\"legendgroup\":\"6, 33to38\",\"marker\":{\"color\":\"#ab63fa\",\"symbol\":\"circle\",\"size\":13},\"mode\":\"markers\",\"name\":\"6, 33to38\",\"orientation\":\"v\",\"showlegend\":true,\"x\":[3.8988655182309047,3.6252298462642703],\"xaxis\":\"x\",\"y\":[0.11114787108487566,-2.7967557941309225],\"yaxis\":\"y\",\"type\":\"scatter\"},{\"hovertemplate\":\"color=6<br>symbol=38to33<br>2=%{x}<br>3=%{y}<extra></extra>\",\"legendgroup\":\"6, 38to33\",\"marker\":{\"color\":\"#ab63fa\",\"symbol\":\"diamond\",\"size\":13},\"mode\":\"markers\",\"name\":\"6, 38to33\",\"orientation\":\"v\",\"showlegend\":true,\"x\":[-3.240064568192936,-2.121338876595254],\"xaxis\":\"x\",\"y\":[-0.23442465644769583,5.6224802672150505],\"yaxis\":\"y\",\"type\":\"scatter\"},{\"hovertemplate\":\"color=9<br>symbol=33to38<br>2=%{x}<br>3=%{y}<extra></extra>\",\"legendgroup\":\"9, 33to38\",\"marker\":{\"color\":\"#FFA15A\",\"symbol\":\"circle\",\"size\":13},\"mode\":\"markers\",\"name\":\"9, 33to38\",\"orientation\":\"v\",\"showlegend\":true,\"x\":[3.7843011826431274,2.6040097846263395],\"xaxis\":\"x\",\"y\":[1.3220564715629288,0.043937433681790046],\"yaxis\":\"y\",\"type\":\"scatter\"},{\"hovertemplate\":\"color=9<br>symbol=38to33<br>2=%{x}<br>3=%{y}<extra></extra>\",\"legendgroup\":\"9, 38to33\",\"marker\":{\"color\":\"#FFA15A\",\"symbol\":\"diamond\",\"size\":13},\"mode\":\"markers\",\"name\":\"9, 38to33\",\"orientation\":\"v\",\"showlegend\":true,\"x\":[-5.41462374439689,-3.405342571864994],\"xaxis\":\"x\",\"y\":[-0.3161228719188663,5.064991881024513],\"yaxis\":\"y\",\"type\":\"scatter\"}],                        {\"template\":{\"data\":{\"bar\":[{\"error_x\":{\"color\":\"#2a3f5f\"},\"error_y\":{\"color\":\"#2a3f5f\"},\"marker\":{\"line\":{\"color\":\"#E5ECF6\",\"width\":0.5},\"pattern\":{\"fillmode\":\"overlay\",\"size\":10,\"solidity\":0.2}},\"type\":\"bar\"}],\"barpolar\":[{\"marker\":{\"line\":{\"color\":\"#E5ECF6\",\"width\":0.5},\"pattern\":{\"fillmode\":\"overlay\",\"size\":10,\"solidity\":0.2}},\"type\":\"barpolar\"}],\"carpet\":[{\"aaxis\":{\"endlinecolor\":\"#2a3f5f\",\"gridcolor\":\"white\",\"linecolor\":\"white\",\"minorgridcolor\":\"white\",\"startlinecolor\":\"#2a3f5f\"},\"baxis\":{\"endlinecolor\":\"#2a3f5f\",\"gridcolor\":\"white\",\"linecolor\":\"white\",\"minorgridcolor\":\"white\",\"startlinecolor\":\"#2a3f5f\"},\"type\":\"carpet\"}],\"choropleth\":[{\"colorbar\":{\"outlinewidth\":0,\"ticks\":\"\"},\"type\":\"choropleth\"}],\"contour\":[{\"colorbar\":{\"outlinewidth\":0,\"ticks\":\"\"},\"colorscale\":[[0.0,\"#0d0887\"],[0.1111111111111111,\"#46039f\"],[0.2222222222222222,\"#7201a8\"],[0.3333333333333333,\"#9c179e\"],[0.4444444444444444,\"#bd3786\"],[0.5555555555555556,\"#d8576b\"],[0.6666666666666666,\"#ed7953\"],[0.7777777777777778,\"#fb9f3a\"],[0.8888888888888888,\"#fdca26\"],[1.0,\"#f0f921\"]],\"type\":\"contour\"}],\"contourcarpet\":[{\"colorbar\":{\"outlinewidth\":0,\"ticks\":\"\"},\"type\":\"contourcarpet\"}],\"heatmap\":[{\"colorbar\":{\"outlinewidth\":0,\"ticks\":\"\"},\"colorscale\":[[0.0,\"#0d0887\"],[0.1111111111111111,\"#46039f\"],[0.2222222222222222,\"#7201a8\"],[0.3333333333333333,\"#9c179e\"],[0.4444444444444444,\"#bd3786\"],[0.5555555555555556,\"#d8576b\"],[0.6666666666666666,\"#ed7953\"],[0.7777777777777778,\"#fb9f3a\"],[0.8888888888888888,\"#fdca26\"],[1.0,\"#f0f921\"]],\"type\":\"heatmap\"}],\"heatmapgl\":[{\"colorbar\":{\"outlinewidth\":0,\"ticks\":\"\"},\"colorscale\":[[0.0,\"#0d0887\"],[0.1111111111111111,\"#46039f\"],[0.2222222222222222,\"#7201a8\"],[0.3333333333333333,\"#9c179e\"],[0.4444444444444444,\"#bd3786\"],[0.5555555555555556,\"#d8576b\"],[0.6666666666666666,\"#ed7953\"],[0.7777777777777778,\"#fb9f3a\"],[0.8888888888888888,\"#fdca26\"],[1.0,\"#f0f921\"]],\"type\":\"heatmapgl\"}],\"histogram\":[{\"marker\":{\"pattern\":{\"fillmode\":\"overlay\",\"size\":10,\"solidity\":0.2}},\"type\":\"histogram\"}],\"histogram2d\":[{\"colorbar\":{\"outlinewidth\":0,\"ticks\":\"\"},\"colorscale\":[[0.0,\"#0d0887\"],[0.1111111111111111,\"#46039f\"],[0.2222222222222222,\"#7201a8\"],[0.3333333333333333,\"#9c179e\"],[0.4444444444444444,\"#bd3786\"],[0.5555555555555556,\"#d8576b\"],[0.6666666666666666,\"#ed7953\"],[0.7777777777777778,\"#fb9f3a\"],[0.8888888888888888,\"#fdca26\"],[1.0,\"#f0f921\"]],\"type\":\"histogram2d\"}],\"histogram2dcontour\":[{\"colorbar\":{\"outlinewidth\":0,\"ticks\":\"\"},\"colorscale\":[[0.0,\"#0d0887\"],[0.1111111111111111,\"#46039f\"],[0.2222222222222222,\"#7201a8\"],[0.3333333333333333,\"#9c179e\"],[0.4444444444444444,\"#bd3786\"],[0.5555555555555556,\"#d8576b\"],[0.6666666666666666,\"#ed7953\"],[0.7777777777777778,\"#fb9f3a\"],[0.8888888888888888,\"#fdca26\"],[1.0,\"#f0f921\"]],\"type\":\"histogram2dcontour\"}],\"mesh3d\":[{\"colorbar\":{\"outlinewidth\":0,\"ticks\":\"\"},\"type\":\"mesh3d\"}],\"parcoords\":[{\"line\":{\"colorbar\":{\"outlinewidth\":0,\"ticks\":\"\"}},\"type\":\"parcoords\"}],\"pie\":[{\"automargin\":true,\"type\":\"pie\"}],\"scatter\":[{\"marker\":{\"colorbar\":{\"outlinewidth\":0,\"ticks\":\"\"}},\"type\":\"scatter\"}],\"scatter3d\":[{\"line\":{\"colorbar\":{\"outlinewidth\":0,\"ticks\":\"\"}},\"marker\":{\"colorbar\":{\"outlinewidth\":0,\"ticks\":\"\"}},\"type\":\"scatter3d\"}],\"scattercarpet\":[{\"marker\":{\"colorbar\":{\"outlinewidth\":0,\"ticks\":\"\"}},\"type\":\"scattercarpet\"}],\"scattergeo\":[{\"marker\":{\"colorbar\":{\"outlinewidth\":0,\"ticks\":\"\"}},\"type\":\"scattergeo\"}],\"scattergl\":[{\"marker\":{\"colorbar\":{\"outlinewidth\":0,\"ticks\":\"\"}},\"type\":\"scattergl\"}],\"scattermapbox\":[{\"marker\":{\"colorbar\":{\"outlinewidth\":0,\"ticks\":\"\"}},\"type\":\"scattermapbox\"}],\"scatterpolar\":[{\"marker\":{\"colorbar\":{\"outlinewidth\":0,\"ticks\":\"\"}},\"type\":\"scatterpolar\"}],\"scatterpolargl\":[{\"marker\":{\"colorbar\":{\"outlinewidth\":0,\"ticks\":\"\"}},\"type\":\"scatterpolargl\"}],\"scatterternary\":[{\"marker\":{\"colorbar\":{\"outlinewidth\":0,\"ticks\":\"\"}},\"type\":\"scatterternary\"}],\"surface\":[{\"colorbar\":{\"outlinewidth\":0,\"ticks\":\"\"},\"colorscale\":[[0.0,\"#0d0887\"],[0.1111111111111111,\"#46039f\"],[0.2222222222222222,\"#7201a8\"],[0.3333333333333333,\"#9c179e\"],[0.4444444444444444,\"#bd3786\"],[0.5555555555555556,\"#d8576b\"],[0.6666666666666666,\"#ed7953\"],[0.7777777777777778,\"#fb9f3a\"],[0.8888888888888888,\"#fdca26\"],[1.0,\"#f0f921\"]],\"type\":\"surface\"}],\"table\":[{\"cells\":{\"fill\":{\"color\":\"#EBF0F8\"},\"line\":{\"color\":\"white\"}},\"header\":{\"fill\":{\"color\":\"#C8D4E3\"},\"line\":{\"color\":\"white\"}},\"type\":\"table\"}]},\"layout\":{\"annotationdefaults\":{\"arrowcolor\":\"#2a3f5f\",\"arrowhead\":0,\"arrowwidth\":1},\"autotypenumbers\":\"strict\",\"coloraxis\":{\"colorbar\":{\"outlinewidth\":0,\"ticks\":\"\"}},\"colorscale\":{\"diverging\":[[0,\"#8e0152\"],[0.1,\"#c51b7d\"],[0.2,\"#de77ae\"],[0.3,\"#f1b6da\"],[0.4,\"#fde0ef\"],[0.5,\"#f7f7f7\"],[0.6,\"#e6f5d0\"],[0.7,\"#b8e186\"],[0.8,\"#7fbc41\"],[0.9,\"#4d9221\"],[1,\"#276419\"]],\"sequential\":[[0.0,\"#0d0887\"],[0.1111111111111111,\"#46039f\"],[0.2222222222222222,\"#7201a8\"],[0.3333333333333333,\"#9c179e\"],[0.4444444444444444,\"#bd3786\"],[0.5555555555555556,\"#d8576b\"],[0.6666666666666666,\"#ed7953\"],[0.7777777777777778,\"#fb9f3a\"],[0.8888888888888888,\"#fdca26\"],[1.0,\"#f0f921\"]],\"sequentialminus\":[[0.0,\"#0d0887\"],[0.1111111111111111,\"#46039f\"],[0.2222222222222222,\"#7201a8\"],[0.3333333333333333,\"#9c179e\"],[0.4444444444444444,\"#bd3786\"],[0.5555555555555556,\"#d8576b\"],[0.6666666666666666,\"#ed7953\"],[0.7777777777777778,\"#fb9f3a\"],[0.8888888888888888,\"#fdca26\"],[1.0,\"#f0f921\"]]},\"colorway\":[\"#636efa\",\"#EF553B\",\"#00cc96\",\"#ab63fa\",\"#FFA15A\",\"#19d3f3\",\"#FF6692\",\"#B6E880\",\"#FF97FF\",\"#FECB52\"],\"font\":{\"color\":\"#2a3f5f\"},\"geo\":{\"bgcolor\":\"white\",\"lakecolor\":\"white\",\"landcolor\":\"#E5ECF6\",\"showlakes\":true,\"showland\":true,\"subunitcolor\":\"white\"},\"hoverlabel\":{\"align\":\"left\"},\"hovermode\":\"closest\",\"mapbox\":{\"style\":\"light\"},\"paper_bgcolor\":\"white\",\"plot_bgcolor\":\"#E5ECF6\",\"polar\":{\"angularaxis\":{\"gridcolor\":\"white\",\"linecolor\":\"white\",\"ticks\":\"\"},\"bgcolor\":\"#E5ECF6\",\"radialaxis\":{\"gridcolor\":\"white\",\"linecolor\":\"white\",\"ticks\":\"\"}},\"scene\":{\"xaxis\":{\"backgroundcolor\":\"#E5ECF6\",\"gridcolor\":\"white\",\"gridwidth\":2,\"linecolor\":\"white\",\"showbackground\":true,\"ticks\":\"\",\"zerolinecolor\":\"white\"},\"yaxis\":{\"backgroundcolor\":\"#E5ECF6\",\"gridcolor\":\"white\",\"gridwidth\":2,\"linecolor\":\"white\",\"showbackground\":true,\"ticks\":\"\",\"zerolinecolor\":\"white\"},\"zaxis\":{\"backgroundcolor\":\"#E5ECF6\",\"gridcolor\":\"white\",\"gridwidth\":2,\"linecolor\":\"white\",\"showbackground\":true,\"ticks\":\"\",\"zerolinecolor\":\"white\"}},\"shapedefaults\":{\"line\":{\"color\":\"#2a3f5f\"}},\"ternary\":{\"aaxis\":{\"gridcolor\":\"white\",\"linecolor\":\"white\",\"ticks\":\"\"},\"baxis\":{\"gridcolor\":\"white\",\"linecolor\":\"white\",\"ticks\":\"\"},\"bgcolor\":\"#E5ECF6\",\"caxis\":{\"gridcolor\":\"white\",\"linecolor\":\"white\",\"ticks\":\"\"}},\"title\":{\"x\":0.05},\"xaxis\":{\"automargin\":true,\"gridcolor\":\"white\",\"linecolor\":\"white\",\"ticks\":\"\",\"title\":{\"standoff\":15},\"zerolinecolor\":\"white\",\"zerolinewidth\":2},\"yaxis\":{\"automargin\":true,\"gridcolor\":\"white\",\"linecolor\":\"white\",\"ticks\":\"\",\"title\":{\"standoff\":15},\"zerolinecolor\":\"white\",\"zerolinewidth\":2}}},\"xaxis\":{\"anchor\":\"y\",\"domain\":[0.0,1.0],\"title\":{\"text\":\"PC 3 (12.1%)\"}},\"yaxis\":{\"anchor\":\"x\",\"domain\":[0.0,1.0],\"title\":{\"text\":\"PC 4 (7.3%)\"}},\"legend\":{\"title\":{\"text\":\"color, symbol\"},\"tracegroupgap\":0},\"margin\":{\"t\":60},\"height\":600,\"width\":600,\"plot_bgcolor\":\"rgb(243,243,243)\"},                        {\"responsive\": true}                    ).then(function(){\n",
       "                            \n",
       "var gd = document.getElementById('18465cc9-43b3-476a-994e-29e86fd98a54');\n",
       "var x = new MutationObserver(function (mutations, observer) {{\n",
       "        var display = window.getComputedStyle(gd).display;\n",
       "        if (!display || display === 'none') {{\n",
       "            console.log([gd, 'removed!']);\n",
       "            Plotly.purge(gd);\n",
       "            observer.disconnect();\n",
       "        }}\n",
       "}});\n",
       "\n",
       "// Listen for the removal of the full notebook cells\n",
       "var notebookContainer = gd.closest('#notebook-container');\n",
       "if (notebookContainer) {{\n",
       "    x.observe(notebookContainer, {childList: true});\n",
       "}}\n",
       "\n",
       "// Listen for the clearing of the current output cell\n",
       "var outputEl = gd.closest('.output');\n",
       "if (outputEl) {{\n",
       "    x.observe(outputEl, {childList: true});\n",
       "}}\n",
       "\n",
       "                        })                };                });            </script>        </div>"
      ]
     },
     "metadata": {},
     "output_type": "display_data"
    },
    {
     "data": {
      "application/vnd.plotly.v1+json": {
       "config": {
        "plotlyServerURL": "https://plot.ly"
       },
       "data": [
        {
         "hovertemplate": "color=13<br>symbol=exon<br>2=%{x}<br>3=%{y}<extra></extra>",
         "legendgroup": "13, exon",
         "marker": {
          "color": "#636efa",
          "size": 13,
          "symbol": "circle"
         },
         "mode": "markers",
         "name": "13, exon",
         "orientation": "v",
         "showlegend": true,
         "type": "scatter",
         "x": [
          -2.9172401696643155,
          -1.527880368121811,
          2.7268974026547523,
          3.8988655236247953,
          3.7843011771973125
         ],
         "xaxis": "x",
         "y": [
          2.055234340879095,
          1.7036757508706344,
          -0.059116219275272205,
          0.11114794884149475,
          1.3220564014223897
         ],
         "yaxis": "y"
        },
        {
         "hovertemplate": "color=2<br>symbol=exon<br>2=%{x}<br>3=%{y}<extra></extra>",
         "legendgroup": "2, exon",
         "marker": {
          "color": "#EF553B",
          "size": 13,
          "symbol": "circle"
         },
         "mode": "markers",
         "name": "2, exon",
         "orientation": "v",
         "showlegend": true,
         "type": "scatter",
         "x": [
          -6.587855129562773,
          -3.933454700209604,
          -0.22974916544989837,
          3.625229848488459,
          2.604009784262065
         ],
         "xaxis": "x",
         "y": [
          -3.5532985208882337,
          -3.169565929056171,
          -2.8344088081723675,
          -2.7967557890382473,
          0.0439374423053376
         ],
         "yaxis": "y"
        },
        {
         "hovertemplate": "color=11<br>symbol=exon<br>2=%{x}<br>3=%{y}<extra></extra>",
         "legendgroup": "11, exon",
         "marker": {
          "color": "#00cc96",
          "size": 13,
          "symbol": "circle"
         },
         "mode": "markers",
         "name": "11, exon",
         "orientation": "v",
         "showlegend": true,
         "type": "scatter",
         "x": [
          1.9095340690416749,
          1.437125895161209,
          -0.6318997799700525,
          -3.2400645712757177,
          -5.41462374516259
         ],
         "xaxis": "x",
         "y": [
          -3.6759901548660636,
          -2.74064580488131,
          -2.588165033761478,
          -0.23442468007892672,
          -0.31612287325519267
         ],
         "yaxis": "y"
        },
        {
         "hovertemplate": "color=5<br>symbol=exon<br>2=%{x}<br>3=%{y}<extra></extra>",
         "legendgroup": "5, exon",
         "marker": {
          "color": "#ab63fa",
          "size": 13,
          "symbol": "circle"
         },
         "mode": "markers",
         "name": "5, exon",
         "orientation": "v",
         "showlegend": true,
         "type": "scatter",
         "x": [
          6.6438522197322305,
          3.5235066387786,
          -0.14387348003502842,
          -2.1213388845965744,
          -3.4053425648927305
         ],
         "xaxis": "x",
         "y": [
          1.1858456218696403,
          1.5454743684783099,
          3.3136497899400856,
          5.622480228158925,
          5.064991920507358
         ],
         "yaxis": "y"
        }
       ],
       "layout": {
        "height": 600,
        "legend": {
         "title": {
          "text": "color, symbol"
         },
         "tracegroupgap": 0
        },
        "margin": {
         "t": 60
        },
        "plot_bgcolor": "rgb(243,243,243)",
        "template": {
         "data": {
          "bar": [
           {
            "error_x": {
             "color": "#2a3f5f"
            },
            "error_y": {
             "color": "#2a3f5f"
            },
            "marker": {
             "line": {
              "color": "#E5ECF6",
              "width": 0.5
             },
             "pattern": {
              "fillmode": "overlay",
              "size": 10,
              "solidity": 0.2
             }
            },
            "type": "bar"
           }
          ],
          "barpolar": [
           {
            "marker": {
             "line": {
              "color": "#E5ECF6",
              "width": 0.5
             },
             "pattern": {
              "fillmode": "overlay",
              "size": 10,
              "solidity": 0.2
             }
            },
            "type": "barpolar"
           }
          ],
          "carpet": [
           {
            "aaxis": {
             "endlinecolor": "#2a3f5f",
             "gridcolor": "white",
             "linecolor": "white",
             "minorgridcolor": "white",
             "startlinecolor": "#2a3f5f"
            },
            "baxis": {
             "endlinecolor": "#2a3f5f",
             "gridcolor": "white",
             "linecolor": "white",
             "minorgridcolor": "white",
             "startlinecolor": "#2a3f5f"
            },
            "type": "carpet"
           }
          ],
          "choropleth": [
           {
            "colorbar": {
             "outlinewidth": 0,
             "ticks": ""
            },
            "type": "choropleth"
           }
          ],
          "contour": [
           {
            "colorbar": {
             "outlinewidth": 0,
             "ticks": ""
            },
            "colorscale": [
             [
              0,
              "#0d0887"
             ],
             [
              0.1111111111111111,
              "#46039f"
             ],
             [
              0.2222222222222222,
              "#7201a8"
             ],
             [
              0.3333333333333333,
              "#9c179e"
             ],
             [
              0.4444444444444444,
              "#bd3786"
             ],
             [
              0.5555555555555556,
              "#d8576b"
             ],
             [
              0.6666666666666666,
              "#ed7953"
             ],
             [
              0.7777777777777778,
              "#fb9f3a"
             ],
             [
              0.8888888888888888,
              "#fdca26"
             ],
             [
              1,
              "#f0f921"
             ]
            ],
            "type": "contour"
           }
          ],
          "contourcarpet": [
           {
            "colorbar": {
             "outlinewidth": 0,
             "ticks": ""
            },
            "type": "contourcarpet"
           }
          ],
          "heatmap": [
           {
            "colorbar": {
             "outlinewidth": 0,
             "ticks": ""
            },
            "colorscale": [
             [
              0,
              "#0d0887"
             ],
             [
              0.1111111111111111,
              "#46039f"
             ],
             [
              0.2222222222222222,
              "#7201a8"
             ],
             [
              0.3333333333333333,
              "#9c179e"
             ],
             [
              0.4444444444444444,
              "#bd3786"
             ],
             [
              0.5555555555555556,
              "#d8576b"
             ],
             [
              0.6666666666666666,
              "#ed7953"
             ],
             [
              0.7777777777777778,
              "#fb9f3a"
             ],
             [
              0.8888888888888888,
              "#fdca26"
             ],
             [
              1,
              "#f0f921"
             ]
            ],
            "type": "heatmap"
           }
          ],
          "heatmapgl": [
           {
            "colorbar": {
             "outlinewidth": 0,
             "ticks": ""
            },
            "colorscale": [
             [
              0,
              "#0d0887"
             ],
             [
              0.1111111111111111,
              "#46039f"
             ],
             [
              0.2222222222222222,
              "#7201a8"
             ],
             [
              0.3333333333333333,
              "#9c179e"
             ],
             [
              0.4444444444444444,
              "#bd3786"
             ],
             [
              0.5555555555555556,
              "#d8576b"
             ],
             [
              0.6666666666666666,
              "#ed7953"
             ],
             [
              0.7777777777777778,
              "#fb9f3a"
             ],
             [
              0.8888888888888888,
              "#fdca26"
             ],
             [
              1,
              "#f0f921"
             ]
            ],
            "type": "heatmapgl"
           }
          ],
          "histogram": [
           {
            "marker": {
             "pattern": {
              "fillmode": "overlay",
              "size": 10,
              "solidity": 0.2
             }
            },
            "type": "histogram"
           }
          ],
          "histogram2d": [
           {
            "colorbar": {
             "outlinewidth": 0,
             "ticks": ""
            },
            "colorscale": [
             [
              0,
              "#0d0887"
             ],
             [
              0.1111111111111111,
              "#46039f"
             ],
             [
              0.2222222222222222,
              "#7201a8"
             ],
             [
              0.3333333333333333,
              "#9c179e"
             ],
             [
              0.4444444444444444,
              "#bd3786"
             ],
             [
              0.5555555555555556,
              "#d8576b"
             ],
             [
              0.6666666666666666,
              "#ed7953"
             ],
             [
              0.7777777777777778,
              "#fb9f3a"
             ],
             [
              0.8888888888888888,
              "#fdca26"
             ],
             [
              1,
              "#f0f921"
             ]
            ],
            "type": "histogram2d"
           }
          ],
          "histogram2dcontour": [
           {
            "colorbar": {
             "outlinewidth": 0,
             "ticks": ""
            },
            "colorscale": [
             [
              0,
              "#0d0887"
             ],
             [
              0.1111111111111111,
              "#46039f"
             ],
             [
              0.2222222222222222,
              "#7201a8"
             ],
             [
              0.3333333333333333,
              "#9c179e"
             ],
             [
              0.4444444444444444,
              "#bd3786"
             ],
             [
              0.5555555555555556,
              "#d8576b"
             ],
             [
              0.6666666666666666,
              "#ed7953"
             ],
             [
              0.7777777777777778,
              "#fb9f3a"
             ],
             [
              0.8888888888888888,
              "#fdca26"
             ],
             [
              1,
              "#f0f921"
             ]
            ],
            "type": "histogram2dcontour"
           }
          ],
          "mesh3d": [
           {
            "colorbar": {
             "outlinewidth": 0,
             "ticks": ""
            },
            "type": "mesh3d"
           }
          ],
          "parcoords": [
           {
            "line": {
             "colorbar": {
              "outlinewidth": 0,
              "ticks": ""
             }
            },
            "type": "parcoords"
           }
          ],
          "pie": [
           {
            "automargin": true,
            "type": "pie"
           }
          ],
          "scatter": [
           {
            "marker": {
             "colorbar": {
              "outlinewidth": 0,
              "ticks": ""
             }
            },
            "type": "scatter"
           }
          ],
          "scatter3d": [
           {
            "line": {
             "colorbar": {
              "outlinewidth": 0,
              "ticks": ""
             }
            },
            "marker": {
             "colorbar": {
              "outlinewidth": 0,
              "ticks": ""
             }
            },
            "type": "scatter3d"
           }
          ],
          "scattercarpet": [
           {
            "marker": {
             "colorbar": {
              "outlinewidth": 0,
              "ticks": ""
             }
            },
            "type": "scattercarpet"
           }
          ],
          "scattergeo": [
           {
            "marker": {
             "colorbar": {
              "outlinewidth": 0,
              "ticks": ""
             }
            },
            "type": "scattergeo"
           }
          ],
          "scattergl": [
           {
            "marker": {
             "colorbar": {
              "outlinewidth": 0,
              "ticks": ""
             }
            },
            "type": "scattergl"
           }
          ],
          "scattermapbox": [
           {
            "marker": {
             "colorbar": {
              "outlinewidth": 0,
              "ticks": ""
             }
            },
            "type": "scattermapbox"
           }
          ],
          "scatterpolar": [
           {
            "marker": {
             "colorbar": {
              "outlinewidth": 0,
              "ticks": ""
             }
            },
            "type": "scatterpolar"
           }
          ],
          "scatterpolargl": [
           {
            "marker": {
             "colorbar": {
              "outlinewidth": 0,
              "ticks": ""
             }
            },
            "type": "scatterpolargl"
           }
          ],
          "scatterternary": [
           {
            "marker": {
             "colorbar": {
              "outlinewidth": 0,
              "ticks": ""
             }
            },
            "type": "scatterternary"
           }
          ],
          "surface": [
           {
            "colorbar": {
             "outlinewidth": 0,
             "ticks": ""
            },
            "colorscale": [
             [
              0,
              "#0d0887"
             ],
             [
              0.1111111111111111,
              "#46039f"
             ],
             [
              0.2222222222222222,
              "#7201a8"
             ],
             [
              0.3333333333333333,
              "#9c179e"
             ],
             [
              0.4444444444444444,
              "#bd3786"
             ],
             [
              0.5555555555555556,
              "#d8576b"
             ],
             [
              0.6666666666666666,
              "#ed7953"
             ],
             [
              0.7777777777777778,
              "#fb9f3a"
             ],
             [
              0.8888888888888888,
              "#fdca26"
             ],
             [
              1,
              "#f0f921"
             ]
            ],
            "type": "surface"
           }
          ],
          "table": [
           {
            "cells": {
             "fill": {
              "color": "#EBF0F8"
             },
             "line": {
              "color": "white"
             }
            },
            "header": {
             "fill": {
              "color": "#C8D4E3"
             },
             "line": {
              "color": "white"
             }
            },
            "type": "table"
           }
          ]
         },
         "layout": {
          "annotationdefaults": {
           "arrowcolor": "#2a3f5f",
           "arrowhead": 0,
           "arrowwidth": 1
          },
          "autotypenumbers": "strict",
          "coloraxis": {
           "colorbar": {
            "outlinewidth": 0,
            "ticks": ""
           }
          },
          "colorscale": {
           "diverging": [
            [
             0,
             "#8e0152"
            ],
            [
             0.1,
             "#c51b7d"
            ],
            [
             0.2,
             "#de77ae"
            ],
            [
             0.3,
             "#f1b6da"
            ],
            [
             0.4,
             "#fde0ef"
            ],
            [
             0.5,
             "#f7f7f7"
            ],
            [
             0.6,
             "#e6f5d0"
            ],
            [
             0.7,
             "#b8e186"
            ],
            [
             0.8,
             "#7fbc41"
            ],
            [
             0.9,
             "#4d9221"
            ],
            [
             1,
             "#276419"
            ]
           ],
           "sequential": [
            [
             0,
             "#0d0887"
            ],
            [
             0.1111111111111111,
             "#46039f"
            ],
            [
             0.2222222222222222,
             "#7201a8"
            ],
            [
             0.3333333333333333,
             "#9c179e"
            ],
            [
             0.4444444444444444,
             "#bd3786"
            ],
            [
             0.5555555555555556,
             "#d8576b"
            ],
            [
             0.6666666666666666,
             "#ed7953"
            ],
            [
             0.7777777777777778,
             "#fb9f3a"
            ],
            [
             0.8888888888888888,
             "#fdca26"
            ],
            [
             1,
             "#f0f921"
            ]
           ],
           "sequentialminus": [
            [
             0,
             "#0d0887"
            ],
            [
             0.1111111111111111,
             "#46039f"
            ],
            [
             0.2222222222222222,
             "#7201a8"
            ],
            [
             0.3333333333333333,
             "#9c179e"
            ],
            [
             0.4444444444444444,
             "#bd3786"
            ],
            [
             0.5555555555555556,
             "#d8576b"
            ],
            [
             0.6666666666666666,
             "#ed7953"
            ],
            [
             0.7777777777777778,
             "#fb9f3a"
            ],
            [
             0.8888888888888888,
             "#fdca26"
            ],
            [
             1,
             "#f0f921"
            ]
           ]
          },
          "colorway": [
           "#636efa",
           "#EF553B",
           "#00cc96",
           "#ab63fa",
           "#FFA15A",
           "#19d3f3",
           "#FF6692",
           "#B6E880",
           "#FF97FF",
           "#FECB52"
          ],
          "font": {
           "color": "#2a3f5f"
          },
          "geo": {
           "bgcolor": "white",
           "lakecolor": "white",
           "landcolor": "#E5ECF6",
           "showlakes": true,
           "showland": true,
           "subunitcolor": "white"
          },
          "hoverlabel": {
           "align": "left"
          },
          "hovermode": "closest",
          "mapbox": {
           "style": "light"
          },
          "paper_bgcolor": "white",
          "plot_bgcolor": "#E5ECF6",
          "polar": {
           "angularaxis": {
            "gridcolor": "white",
            "linecolor": "white",
            "ticks": ""
           },
           "bgcolor": "#E5ECF6",
           "radialaxis": {
            "gridcolor": "white",
            "linecolor": "white",
            "ticks": ""
           }
          },
          "scene": {
           "xaxis": {
            "backgroundcolor": "#E5ECF6",
            "gridcolor": "white",
            "gridwidth": 2,
            "linecolor": "white",
            "showbackground": true,
            "ticks": "",
            "zerolinecolor": "white"
           },
           "yaxis": {
            "backgroundcolor": "#E5ECF6",
            "gridcolor": "white",
            "gridwidth": 2,
            "linecolor": "white",
            "showbackground": true,
            "ticks": "",
            "zerolinecolor": "white"
           },
           "zaxis": {
            "backgroundcolor": "#E5ECF6",
            "gridcolor": "white",
            "gridwidth": 2,
            "linecolor": "white",
            "showbackground": true,
            "ticks": "",
            "zerolinecolor": "white"
           }
          },
          "shapedefaults": {
           "line": {
            "color": "#2a3f5f"
           }
          },
          "ternary": {
           "aaxis": {
            "gridcolor": "white",
            "linecolor": "white",
            "ticks": ""
           },
           "baxis": {
            "gridcolor": "white",
            "linecolor": "white",
            "ticks": ""
           },
           "bgcolor": "#E5ECF6",
           "caxis": {
            "gridcolor": "white",
            "linecolor": "white",
            "ticks": ""
           }
          },
          "title": {
           "x": 0.05
          },
          "xaxis": {
           "automargin": true,
           "gridcolor": "white",
           "linecolor": "white",
           "ticks": "",
           "title": {
            "standoff": 15
           },
           "zerolinecolor": "white",
           "zerolinewidth": 2
          },
          "yaxis": {
           "automargin": true,
           "gridcolor": "white",
           "linecolor": "white",
           "ticks": "",
           "title": {
            "standoff": 15
           },
           "zerolinecolor": "white",
           "zerolinewidth": 2
          }
         }
        },
        "width": 600,
        "xaxis": {
         "anchor": "y",
         "domain": [
          0,
          1
         ],
         "title": {
          "text": "PC 3 (12.1%)"
         }
        },
        "yaxis": {
         "anchor": "x",
         "domain": [
          0,
          1
         ],
         "title": {
          "text": "PC 4 (7.3%)"
         }
        }
       }
      },
      "text/html": [
       "<div>                            <div id=\"eaa98604-23ad-461e-9871-7ecffbfea35d\" class=\"plotly-graph-div\" style=\"height:600px; width:600px;\"></div>            <script type=\"text/javascript\">                require([\"plotly\"], function(Plotly) {                    window.PLOTLYENV=window.PLOTLYENV || {};                                    if (document.getElementById(\"eaa98604-23ad-461e-9871-7ecffbfea35d\")) {                    Plotly.newPlot(                        \"eaa98604-23ad-461e-9871-7ecffbfea35d\",                        [{\"hovertemplate\":\"color=13<br>symbol=exon<br>2=%{x}<br>3=%{y}<extra></extra>\",\"legendgroup\":\"13, exon\",\"marker\":{\"color\":\"#636efa\",\"symbol\":\"circle\",\"size\":13},\"mode\":\"markers\",\"name\":\"13, exon\",\"orientation\":\"v\",\"showlegend\":true,\"x\":[-2.9172401696643155,-1.527880368121811,2.7268974026547523,3.8988655236247953,3.7843011771973125],\"xaxis\":\"x\",\"y\":[2.055234340879095,1.7036757508706344,-0.059116219275272205,0.11114794884149475,1.3220564014223897],\"yaxis\":\"y\",\"type\":\"scatter\"},{\"hovertemplate\":\"color=2<br>symbol=exon<br>2=%{x}<br>3=%{y}<extra></extra>\",\"legendgroup\":\"2, exon\",\"marker\":{\"color\":\"#EF553B\",\"symbol\":\"circle\",\"size\":13},\"mode\":\"markers\",\"name\":\"2, exon\",\"orientation\":\"v\",\"showlegend\":true,\"x\":[-6.587855129562773,-3.933454700209604,-0.22974916544989837,3.625229848488459,2.604009784262065],\"xaxis\":\"x\",\"y\":[-3.5532985208882337,-3.169565929056171,-2.8344088081723675,-2.7967557890382473,0.0439374423053376],\"yaxis\":\"y\",\"type\":\"scatter\"},{\"hovertemplate\":\"color=11<br>symbol=exon<br>2=%{x}<br>3=%{y}<extra></extra>\",\"legendgroup\":\"11, exon\",\"marker\":{\"color\":\"#00cc96\",\"symbol\":\"circle\",\"size\":13},\"mode\":\"markers\",\"name\":\"11, exon\",\"orientation\":\"v\",\"showlegend\":true,\"x\":[1.9095340690416749,1.437125895161209,-0.6318997799700525,-3.2400645712757177,-5.41462374516259],\"xaxis\":\"x\",\"y\":[-3.6759901548660636,-2.74064580488131,-2.588165033761478,-0.23442468007892672,-0.31612287325519267],\"yaxis\":\"y\",\"type\":\"scatter\"},{\"hovertemplate\":\"color=5<br>symbol=exon<br>2=%{x}<br>3=%{y}<extra></extra>\",\"legendgroup\":\"5, exon\",\"marker\":{\"color\":\"#ab63fa\",\"symbol\":\"circle\",\"size\":13},\"mode\":\"markers\",\"name\":\"5, exon\",\"orientation\":\"v\",\"showlegend\":true,\"x\":[6.6438522197322305,3.5235066387786,-0.14387348003502842,-2.1213388845965744,-3.4053425648927305],\"xaxis\":\"x\",\"y\":[1.1858456218696403,1.5454743684783099,3.3136497899400856,5.622480228158925,5.064991920507358],\"yaxis\":\"y\",\"type\":\"scatter\"}],                        {\"template\":{\"data\":{\"bar\":[{\"error_x\":{\"color\":\"#2a3f5f\"},\"error_y\":{\"color\":\"#2a3f5f\"},\"marker\":{\"line\":{\"color\":\"#E5ECF6\",\"width\":0.5},\"pattern\":{\"fillmode\":\"overlay\",\"size\":10,\"solidity\":0.2}},\"type\":\"bar\"}],\"barpolar\":[{\"marker\":{\"line\":{\"color\":\"#E5ECF6\",\"width\":0.5},\"pattern\":{\"fillmode\":\"overlay\",\"size\":10,\"solidity\":0.2}},\"type\":\"barpolar\"}],\"carpet\":[{\"aaxis\":{\"endlinecolor\":\"#2a3f5f\",\"gridcolor\":\"white\",\"linecolor\":\"white\",\"minorgridcolor\":\"white\",\"startlinecolor\":\"#2a3f5f\"},\"baxis\":{\"endlinecolor\":\"#2a3f5f\",\"gridcolor\":\"white\",\"linecolor\":\"white\",\"minorgridcolor\":\"white\",\"startlinecolor\":\"#2a3f5f\"},\"type\":\"carpet\"}],\"choropleth\":[{\"colorbar\":{\"outlinewidth\":0,\"ticks\":\"\"},\"type\":\"choropleth\"}],\"contour\":[{\"colorbar\":{\"outlinewidth\":0,\"ticks\":\"\"},\"colorscale\":[[0.0,\"#0d0887\"],[0.1111111111111111,\"#46039f\"],[0.2222222222222222,\"#7201a8\"],[0.3333333333333333,\"#9c179e\"],[0.4444444444444444,\"#bd3786\"],[0.5555555555555556,\"#d8576b\"],[0.6666666666666666,\"#ed7953\"],[0.7777777777777778,\"#fb9f3a\"],[0.8888888888888888,\"#fdca26\"],[1.0,\"#f0f921\"]],\"type\":\"contour\"}],\"contourcarpet\":[{\"colorbar\":{\"outlinewidth\":0,\"ticks\":\"\"},\"type\":\"contourcarpet\"}],\"heatmap\":[{\"colorbar\":{\"outlinewidth\":0,\"ticks\":\"\"},\"colorscale\":[[0.0,\"#0d0887\"],[0.1111111111111111,\"#46039f\"],[0.2222222222222222,\"#7201a8\"],[0.3333333333333333,\"#9c179e\"],[0.4444444444444444,\"#bd3786\"],[0.5555555555555556,\"#d8576b\"],[0.6666666666666666,\"#ed7953\"],[0.7777777777777778,\"#fb9f3a\"],[0.8888888888888888,\"#fdca26\"],[1.0,\"#f0f921\"]],\"type\":\"heatmap\"}],\"heatmapgl\":[{\"colorbar\":{\"outlinewidth\":0,\"ticks\":\"\"},\"colorscale\":[[0.0,\"#0d0887\"],[0.1111111111111111,\"#46039f\"],[0.2222222222222222,\"#7201a8\"],[0.3333333333333333,\"#9c179e\"],[0.4444444444444444,\"#bd3786\"],[0.5555555555555556,\"#d8576b\"],[0.6666666666666666,\"#ed7953\"],[0.7777777777777778,\"#fb9f3a\"],[0.8888888888888888,\"#fdca26\"],[1.0,\"#f0f921\"]],\"type\":\"heatmapgl\"}],\"histogram\":[{\"marker\":{\"pattern\":{\"fillmode\":\"overlay\",\"size\":10,\"solidity\":0.2}},\"type\":\"histogram\"}],\"histogram2d\":[{\"colorbar\":{\"outlinewidth\":0,\"ticks\":\"\"},\"colorscale\":[[0.0,\"#0d0887\"],[0.1111111111111111,\"#46039f\"],[0.2222222222222222,\"#7201a8\"],[0.3333333333333333,\"#9c179e\"],[0.4444444444444444,\"#bd3786\"],[0.5555555555555556,\"#d8576b\"],[0.6666666666666666,\"#ed7953\"],[0.7777777777777778,\"#fb9f3a\"],[0.8888888888888888,\"#fdca26\"],[1.0,\"#f0f921\"]],\"type\":\"histogram2d\"}],\"histogram2dcontour\":[{\"colorbar\":{\"outlinewidth\":0,\"ticks\":\"\"},\"colorscale\":[[0.0,\"#0d0887\"],[0.1111111111111111,\"#46039f\"],[0.2222222222222222,\"#7201a8\"],[0.3333333333333333,\"#9c179e\"],[0.4444444444444444,\"#bd3786\"],[0.5555555555555556,\"#d8576b\"],[0.6666666666666666,\"#ed7953\"],[0.7777777777777778,\"#fb9f3a\"],[0.8888888888888888,\"#fdca26\"],[1.0,\"#f0f921\"]],\"type\":\"histogram2dcontour\"}],\"mesh3d\":[{\"colorbar\":{\"outlinewidth\":0,\"ticks\":\"\"},\"type\":\"mesh3d\"}],\"parcoords\":[{\"line\":{\"colorbar\":{\"outlinewidth\":0,\"ticks\":\"\"}},\"type\":\"parcoords\"}],\"pie\":[{\"automargin\":true,\"type\":\"pie\"}],\"scatter\":[{\"marker\":{\"colorbar\":{\"outlinewidth\":0,\"ticks\":\"\"}},\"type\":\"scatter\"}],\"scatter3d\":[{\"line\":{\"colorbar\":{\"outlinewidth\":0,\"ticks\":\"\"}},\"marker\":{\"colorbar\":{\"outlinewidth\":0,\"ticks\":\"\"}},\"type\":\"scatter3d\"}],\"scattercarpet\":[{\"marker\":{\"colorbar\":{\"outlinewidth\":0,\"ticks\":\"\"}},\"type\":\"scattercarpet\"}],\"scattergeo\":[{\"marker\":{\"colorbar\":{\"outlinewidth\":0,\"ticks\":\"\"}},\"type\":\"scattergeo\"}],\"scattergl\":[{\"marker\":{\"colorbar\":{\"outlinewidth\":0,\"ticks\":\"\"}},\"type\":\"scattergl\"}],\"scattermapbox\":[{\"marker\":{\"colorbar\":{\"outlinewidth\":0,\"ticks\":\"\"}},\"type\":\"scattermapbox\"}],\"scatterpolar\":[{\"marker\":{\"colorbar\":{\"outlinewidth\":0,\"ticks\":\"\"}},\"type\":\"scatterpolar\"}],\"scatterpolargl\":[{\"marker\":{\"colorbar\":{\"outlinewidth\":0,\"ticks\":\"\"}},\"type\":\"scatterpolargl\"}],\"scatterternary\":[{\"marker\":{\"colorbar\":{\"outlinewidth\":0,\"ticks\":\"\"}},\"type\":\"scatterternary\"}],\"surface\":[{\"colorbar\":{\"outlinewidth\":0,\"ticks\":\"\"},\"colorscale\":[[0.0,\"#0d0887\"],[0.1111111111111111,\"#46039f\"],[0.2222222222222222,\"#7201a8\"],[0.3333333333333333,\"#9c179e\"],[0.4444444444444444,\"#bd3786\"],[0.5555555555555556,\"#d8576b\"],[0.6666666666666666,\"#ed7953\"],[0.7777777777777778,\"#fb9f3a\"],[0.8888888888888888,\"#fdca26\"],[1.0,\"#f0f921\"]],\"type\":\"surface\"}],\"table\":[{\"cells\":{\"fill\":{\"color\":\"#EBF0F8\"},\"line\":{\"color\":\"white\"}},\"header\":{\"fill\":{\"color\":\"#C8D4E3\"},\"line\":{\"color\":\"white\"}},\"type\":\"table\"}]},\"layout\":{\"annotationdefaults\":{\"arrowcolor\":\"#2a3f5f\",\"arrowhead\":0,\"arrowwidth\":1},\"autotypenumbers\":\"strict\",\"coloraxis\":{\"colorbar\":{\"outlinewidth\":0,\"ticks\":\"\"}},\"colorscale\":{\"diverging\":[[0,\"#8e0152\"],[0.1,\"#c51b7d\"],[0.2,\"#de77ae\"],[0.3,\"#f1b6da\"],[0.4,\"#fde0ef\"],[0.5,\"#f7f7f7\"],[0.6,\"#e6f5d0\"],[0.7,\"#b8e186\"],[0.8,\"#7fbc41\"],[0.9,\"#4d9221\"],[1,\"#276419\"]],\"sequential\":[[0.0,\"#0d0887\"],[0.1111111111111111,\"#46039f\"],[0.2222222222222222,\"#7201a8\"],[0.3333333333333333,\"#9c179e\"],[0.4444444444444444,\"#bd3786\"],[0.5555555555555556,\"#d8576b\"],[0.6666666666666666,\"#ed7953\"],[0.7777777777777778,\"#fb9f3a\"],[0.8888888888888888,\"#fdca26\"],[1.0,\"#f0f921\"]],\"sequentialminus\":[[0.0,\"#0d0887\"],[0.1111111111111111,\"#46039f\"],[0.2222222222222222,\"#7201a8\"],[0.3333333333333333,\"#9c179e\"],[0.4444444444444444,\"#bd3786\"],[0.5555555555555556,\"#d8576b\"],[0.6666666666666666,\"#ed7953\"],[0.7777777777777778,\"#fb9f3a\"],[0.8888888888888888,\"#fdca26\"],[1.0,\"#f0f921\"]]},\"colorway\":[\"#636efa\",\"#EF553B\",\"#00cc96\",\"#ab63fa\",\"#FFA15A\",\"#19d3f3\",\"#FF6692\",\"#B6E880\",\"#FF97FF\",\"#FECB52\"],\"font\":{\"color\":\"#2a3f5f\"},\"geo\":{\"bgcolor\":\"white\",\"lakecolor\":\"white\",\"landcolor\":\"#E5ECF6\",\"showlakes\":true,\"showland\":true,\"subunitcolor\":\"white\"},\"hoverlabel\":{\"align\":\"left\"},\"hovermode\":\"closest\",\"mapbox\":{\"style\":\"light\"},\"paper_bgcolor\":\"white\",\"plot_bgcolor\":\"#E5ECF6\",\"polar\":{\"angularaxis\":{\"gridcolor\":\"white\",\"linecolor\":\"white\",\"ticks\":\"\"},\"bgcolor\":\"#E5ECF6\",\"radialaxis\":{\"gridcolor\":\"white\",\"linecolor\":\"white\",\"ticks\":\"\"}},\"scene\":{\"xaxis\":{\"backgroundcolor\":\"#E5ECF6\",\"gridcolor\":\"white\",\"gridwidth\":2,\"linecolor\":\"white\",\"showbackground\":true,\"ticks\":\"\",\"zerolinecolor\":\"white\"},\"yaxis\":{\"backgroundcolor\":\"#E5ECF6\",\"gridcolor\":\"white\",\"gridwidth\":2,\"linecolor\":\"white\",\"showbackground\":true,\"ticks\":\"\",\"zerolinecolor\":\"white\"},\"zaxis\":{\"backgroundcolor\":\"#E5ECF6\",\"gridcolor\":\"white\",\"gridwidth\":2,\"linecolor\":\"white\",\"showbackground\":true,\"ticks\":\"\",\"zerolinecolor\":\"white\"}},\"shapedefaults\":{\"line\":{\"color\":\"#2a3f5f\"}},\"ternary\":{\"aaxis\":{\"gridcolor\":\"white\",\"linecolor\":\"white\",\"ticks\":\"\"},\"baxis\":{\"gridcolor\":\"white\",\"linecolor\":\"white\",\"ticks\":\"\"},\"bgcolor\":\"#E5ECF6\",\"caxis\":{\"gridcolor\":\"white\",\"linecolor\":\"white\",\"ticks\":\"\"}},\"title\":{\"x\":0.05},\"xaxis\":{\"automargin\":true,\"gridcolor\":\"white\",\"linecolor\":\"white\",\"ticks\":\"\",\"title\":{\"standoff\":15},\"zerolinecolor\":\"white\",\"zerolinewidth\":2},\"yaxis\":{\"automargin\":true,\"gridcolor\":\"white\",\"linecolor\":\"white\",\"ticks\":\"\",\"title\":{\"standoff\":15},\"zerolinecolor\":\"white\",\"zerolinewidth\":2}}},\"xaxis\":{\"anchor\":\"y\",\"domain\":[0.0,1.0],\"title\":{\"text\":\"PC 3 (12.1%)\"}},\"yaxis\":{\"anchor\":\"x\",\"domain\":[0.0,1.0],\"title\":{\"text\":\"PC 4 (7.3%)\"}},\"legend\":{\"title\":{\"text\":\"color, symbol\"},\"tracegroupgap\":0},\"margin\":{\"t\":60},\"height\":600,\"width\":600,\"plot_bgcolor\":\"rgb(243,243,243)\"},                        {\"responsive\": true}                    ).then(function(){\n",
       "                            \n",
       "var gd = document.getElementById('eaa98604-23ad-461e-9871-7ecffbfea35d');\n",
       "var x = new MutationObserver(function (mutations, observer) {{\n",
       "        var display = window.getComputedStyle(gd).display;\n",
       "        if (!display || display === 'none') {{\n",
       "            console.log([gd, 'removed!']);\n",
       "            Plotly.purge(gd);\n",
       "            observer.disconnect();\n",
       "        }}\n",
       "}});\n",
       "\n",
       "// Listen for the removal of the full notebook cells\n",
       "var notebookContainer = gd.closest('#notebook-container');\n",
       "if (notebookContainer) {{\n",
       "    x.observe(notebookContainer, {childList: true});\n",
       "}}\n",
       "\n",
       "// Listen for the clearing of the current output cell\n",
       "var outputEl = gd.closest('.output');\n",
       "if (outputEl) {{\n",
       "    x.observe(outputEl, {childList: true});\n",
       "}}\n",
       "\n",
       "                        })                };                });            </script>        </div>"
      ]
     },
     "metadata": {},
     "output_type": "display_data"
    },
    {
     "data": {
      "text/html": [
       "<div>\n",
       "<style scoped>\n",
       "    .dataframe tbody tr th:only-of-type {\n",
       "        vertical-align: middle;\n",
       "    }\n",
       "\n",
       "    .dataframe tbody tr th {\n",
       "        vertical-align: top;\n",
       "    }\n",
       "\n",
       "    .dataframe thead th {\n",
       "        text-align: right;\n",
       "    }\n",
       "</style>\n",
       "<table border=\"1\" class=\"dataframe\">\n",
       "  <thead>\n",
       "    <tr style=\"text-align: right;\">\n",
       "      <th></th>\n",
       "      <th>ENSMUSG00000033845|Mrpl15</th>\n",
       "      <th>ENSMUSG00000025903|Lypla1</th>\n",
       "      <th>ENSMUSG00000033813|Tcea1</th>\n",
       "      <th>ENSMUSG00000002459|Rgs20</th>\n",
       "      <th>ENSMUSG00000033793|Atp6v1h</th>\n",
       "      <th>ENSMUSG00000025907|Rb1cc1</th>\n",
       "      <th>ENSMUSG00000090031|4732440D04Rik</th>\n",
       "      <th>ENSMUSG00000051285|Pcmtd1</th>\n",
       "      <th>ENSMUSG00000025909|Sntg1</th>\n",
       "      <th>ENSMUSG00000079671|2610203C22Rik</th>\n",
       "      <th>...</th>\n",
       "      <th>ENSMUSG00000079317|Trappc2</th>\n",
       "      <th>ENSMUSG00000079316|Rab9</th>\n",
       "      <th>ENSMUSG00000051224|Tceanc</th>\n",
       "      <th>ENSMUSG00000049775|Tmsb4x</th>\n",
       "      <th>ENSMUSG00000025742|Prps2</th>\n",
       "      <th>ENSMUSG00000031358|Msl3</th>\n",
       "      <th>ENSMUSG00000031352|Hccs</th>\n",
       "      <th>ENSMUSG00000087159|Gm15246</th>\n",
       "      <th>ENSMUSG00000035299|Mid1</th>\n",
       "      <th>ENSMUSG00000096768|ERDR1</th>\n",
       "    </tr>\n",
       "  </thead>\n",
       "  <tbody>\n",
       "    <tr>\n",
       "      <th>PC-1</th>\n",
       "      <td>-0.013220</td>\n",
       "      <td>0.003040</td>\n",
       "      <td>-0.007554</td>\n",
       "      <td>0.002117</td>\n",
       "      <td>-0.007159</td>\n",
       "      <td>-0.001034</td>\n",
       "      <td>0.003856</td>\n",
       "      <td>0.006077</td>\n",
       "      <td>0.000396</td>\n",
       "      <td>0.004458</td>\n",
       "      <td>...</td>\n",
       "      <td>0.003280</td>\n",
       "      <td>0.004222</td>\n",
       "      <td>0.003827</td>\n",
       "      <td>-0.024516</td>\n",
       "      <td>-0.009663</td>\n",
       "      <td>-0.000334</td>\n",
       "      <td>0.001385</td>\n",
       "      <td>0.004044</td>\n",
       "      <td>0.003521</td>\n",
       "      <td>0.002515</td>\n",
       "    </tr>\n",
       "    <tr>\n",
       "      <th>PC-2</th>\n",
       "      <td>0.001535</td>\n",
       "      <td>0.000330</td>\n",
       "      <td>-0.002268</td>\n",
       "      <td>-0.001376</td>\n",
       "      <td>-0.006498</td>\n",
       "      <td>0.001667</td>\n",
       "      <td>-0.002865</td>\n",
       "      <td>-0.002204</td>\n",
       "      <td>-0.006761</td>\n",
       "      <td>-0.003126</td>\n",
       "      <td>...</td>\n",
       "      <td>-0.003173</td>\n",
       "      <td>-0.001513</td>\n",
       "      <td>-0.004559</td>\n",
       "      <td>-0.018652</td>\n",
       "      <td>-0.005009</td>\n",
       "      <td>0.007442</td>\n",
       "      <td>0.004866</td>\n",
       "      <td>-0.002862</td>\n",
       "      <td>-0.001254</td>\n",
       "      <td>-0.002134</td>\n",
       "    </tr>\n",
       "    <tr>\n",
       "      <th>PC-3</th>\n",
       "      <td>0.007891</td>\n",
       "      <td>-0.003141</td>\n",
       "      <td>-0.005904</td>\n",
       "      <td>-0.004728</td>\n",
       "      <td>0.003270</td>\n",
       "      <td>0.007812</td>\n",
       "      <td>-0.001955</td>\n",
       "      <td>-0.006228</td>\n",
       "      <td>-0.004763</td>\n",
       "      <td>-0.002407</td>\n",
       "      <td>...</td>\n",
       "      <td>-0.001389</td>\n",
       "      <td>0.000930</td>\n",
       "      <td>-0.003864</td>\n",
       "      <td>-0.003465</td>\n",
       "      <td>0.004382</td>\n",
       "      <td>0.003428</td>\n",
       "      <td>-0.000021</td>\n",
       "      <td>-0.002496</td>\n",
       "      <td>-0.003004</td>\n",
       "      <td>-0.003243</td>\n",
       "    </tr>\n",
       "    <tr>\n",
       "      <th>PC-4</th>\n",
       "      <td>-0.005294</td>\n",
       "      <td>0.007624</td>\n",
       "      <td>0.008328</td>\n",
       "      <td>-0.005242</td>\n",
       "      <td>0.018695</td>\n",
       "      <td>0.023119</td>\n",
       "      <td>-0.003614</td>\n",
       "      <td>0.006771</td>\n",
       "      <td>-0.000185</td>\n",
       "      <td>-0.001507</td>\n",
       "      <td>...</td>\n",
       "      <td>-0.001879</td>\n",
       "      <td>0.012868</td>\n",
       "      <td>-0.002849</td>\n",
       "      <td>0.026309</td>\n",
       "      <td>0.005568</td>\n",
       "      <td>-0.008410</td>\n",
       "      <td>-0.006697</td>\n",
       "      <td>-0.003677</td>\n",
       "      <td>-0.005090</td>\n",
       "      <td>-0.004287</td>\n",
       "    </tr>\n",
       "    <tr>\n",
       "      <th>PC-5</th>\n",
       "      <td>-0.001760</td>\n",
       "      <td>0.006111</td>\n",
       "      <td>0.000800</td>\n",
       "      <td>0.000530</td>\n",
       "      <td>-0.002836</td>\n",
       "      <td>0.004253</td>\n",
       "      <td>0.004927</td>\n",
       "      <td>0.004683</td>\n",
       "      <td>0.002404</td>\n",
       "      <td>0.004133</td>\n",
       "      <td>...</td>\n",
       "      <td>0.005593</td>\n",
       "      <td>0.002683</td>\n",
       "      <td>0.006638</td>\n",
       "      <td>-0.023054</td>\n",
       "      <td>0.001368</td>\n",
       "      <td>0.001451</td>\n",
       "      <td>0.006092</td>\n",
       "      <td>0.005198</td>\n",
       "      <td>0.003436</td>\n",
       "      <td>0.003957</td>\n",
       "    </tr>\n",
       "  </tbody>\n",
       "</table>\n",
       "<p>5 rows × 11553 columns</p>\n",
       "</div>"
      ],
      "text/plain": [
       "      ENSMUSG00000033845|Mrpl15  ENSMUSG00000025903|Lypla1  \\\n",
       "PC-1                  -0.013220                   0.003040   \n",
       "PC-2                   0.001535                   0.000330   \n",
       "PC-3                   0.007891                  -0.003141   \n",
       "PC-4                  -0.005294                   0.007624   \n",
       "PC-5                  -0.001760                   0.006111   \n",
       "\n",
       "      ENSMUSG00000033813|Tcea1  ENSMUSG00000002459|Rgs20  \\\n",
       "PC-1                 -0.007554                  0.002117   \n",
       "PC-2                 -0.002268                 -0.001376   \n",
       "PC-3                 -0.005904                 -0.004728   \n",
       "PC-4                  0.008328                 -0.005242   \n",
       "PC-5                  0.000800                  0.000530   \n",
       "\n",
       "      ENSMUSG00000033793|Atp6v1h  ENSMUSG00000025907|Rb1cc1  \\\n",
       "PC-1                   -0.007159                  -0.001034   \n",
       "PC-2                   -0.006498                   0.001667   \n",
       "PC-3                    0.003270                   0.007812   \n",
       "PC-4                    0.018695                   0.023119   \n",
       "PC-5                   -0.002836                   0.004253   \n",
       "\n",
       "      ENSMUSG00000090031|4732440D04Rik  ENSMUSG00000051285|Pcmtd1  \\\n",
       "PC-1                          0.003856                   0.006077   \n",
       "PC-2                         -0.002865                  -0.002204   \n",
       "PC-3                         -0.001955                  -0.006228   \n",
       "PC-4                         -0.003614                   0.006771   \n",
       "PC-5                          0.004927                   0.004683   \n",
       "\n",
       "      ENSMUSG00000025909|Sntg1  ENSMUSG00000079671|2610203C22Rik  ...  \\\n",
       "PC-1                  0.000396                          0.004458  ...   \n",
       "PC-2                 -0.006761                         -0.003126  ...   \n",
       "PC-3                 -0.004763                         -0.002407  ...   \n",
       "PC-4                 -0.000185                         -0.001507  ...   \n",
       "PC-5                  0.002404                          0.004133  ...   \n",
       "\n",
       "      ENSMUSG00000079317|Trappc2  ENSMUSG00000079316|Rab9  \\\n",
       "PC-1                    0.003280                 0.004222   \n",
       "PC-2                   -0.003173                -0.001513   \n",
       "PC-3                   -0.001389                 0.000930   \n",
       "PC-4                   -0.001879                 0.012868   \n",
       "PC-5                    0.005593                 0.002683   \n",
       "\n",
       "      ENSMUSG00000051224|Tceanc  ENSMUSG00000049775|Tmsb4x  \\\n",
       "PC-1                   0.003827                  -0.024516   \n",
       "PC-2                  -0.004559                  -0.018652   \n",
       "PC-3                  -0.003864                  -0.003465   \n",
       "PC-4                  -0.002849                   0.026309   \n",
       "PC-5                   0.006638                  -0.023054   \n",
       "\n",
       "      ENSMUSG00000025742|Prps2  ENSMUSG00000031358|Msl3  \\\n",
       "PC-1                 -0.009663                -0.000334   \n",
       "PC-2                 -0.005009                 0.007442   \n",
       "PC-3                  0.004382                 0.003428   \n",
       "PC-4                  0.005568                -0.008410   \n",
       "PC-5                  0.001368                 0.001451   \n",
       "\n",
       "      ENSMUSG00000031352|Hccs  ENSMUSG00000087159|Gm15246  \\\n",
       "PC-1                 0.001385                    0.004044   \n",
       "PC-2                 0.004866                   -0.002862   \n",
       "PC-3                -0.000021                   -0.002496   \n",
       "PC-4                -0.006697                   -0.003677   \n",
       "PC-5                 0.006092                    0.005198   \n",
       "\n",
       "      ENSMUSG00000035299|Mid1  ENSMUSG00000096768|ERDR1  \n",
       "PC-1                 0.003521                  0.002515  \n",
       "PC-2                -0.001254                 -0.002134  \n",
       "PC-3                -0.003004                 -0.003243  \n",
       "PC-4                -0.005090                 -0.004287  \n",
       "PC-5                 0.003436                  0.003957  \n",
       "\n",
       "[5 rows x 11553 columns]"
      ]
     },
     "execution_count": 67,
     "metadata": {},
     "output_type": "execute_result"
    }
   ],
   "source": [
    "#Perform PCA selecting different temperature conditions, timepoints, replicate and features (intron vs. exon). \n",
    "\n",
    "#Change those parameters to selection different samples for the PCA\n",
    "condition = ['38to33','33to38'] #,'38to33'\n",
    "time= ['0', '1' ,'3' ,'6', '9']\n",
    "replicate = ['2', '13', '11', '5'] # 13 and 2 are from the 33to38 experiment, 5 and 11 from the 38to33\n",
    "feature = ['exon']\n",
    "\n",
    "#Subselect the samples \n",
    "dat_sub = subselect(dat_all, feature, replicate, time, condition)\n",
    "\n",
    "#Perform the PCA, change the color and shape parameters for better interpreation of the results\n",
    "pca = run_PCA(dat_sub, x_1=1, x_2=2, col='time', shape='condition', scale_d=True, log=True)\n",
    "run_PCA(dat_sub, x_1=1, x_2=2, col='replicate', shape='feature', scale_d=True, log=True)\n",
    "\n",
    "run_PCA(dat_sub, x_1=2, x_2=3, col='time', shape='condition', scale_d=True, log=True)\n",
    "run_PCA(dat_sub, x_1=2, x_2=3, col='replicate', shape='feature', scale_d=True, log=True)\n",
    "\n",
    "run_PCA(dat_sub, x_1=3, x_2=4, col='time', shape='condition', scale_d=True, log=True)\n",
    "run_PCA(dat_sub, x_1=3, x_2=4, col='replicate', shape='feature', scale_d=True, log=True)\n",
    "\n"
   ]
  },
  {
   "cell_type": "markdown",
   "id": "c67b43d1",
   "metadata": {},
   "source": [
    "**enrichR cells**"
   ]
  },
  {
   "cell_type": "code",
   "execution_count": 68,
   "id": "dd2cdc36-85c5-498f-8df1-c05717da3615",
   "metadata": {},
   "outputs": [
    {
     "name": "stdout",
     "output_type": "stream",
     "text": [
      "['ARCHS4_IDG_Coexp', 'ARCHS4_Kinases_Coexp', 'ARCHS4_TFs_Coexp', 'ARCHS4_Tissues', 'Achilles_fitness_decrease', 'Achilles_fitness_increase', 'Aging_Perturbations_from_GEO_down', 'Aging_Perturbations_from_GEO_up', 'Allen_Brain_Atlas_10x_scRNA_2021', 'Allen_Brain_Atlas_down', 'Allen_Brain_Atlas_up', 'Azimuth_Cell_Types_2021', 'BioCarta_2013', 'BioCarta_2015', 'BioCarta_2016', 'BioPlanet_2019', 'BioPlex_2017', 'CCLE_Proteomics_2020', 'CORUM']\n"
     ]
    }
   ],
   "source": [
    "##  Using the genes loadings on the different PCs, perform gene enrichment analysis with the provided code (explore different databases from *enrichR*)\n",
    "\n",
    "#List the available databases for gene enrichment analysis\n",
    "\n",
    "mouse = gp.get_library_name(organism='Mouse')\n",
    "print(mouse[1:20])"
   ]
  },
  {
   "cell_type": "code",
   "execution_count": 49,
   "id": "585717da-1f90-4669-bd5d-d631efc7e42f",
   "metadata": {},
   "outputs": [
    {
     "data": {
      "text/html": [
       "<div>\n",
       "<style scoped>\n",
       "    .dataframe tbody tr th:only-of-type {\n",
       "        vertical-align: middle;\n",
       "    }\n",
       "\n",
       "    .dataframe tbody tr th {\n",
       "        vertical-align: top;\n",
       "    }\n",
       "\n",
       "    .dataframe thead th {\n",
       "        text-align: right;\n",
       "    }\n",
       "</style>\n",
       "<table border=\"1\" class=\"dataframe\">\n",
       "  <thead>\n",
       "    <tr style=\"text-align: right;\">\n",
       "      <th></th>\n",
       "      <th>Gene_set</th>\n",
       "      <th>Term</th>\n",
       "      <th>Overlap</th>\n",
       "      <th>P-value</th>\n",
       "      <th>Adjusted P-value</th>\n",
       "      <th>Old P-value</th>\n",
       "      <th>Old Adjusted P-value</th>\n",
       "      <th>Odds Ratio</th>\n",
       "      <th>Combined Score</th>\n",
       "      <th>Genes</th>\n",
       "    </tr>\n",
       "  </thead>\n",
       "  <tbody>\n",
       "    <tr>\n",
       "      <th>0</th>\n",
       "      <td>GO_Biological_Process_2021</td>\n",
       "      <td>mitotic spindle organization (GO:0007052)</td>\n",
       "      <td>15/157</td>\n",
       "      <td>1.914360e-15</td>\n",
       "      <td>1.297707e-12</td>\n",
       "      <td>0</td>\n",
       "      <td>0</td>\n",
       "      <td>24.554267</td>\n",
       "      <td>832.129203</td>\n",
       "      <td>PLK1;BUB1B;KIF23;KIF11;DYNLL1;RANGAP1;CKAP5;AU...</td>\n",
       "    </tr>\n",
       "    <tr>\n",
       "      <th>1</th>\n",
       "      <td>GO_Biological_Process_2021</td>\n",
       "      <td>microtubule cytoskeleton organization involved...</td>\n",
       "      <td>14/128</td>\n",
       "      <td>2.592821e-15</td>\n",
       "      <td>1.297707e-12</td>\n",
       "      <td>0</td>\n",
       "      <td>0</td>\n",
       "      <td>28.254182</td>\n",
       "      <td>948.945796</td>\n",
       "      <td>PLK1;BUB1B;KIF11;DYNLL1;RANGAP1;CKAP5;AURKA;CD...</td>\n",
       "    </tr>\n",
       "    <tr>\n",
       "      <th>2</th>\n",
       "      <td>GO_Biological_Process_2021</td>\n",
       "      <td>regulation of mitotic cell cycle phase transit...</td>\n",
       "      <td>14/188</td>\n",
       "      <td>5.631281e-13</td>\n",
       "      <td>1.878971e-10</td>\n",
       "      <td>0</td>\n",
       "      <td>0</td>\n",
       "      <td>18.455226</td>\n",
       "      <td>520.534614</td>\n",
       "      <td>HSP90AA1;UBE2C;PLK1;BUB1B;HMMR;DYNLL1;CKAP5;AU...</td>\n",
       "    </tr>\n",
       "    <tr>\n",
       "      <th>3</th>\n",
       "      <td>GO_Biological_Process_2021</td>\n",
       "      <td>regulation of cell cycle G2/M phase transition...</td>\n",
       "      <td>10/85</td>\n",
       "      <td>1.413834e-11</td>\n",
       "      <td>3.538120e-09</td>\n",
       "      <td>0</td>\n",
       "      <td>0</td>\n",
       "      <td>29.370370</td>\n",
       "      <td>733.734436</td>\n",
       "      <td>TPX2;HSP90AA1;CENPF;PLK1;HMMR;DYNLL1;GTSE1;CKA...</td>\n",
       "    </tr>\n",
       "    <tr>\n",
       "      <th>4</th>\n",
       "      <td>GO_Biological_Process_2021</td>\n",
       "      <td>response to unfolded protein (GO:0006986)</td>\n",
       "      <td>8/49</td>\n",
       "      <td>1.118605e-10</td>\n",
       "      <td>2.239448e-08</td>\n",
       "      <td>0</td>\n",
       "      <td>0</td>\n",
       "      <td>42.118770</td>\n",
       "      <td>965.099729</td>\n",
       "      <td>DNAJA1;DNAJB1;HSPA8;HSP90AA1;HSP90AB1;HSPH1;HS...</td>\n",
       "    </tr>\n",
       "    <tr>\n",
       "      <th>5</th>\n",
       "      <td>GO_Biological_Process_2021</td>\n",
       "      <td>mitotic sister chromatid segregation (GO:0000070)</td>\n",
       "      <td>9/102</td>\n",
       "      <td>2.111237e-09</td>\n",
       "      <td>3.522248e-07</td>\n",
       "      <td>0</td>\n",
       "      <td>0</td>\n",
       "      <td>21.063807</td>\n",
       "      <td>420.770435</td>\n",
       "      <td>CENPE;KIF18B;ESPL1;SPAG5;PRC1;PLK1;NUSAP1;KIF2...</td>\n",
       "    </tr>\n",
       "    <tr>\n",
       "      <th>6</th>\n",
       "      <td>GO_Biological_Process_2021</td>\n",
       "      <td>mitotic nuclear division (GO:0140014)</td>\n",
       "      <td>8/74</td>\n",
       "      <td>3.374591e-09</td>\n",
       "      <td>4.745712e-07</td>\n",
       "      <td>0</td>\n",
       "      <td>0</td>\n",
       "      <td>26.131752</td>\n",
       "      <td>509.751873</td>\n",
       "      <td>TPX2;KIF18B;ESPL1;SPAG5;UBE2C;PLK1;NUSAP1;KIF11</td>\n",
       "    </tr>\n",
       "    <tr>\n",
       "      <th>7</th>\n",
       "      <td>GO_Biological_Process_2021</td>\n",
       "      <td>regulation of G2/M transition of mitotic cell ...</td>\n",
       "      <td>10/149</td>\n",
       "      <td>3.792777e-09</td>\n",
       "      <td>4.745712e-07</td>\n",
       "      <td>0</td>\n",
       "      <td>0</td>\n",
       "      <td>15.796163</td>\n",
       "      <td>306.290245</td>\n",
       "      <td>TPX2;HSP90AA1;CENPF;CCND1;PLK1;HMMR;DYNLL1;CKA...</td>\n",
       "    </tr>\n",
       "    <tr>\n",
       "      <th>8</th>\n",
       "      <td>GO_Biological_Process_2021</td>\n",
       "      <td>regulation of cellular response to heat (GO:19...</td>\n",
       "      <td>8/79</td>\n",
       "      <td>5.723049e-09</td>\n",
       "      <td>6.365303e-07</td>\n",
       "      <td>0</td>\n",
       "      <td>0</td>\n",
       "      <td>24.285364</td>\n",
       "      <td>460.906201</td>\n",
       "      <td>DNAJB1;HSPA8;HSP90AA1;HSP90AB1;HSPH1;CHORDC1;F...</td>\n",
       "    </tr>\n",
       "    <tr>\n",
       "      <th>9</th>\n",
       "      <td>GO_Biological_Process_2021</td>\n",
       "      <td>mitotic cell cycle phase transition (GO:0044772)</td>\n",
       "      <td>11/209</td>\n",
       "      <td>7.835354e-09</td>\n",
       "      <td>7.843189e-07</td>\n",
       "      <td>0</td>\n",
       "      <td>0</td>\n",
       "      <td>12.298377</td>\n",
       "      <td>229.544532</td>\n",
       "      <td>CCNA2;HSP90AA1;CCND1;UBE2C;CCNF;PLK1;CCNG1;DYN...</td>\n",
       "    </tr>\n",
       "  </tbody>\n",
       "</table>\n",
       "</div>"
      ],
      "text/plain": [
       "                     Gene_set  \\\n",
       "0  GO_Biological_Process_2021   \n",
       "1  GO_Biological_Process_2021   \n",
       "2  GO_Biological_Process_2021   \n",
       "3  GO_Biological_Process_2021   \n",
       "4  GO_Biological_Process_2021   \n",
       "5  GO_Biological_Process_2021   \n",
       "6  GO_Biological_Process_2021   \n",
       "7  GO_Biological_Process_2021   \n",
       "8  GO_Biological_Process_2021   \n",
       "9  GO_Biological_Process_2021   \n",
       "\n",
       "                                                Term Overlap       P-value  \\\n",
       "0          mitotic spindle organization (GO:0007052)  15/157  1.914360e-15   \n",
       "1  microtubule cytoskeleton organization involved...  14/128  2.592821e-15   \n",
       "2  regulation of mitotic cell cycle phase transit...  14/188  5.631281e-13   \n",
       "3  regulation of cell cycle G2/M phase transition...   10/85  1.413834e-11   \n",
       "4          response to unfolded protein (GO:0006986)    8/49  1.118605e-10   \n",
       "5  mitotic sister chromatid segregation (GO:0000070)   9/102  2.111237e-09   \n",
       "6              mitotic nuclear division (GO:0140014)    8/74  3.374591e-09   \n",
       "7  regulation of G2/M transition of mitotic cell ...  10/149  3.792777e-09   \n",
       "8  regulation of cellular response to heat (GO:19...    8/79  5.723049e-09   \n",
       "9   mitotic cell cycle phase transition (GO:0044772)  11/209  7.835354e-09   \n",
       "\n",
       "   Adjusted P-value  Old P-value  Old Adjusted P-value  Odds Ratio  \\\n",
       "0      1.297707e-12            0                     0   24.554267   \n",
       "1      1.297707e-12            0                     0   28.254182   \n",
       "2      1.878971e-10            0                     0   18.455226   \n",
       "3      3.538120e-09            0                     0   29.370370   \n",
       "4      2.239448e-08            0                     0   42.118770   \n",
       "5      3.522248e-07            0                     0   21.063807   \n",
       "6      4.745712e-07            0                     0   26.131752   \n",
       "7      4.745712e-07            0                     0   15.796163   \n",
       "8      6.365303e-07            0                     0   24.285364   \n",
       "9      7.843189e-07            0                     0   12.298377   \n",
       "\n",
       "   Combined Score                                              Genes  \n",
       "0      832.129203  PLK1;BUB1B;KIF23;KIF11;DYNLL1;RANGAP1;CKAP5;AU...  \n",
       "1      948.945796  PLK1;BUB1B;KIF11;DYNLL1;RANGAP1;CKAP5;AURKA;CD...  \n",
       "2      520.534614  HSP90AA1;UBE2C;PLK1;BUB1B;HMMR;DYNLL1;CKAP5;AU...  \n",
       "3      733.734436  TPX2;HSP90AA1;CENPF;PLK1;HMMR;DYNLL1;GTSE1;CKA...  \n",
       "4      965.099729  DNAJA1;DNAJB1;HSPA8;HSP90AA1;HSP90AB1;HSPH1;HS...  \n",
       "5      420.770435  CENPE;KIF18B;ESPL1;SPAG5;PRC1;PLK1;NUSAP1;KIF2...  \n",
       "6      509.751873    TPX2;KIF18B;ESPL1;SPAG5;UBE2C;PLK1;NUSAP1;KIF11  \n",
       "7      306.290245  TPX2;HSP90AA1;CENPF;CCND1;PLK1;HMMR;DYNLL1;CKA...  \n",
       "8      460.906201  DNAJB1;HSPA8;HSP90AA1;HSP90AB1;HSPH1;CHORDC1;F...  \n",
       "9      229.544532  CCNA2;HSP90AA1;CCND1;UBE2C;CCNF;PLK1;CCNG1;DYN...  "
      ]
     },
     "execution_count": 49,
     "metadata": {},
     "output_type": "execute_result"
    }
   ],
   "source": [
    "#Perform gene set enrichment analysis using the top 100 genes on PC-1 with the 'GO_Biological_Process_2021' database\n",
    "#You can gene the enrichR database and the number of selected genes\n",
    "gene_sets = 'GO_Biological_Process_2021'\n",
    "nb_genes = 100\n",
    "PC='PC-2'\n",
    "\n",
    "top = pca.sort_values(by=PC,axis=1).columns[:nb_genes]\n",
    "bottom = pca.sort_values(by=PC,axis=1).columns[-nb_genes:]\n",
    "top_bot = top#.union(bottom) # you can use onlyy top or bottom here as well\n",
    "gene_list = top_bot.str.split(\"|\").str[1].to_series().str.upper()\n",
    "gene_list = gene_list.squeeze().str.strip().to_list()\n",
    "enr = gp.enrichr(gene_list=gene_list,\n",
    "                 gene_sets=gene_sets,\n",
    "                 organism='mouse', \n",
    "                 outdir=None, \n",
    "                )\n",
    "enr.results.head(10)"
   ]
  },
  {
   "cell_type": "markdown",
   "id": "a010f23d-8b24-4cc8-b868-cde1f27661d5",
   "metadata": {},
   "source": [
    "### Question 3\n",
    "In this exercise, we will identify genes regulated by temperature in a more direct approach than the PCA.\n",
    "\n",
    "1. Using the *plot_DE* (DE for differential expression) function, identify genes differentially expressed between 33C and 38C with similar or opposite behavior than *Cirbp* (cold-inducible vs. heat-inducible genes)\n",
    "2. Perform gene enrichment analysis for the identified genes.\n",
    "3. Using the *plot_DE* function, identified genes regulated **post-transcriptionally** by the temperature."
   ]
  },
  {
   "cell_type": "markdown",
   "id": "edf14d24",
   "metadata": {},
   "source": [
    "### Answer 3\n",
    "\n",
    "1. *Type you answer here*    \n",
    "2. *Type you answer here*   \n",
    "3. *Type you answer here*   \n"
   ]
  },
  {
   "cell_type": "code",
   "execution_count": 50,
   "id": "2202ae76-ace0-4b40-844a-f86f4832547c",
   "metadata": {},
   "outputs": [],
   "source": [
    "# Function to plot genes differentially expressed between x_2/x_1 and y_2/y2\n",
    "\n",
    "def plot_DE(dat_all, c_x1, c_x2, c_y1, c_y2, t_x1, t_x2, t_y1, t_y2, f_x1, f_x2, f_y1, f_y2, FC=2, xlab=\"\", ylab=\"\"):\n",
    "    \n",
    "    replicate = ['2', '13', '11', '5']\n",
    "\n",
    "    dat_x1=subselect(dat_all, f_x1, replicate, t_x1, c_x1).mean(axis=1)\n",
    "    dat_x2=subselect(dat_all, f_x2, replicate, t_x2, c_x2).mean(axis=1)\n",
    "\n",
    "    dat_y1=subselect(dat_all, f_y1, replicate, t_y1, c_y1).mean(axis=1)\n",
    "    dat_y2=subselect(dat_all, f_y2, replicate, t_y2, c_y2).mean(axis=1)\n",
    "\n",
    "    x=np.log2(1 + dat_x2)- np.log2(1 + dat_x1)\n",
    "    y=np.log2(1 + dat_y2) - np.log2(1 + dat_y1)\n",
    "\n",
    "    pos_heat_induced =(x > FC) & (y > FC)\n",
    "    pos_cold_induced =(x < -FC) & (y < -FC)\n",
    "    x_2 = x[pos_cold_induced]\n",
    "    y_2 = y[pos_cold_induced]\n",
    "    fig, ax = plt.subplots(figsize=(10,10))\n",
    "\n",
    "    ax.plot(x,y, 'o', color = 'lightblue', markersize=2)\n",
    "    ax.axhline(y=0, color='b')\n",
    "    ax.axvline(x=0, color='b')\n",
    "    ax.set_xlim(-8,8)\n",
    "    ax.set_ylim(-8,8)\n",
    "    ax.set_xlabel(xlab)\n",
    "    ax.set_ylabel(ylab)\n",
    "    texts = [ax.text(x_2[k], y_2[k], v.split(\"|\")[1]) for k, v in enumerate(dat_all.index[pos_cold_induced])]\n",
    "    adjust_text(texts)\n",
    "    return(pos_cold_induced)\n"
   ]
  },
  {
   "cell_type": "markdown",
   "id": "86c86f3c",
   "metadata": {},
   "source": [
    "**Explore with this function**"
   ]
  },
  {
   "cell_type": "code",
   "execution_count": 51,
   "id": "f3ba7095-6e1d-4917-9145-191042b49814",
   "metadata": {},
   "outputs": [
    {
     "data": {
      "image/png": "[encoded data removed]",
      "text/plain": [
       "<Figure size 720x720 with 1 Axes>"
      ]
     },
     "metadata": {
      "needs_background": "light"
     },
     "output_type": "display_data"
    }
   ],
   "source": [
    "#Use the plot_DE function with the different conditions and features to identify genes regulated by the temperature\n",
    "DE_genes = plot_DE(dat_all, ['33to38'],['33to38'],['38to33'],['38to33'],\n",
    "                           ['0'],['9'],['9'],['0'],\n",
    "                           ['exon'],['exon'],['exon'],['exon'],\n",
    "                           2, \n",
    "                           '38C - 33C (Log2)', '33C - 38C (Log2)')"
   ]
  },
  {
   "cell_type": "markdown",
   "id": "db30ce32",
   "metadata": {},
   "source": [
    "**enrichR analysis**"
   ]
  },
  {
   "cell_type": "code",
   "execution_count": null,
   "id": "602d2862-eeb3-4e72-8c93-a8dc394e86b1",
   "metadata": {},
   "outputs": [],
   "source": [
    "#Perform gene enrichment analysis on the DE genes\n",
    "gene_sets='GO_Biological_Process_2021'\n",
    "gene_list = dat_all.index[DE_genes].str.split(\"|\").str[1].to_series().str.upper()\n",
    "gene_list = gene_list.squeeze().str.strip().to_list()\n",
    "enr = gp.enrichr(gene_list=gene_list,\n",
    "                 gene_sets=gene_sets,\n",
    "                 organism='mouse', \n",
    "                 outdir=None, \n",
    "                )\n",
    "enr.results.head(10)"
   ]
  },
  {
   "cell_type": "markdown",
   "id": "5ce3e82d-26e9-40eb-a75d-e2b428d26d77",
   "metadata": {
    "tags": []
   },
   "source": [
    "### Question 4\n",
    "\n",
    "1. Using the *plot_gene* function, show the temporal dynamic of genes identified as having temperature-dependent regulation of gene expression in *Question 3*.\n",
    "2. What can you say in terms of transcriptional versus post-transcriptional regulation?\n",
    "3. Compare with the profile of *Cirbp*."
   ]
  },
  {
   "cell_type": "markdown",
   "id": "9f5a7e24",
   "metadata": {},
   "source": [
    "### Answer 4\n",
    "\n",
    "1. *Type you answer here*    \n",
    "2. *Type you answer here*   \n",
    "3. *Type you answer here*  "
   ]
  },
  {
   "cell_type": "code",
   "execution_count": 72,
   "id": "a5d88d5b-07e0-44d3-a02f-46efb569cc4e",
   "metadata": {},
   "outputs": [
    {
     "data": {
      "image/png": "[encoded data removed]",
      "text/plain": [
       "<Figure size 576x576 with 4 Axes>"
      ]
     },
     "metadata": {
      "needs_background": "light"
     },
     "output_type": "display_data"
    }
   ],
   "source": [
    "plot_gene(dat_all,'Hsp90') # Write gene name with only the first letter as uppercase"
   ]
  },
  {
   "cell_type": "markdown",
   "id": "c13f9579-b4c4-4860-ab16-cbafc6bf66e8",
   "metadata": {},
   "source": [
    "### Question 5\n",
    "\n",
    "1. Using the code below, simulate the ODE using different parameters for the two temperatures. \n",
    "2. Find the parameters that fit *Cirbp* gene expression profile. Comment on your result.\n",
    "3. *Optional*: replace *Cirbp* with other genes identified above. You might want to change the parameter and ylim scales.\n",
    "\n",
    "*Note: To simplify, we here used a model without the $\\alpha$, which is still good enough to fit most gene profiles. The caveat is that with this simplified mode, the obtained parameters are not fully realistic, which is the argument the authors used to favor the model with the $\\alpha$.*"
   ]
  },
  {
   "cell_type": "markdown",
   "id": "b8cb1115",
   "metadata": {},
   "source": [
    "### Answer 5\n",
    "\n",
    "1. *Type you answer here*    \n",
    "2. *Type you answer here*   \n"
   ]
  },
  {
   "cell_type": "code",
   "execution_count": 73,
   "id": "903a81e7-f832-4a39-91ed-80305ce5e775",
   "metadata": {},
   "outputs": [],
   "source": [
    "###### Simulate 2 conditions ########\n",
    "\n",
    "def compute_ss_param(s, kp, km, rho):\n",
    "    P_ss = s / (kp + rho)\n",
    "    M_ss = (rho / km) * (s / kp + rho)\n",
    "    return [P_ss, M_ss]\n",
    "   \n",
    "## function definition\n",
    "def func(y, t, s, kp, km, rho):\n",
    "    P, M=y\n",
    "    return [s - (kp + rho)*P, rho*P - km*M] \n",
    "\n",
    "def simulation(func, par, z0 = None, t = None):\n",
    "    s=par['s']\n",
    "    kp=par['kp']\n",
    "    km=par['km']\n",
    "    rho=par['rho']\n",
    "\n",
    "    xx=odeint(func, z0, t, args=(s, kp, km, rho))\n",
    "    \n",
    "    return(xx)\n",
    "\n",
    "def animate(time, s_33=5560, s_38=5560, km_33=0.151, km_38=0.466, kp= 20.794, rho_33=1.9, rho_38=0.34, gene='ENSMUSG00000045193|Cirbp'):\n",
    "    \n",
    "    #33 to 38\n",
    "    x0 = compute_ss_param(s_33, kp, km_33, rho_33)\n",
    "    par={'s':s_38,'km':km_38, 'kp':kp, 'rho':rho_38}\n",
    "    xx_33_38 = simulation(func, par, x0, time)\n",
    "    \n",
    "    #38 to 33\n",
    "    x0 = compute_ss_param(s_38, kp, km_38, rho_38)\n",
    "    print(x0)\n",
    "\n",
    "    par={'s':s_33,'km':km_33, 'kp':kp, 'rho':rho_33}\n",
    "    xx_38_33 = simulation(func, par, x0, time)\n",
    "    \n",
    "   \n",
    "    plot_gene(dat_all, gene, xx_33_38, xx_38_33, time)    "
   ]
  },
  {
   "cell_type": "code",
   "execution_count": 74,
   "id": "ed619ea6-d668-4101-a549-d5d8e3f9deb0",
   "metadata": {},
   "outputs": [
    {
     "data": {
      "application/vnd.jupyter.widget-view+json": {
       "model_id": "90adeee3562b4c6ba9c37546458cdbcf",
       "version_major": 2,
       "version_minor": 0
      },
      "text/plain": [
       "interactive(children=(IntSlider(value=5560, description='s_33', max=10000, min=500), IntSlider(value=5560, des…"
      ]
     },
     "metadata": {},
     "output_type": "display_data"
    }
   ],
   "source": [
    "t = np.linspace(0,9,9*3600);\n",
    "interact(animate, time=fixed(t), gene = 'Cirbp',\n",
    "         s_33 = (500,10000,1),\n",
    "         s_38 = (500,10000,1),\n",
    "         km_33 = (0.05,1,0.05),\n",
    "         km_38 = (0.05,1,0.05),\n",
    "         kp = (0.05,24,0.1),  \n",
    "         rho_33 = (0.05,5,0.1),\n",
    "         rho_38 = (0.05,5,0.1));"
   ]
  }
 ],
 "metadata": {
  "kernelspec": {
   "display_name": "Python 3 (ipykernel)",
   "language": "python",
   "name": "python3"
  },
  "language_info": {
   "codemirror_mode": {
    "name": "ipython",
    "version": 3
   },
   "file_extension": ".py",
   "mimetype": "text/x-python",
   "name": "python",
   "nbconvert_exporter": "python",
   "pygments_lexer": "ipython3",
   "version": "3.9.12"
  }
 },
 "nbformat": 4,
 "nbformat_minor": 5
}
