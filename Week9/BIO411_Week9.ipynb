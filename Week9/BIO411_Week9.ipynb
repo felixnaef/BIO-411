{
 "cells": [
  {
   "cell_type": "markdown",
   "id": "cf5bc135-7355-4b67-8ad5-6ffb96f4306e",
   "metadata": {},
   "source": [
    "# Exercises Week 9: Temperature regulated gene expression\n",
    "\n",
    "**Course**: [Topics in life sciences engineering](https://moodle.epfl.ch/enrol/index.php?id=17061) (BIO-411)\n",
    "\n",
    "**Professors**:  _Gönczy Pierre_, _Naef Felix_, _McCabe Brian Donal_\n",
    "\n",
    "SSV, MA, 2022-2023\n"
   ]
  },
  {
   "cell_type": "markdown",
   "id": "0b79f4db",
   "metadata": {},
   "source": [
    "This week's exercises are inspired by the work of [Gotic et al., 2015](http://genesdev.cshlp.org/content/30/17/2005), in which RNA (pre-mRNA and mRNA) levels were measured in mouse NIH-3T3 fibroblasts after cells were switched from a warm to a colder temperature (38C to 33C), and vice-versa (33C to 38C). The experiments were conducted over multiple time points in an *approach to steady-state* design. \n",
    "The cold-inducible *Cirbp* gene was used as an example to examine the kinetics and mechanisms of post-transcritional control of gene expression. "
   ]
  },
  {
   "cell_type": "markdown",
   "id": "f854f74e",
   "metadata": {},
   "source": [
    "## Setup the Jupyter environment \n",
    "In order to run this notebook, we advise you to use the EPFL's JupyterLab centralized platform [noto.epfl.ch](http://noto.epfl.ch). Some of the required libraries are not available on the platform but you can install them copy-pasting the following commands in the **Jupyter Terminal** (open a new tab with the '+' icon and select \"Terminal\"):\n",
    "\n",
    "````\n",
    "my_venvs_create Week9_env\n",
    "my_venvs_activate Week9_env\n",
    "pip install gseapy\n",
    "pip install adjustText\n",
    "my_kernels_create Week9_env “Week9”\n",
    "my_venvs_deactivate\n",
    "````\n",
    "Refresh your browser's page and select the \"Week9\" kernel using the top right toggle button."
   ]
  },
  {
   "cell_type": "markdown",
   "id": "3430d1da-c36f-4886-8a9f-bf1a570c299c",
   "metadata": {},
   "source": [
    "## Exercise 0: Questions on the paper \"Temperature regulates splicing efficiency of the cold-inducible RNA-binding protein gene *Cirbp*\"\n",
    "While carefully reading the paper :\n",
    "\n",
    "0. Which is the physiological situation that is presented in the introduction?\n",
    "1. Describe in general known mechanisms behind cold- and heat-inducible genes. \n",
    "2. Which experiments allowed the authors to confirm the post-transcriptional regulation of *Cirbp* mRNA accumulation?\n",
    "3. For *Cirbp*, how did they distinguish between regulation at the degradation and splicing levels?\n",
    "4. Explain the choice to include the parameter $\\alpha$ (the percentage of splicing-prone *Cirbp* pre-mRNA) in the kinetic model. \n",
    "5. How did they obtain genome-wide transcription and mRNA accumulation levels to characterize cold and heat-induced genes?\n",
    "6. Summarize the comparison with the mouse liver experiments. \n",
    "\n",
    "Hint: make sure to identify the figure panels that support your answers."
   ]
  },
  {
   "cell_type": "markdown",
   "id": "6949409b",
   "metadata": {},
   "source": [
    "## Exercise 1: Simulation of a simplified production-decay ODE model of transcription"
   ]
  },
  {
   "cell_type": "markdown",
   "id": "9f03f2bf-5f08-4957-8535-3eb7162a0a47",
   "metadata": {
    "tags": []
   },
   "source": [
    "We first describe a system in which a (nuclear) pre-mRNA is transcribed and spliced to produce an mRNA. Both species undergo different degradation processes. We can write a 2D ODE:\n",
    "\n",
    "\\begin{eqnarray*}\n",
    "&&\\frac{dP}{dt} = s - (k_p + \\rho)P \\\\\n",
    "&&\\frac{dM}{dt} = \\rho P - k_m M \\\\\n",
    "\\end{eqnarray*}\n",
    "\n",
    "Here, $P$ and $M$ denote, respectively, the concentrations of pre-mRNA and mRNA.  $s$ is the transcription rate, which is here constant $s$, but it can also a time-dependent function (more to come in exercise session Week 11).\n",
    "$k_m$ and $k_p$ are, respectively, the degration rates of $M$ and $P$ that were set as constant. $\\rho$ is the splicing rate of pre-mRNA $P$ to mRNA $M$, and is also taken as a constant.\n",
    "\n",
    "When all parameters are constant, after a transient period, the concentrations reach steady-state levels.\n"
   ]
  },
  {
   "cell_type": "markdown",
   "id": "50db9753",
   "metadata": {},
   "source": [
    "### Question 1\n",
    "1. Derive the steady state concentrations. Interpret what happens to $M$ when $\\rho\\gg k_p$.\n",
    "2. Compute the steady-state ratio mRNA/pre-mRNA.   \n",
    "    a. Comment the results, in particular, which parameters matter and which don't.  \n",
    "    b. Discuss how this quantity might be used to compare mRNA half-life between different conditions.  \n",
    "3. Find in litterature realistic values of $\\rho$, $s$, and $k_m$ in typical mammalian cells (e.g. NIH-3T3 fibroblasts).\n",
    "4. Estimate the ratio of mRNA/pre-mRNA molecules in a typical mammalian cells?"
   ]
  },
  {
   "cell_type": "markdown",
   "id": "48cf6713",
   "metadata": {},
   "source": [
    "### Answer 1\n",
    "\n",
    "1. *Type your answers here*\n",
    "2. *Type your answers here*\n",
    "3. *Type your answers here*\n",
    "4. *Type your answers here*"
   ]
  },
  {
   "cell_type": "markdown",
   "id": "d8722045",
   "metadata": {},
   "source": [
    "### Question 2 \n",
    "Use the code below to simulate the production-decay ODE for a constant $s$. \n",
    "1. Vary the parameter space by using the widget below. Also explore different initial conditions.\n",
    "2. Add a feature (few code lines) that also shows on the plots the steady state that you computed above.\n",
    "3. Optional: Implement a third equation describing the protein level and add it to the simulation and plots."
   ]
  },
  {
   "cell_type": "markdown",
   "id": "38c6de31",
   "metadata": {},
   "source": [
    "### Answer 2\n",
    "1. *Type your answer here*  \n",
    "2. *Type your answer here*  \n",
    "3. *Type your answer here*  "
   ]
  },
  {
   "cell_type": "code",
   "execution_count": null,
   "id": "073fb31d",
   "metadata": {},
   "outputs": [],
   "source": [
    "## Import libraries\n",
    "import pandas as pd\n",
    "import numpy as np\n",
    "from sklearn.decomposition import PCA\n",
    "import plotly.express as px\n",
    "import matplotlib.pyplot as plt\n",
    "from sklearn.preprocessing import scale\n",
    "import gseapy as gp\n",
    "\n",
    "from scipy.integrate import odeint\n",
    "import matplotlib.pyplot as plt\n",
    "from ipywidgets import interact, fixed\n",
    "from adjustText import adjust_text\n"
   ]
  },
  {
   "cell_type": "code",
   "execution_count": null,
   "id": "deefe0e2-66c6-4ba1-a84f-772cd6357612",
   "metadata": {},
   "outputs": [],
   "source": [
    "## function definition\n",
    "def func(y, t, s, kp, km, rho):\n",
    "    P, M=y\n",
    "    return [s - (kp + rho)*P, rho*P - km*M] \n",
    "\n",
    "\n",
    "def simulation(func, par, x0 = None, t = None):\n",
    "    s=par['s']\n",
    "    kp=par['kp']\n",
    "    km=par['km']\n",
    "    rho=par['rho']\n",
    "\n",
    "    #P_ss =  #Add your steady-state solution here \n",
    "    #M_ss = #Add you steady-state solution here\n",
    "    \n",
    "    xx=odeint(func, x0, t, args=(s, kp, km, rho))\n",
    "    plt.figure(1)\n",
    "    plt.ylim([0,150])\n",
    "    #plt.axhline(y=P_ss, color='r', linestyle='--') # uncomment after adding your steady-state solution \n",
    "    #plt.axhline(y=M_ss, color='r', linestyle='--') # uncomment after adding your steady-state solution\n",
    "    plt.plot(t, xx[:,0],label = 'P(t)')\n",
    "    plt.plot(t, xx[:,1],label = 'M(t)')\n",
    "    plt.xlabel(\"time [min]\")\n",
    "    plt.ylabel(\"Concenration\")\n",
    "    plt.legend()\n",
    "    plt.show()\n",
    "    \n",
    "def animate(x0, time, s=5, kp= 0.05, km=0.05, rho=0.4):\n",
    "    #define the function domain\n",
    "    par={'s':s,'kp':kp, 'km':km, 'rho':rho}\n",
    "    simulation(func, par, x0, time)\n",
    "\n",
    "#initial conditions\n",
    "z0=[0,0] #[P, M]\n",
    "t = np.linspace(0,100,1001)\n",
    "interact(animate, x0=fixed(z0), time=fixed(t), \n",
    "         s = (1,10,0.01), #unit is concentration [P] per min\n",
    "         kp = (1/120,1/10,1/1000), #kp^1 in [10 min, 120 min] \n",
    "         km = (1/600,1/10,1/1000), #km^1 in [10 min, 600 min]\n",
    "         rho = (1/30,1,0.05)); #rho^1 in [1 min, 30 min]\n",
    "\n"
   ]
  },
  {
   "cell_type": "markdown",
   "id": "13f3fc7d",
   "metadata": {},
   "source": [
    "## Exercise 2: RNA-seq analysis and modelling of gene expression response to temperature up- and down-shifts"
   ]
  },
  {
   "cell_type": "markdown",
   "id": "d1c7c93e-1fdf-46fb-aba0-cadb6fdd2d00",
   "metadata": {},
   "source": [
    "In [Gotic et al., 2015](http://genesdev.cshlp.org/content/30/17/2005), cells were harvested at 0, 1, 3, 6 and 9 hours after a temperature switch from 33C to 38C and vice-versa, in duplicates. RNA-seq libraries were prepared and sequenced. The resulting RNA-seq data were processed and reads were assigned to pre-mRNA and mRNA species. "
   ]
  },
  {
   "cell_type": "code",
   "execution_count": null,
   "id": "d19b9c57-bbe4-41c1-8f98-5305a902f724",
   "metadata": {},
   "outputs": [],
   "source": [
    "### These functions will be used below ###\n",
    "### Optional: study them in details [will not be examined]\n",
    "\n",
    "## Subselect samples of the full data based on feature, condition, replicate and time\n",
    "def subselect(data, feature, replicate, time, condition):\n",
    "    f1 = data.columns.get_level_values('feature').isin(feature)\n",
    "    f2 = data.columns.get_level_values('condition').isin(condition)\n",
    "    f3 = data.columns.get_level_values('replicate').isin(replicate)\n",
    "    f4 = data.columns.get_level_values('time').isin(time)\n",
    "    dat_sub= data.iloc[:,f1 & f2 & f3 & f4]\n",
    "    \n",
    "    return dat_sub\n",
    "\n",
    "## Plot PCA for a data.frame and display color/shape according to the input parameter\n",
    "def run_PCA(data, nc=5, x_1=1, x_2=2, col='replicate', shape='time', scale_d=True, log=True):\n",
    "    pca = PCA(n_components=nc)\n",
    "    x_1=x_1-1\n",
    "    x_2=x_2-1\n",
    "    if(scale_d):\n",
    "        data_2 = scale(data)\n",
    "    else:\n",
    "        data_2 = data\n",
    "        \n",
    "    if(log):\n",
    "        data_2 =  np.log2(data_2 + 1)\n",
    "        \n",
    "    pca.fit(data_2.T)\n",
    "\n",
    "    labels = {\n",
    "    str(i): f\"PC {i+1} ({var:.1f}%)\"\n",
    "    for i, var in enumerate(pca.explained_variance_ratio_ * 100)\n",
    "    }\n",
    "\n",
    "    \n",
    "    ## compute PCA and plot\n",
    "    pca_transformed = pca.transform(data_2.T)\n",
    "    fig = px.scatter(pca_transformed, x=x_1, y=x_2, \n",
    "                     color=data.columns.get_level_values(col), \n",
    "                     symbol=dat_sub.columns.get_level_values(shape),\n",
    "                     width=600, height=600)\n",
    "   \n",
    "    fig.update_traces(marker={'size': 13})\n",
    "    fig.update_layout(plot_bgcolor = 'rgb(243,243,243)', xaxis_title=labels[str(x_1)],\n",
    "                      yaxis_title=labels[str(x_2)])\n",
    "    fig.show()\n",
    "    \n",
    "    df_pca= pd.DataFrame(pca.components_, columns=data.index, index = ['PC-1','PC-2','PC-3','PC-4','PC-5'])\n",
    "\n",
    "    return df_pca\n",
    "\n",
    "## Plot Gene profile across all conditions\n",
    "def plot_gene(data, gene , xx_33_38=None, xx_38_33=None, t_2=None):\n",
    "    #subselect\n",
    "    time= ['0', '1' ,'3' ,'6', '9']\n",
    "    replicate = ['2', '13', '11', '5']\n",
    "    dat_1= subselect(data, ['intron'], replicate, time, ['33to38'])\n",
    "    dat_2= subselect(data, ['exon'], replicate, time, ['33to38'])\n",
    "    dat_3= subselect(data, ['intron'], replicate, time, ['38to33'])\n",
    "    dat_4= subselect(data, ['exon'], replicate, time, ['38to33'])\n",
    "    #plot\n",
    "    t=np.array([0,0,1,1,3,3,6,6,9,9])\n",
    "    fig, axs = plt.subplots(2,2,figsize=(8,8), sharex=True)\n",
    "    \n",
    "    axs[0,0].plot(t, dat_1[dat_1.index.str.endswith(gene)].values.T, 'o', color = 'lightblue', label='intron 33to38')\n",
    "    axs[0,0].set_title(\"intron 33to38\")\n",
    "    \n",
    "    axs[1,0].plot(t, dat_2[dat_2.index.str.endswith(gene)].values.T, 'o', color = 'lightblue', label='exon 33to38')\n",
    "    axs[1,0].set_title(\"exons 33to38\")\n",
    "    \n",
    "    axs[0,1].plot(t, dat_3[dat_3.index.str.endswith(gene)].values.T, 'o', color = 'lightblue', label='intron 38to33')\n",
    "    axs[0,1].set_title(\"intron 38to33\")\n",
    "\n",
    "    axs[1,1].plot(t, dat_4[dat_4.index.str.endswith(gene)].values.T, 'o', color = 'lightblue', label='exon 38to33')\n",
    "    axs[1,1].set_title(\"exon 38to33\")\n",
    "\n",
    "    if xx_33_38 is not None:\n",
    "        axs[0,0].plot(t_2, xx_33_38[:,0],label = 'P(t)')\n",
    "        axs[1,0].plot(t_2, xx_33_38[:,1])\n",
    "        axs[0,1].plot(t_2, xx_38_33[:,0])\n",
    "        axs[1,1].plot(t_2, xx_38_33[:,1])\n",
    "    \n",
    "        \n",
    "    for ax in axs.flat:\n",
    "        ax.set(xlabel='Time [h]', ylabel='RPKM')\n",
    "    fig.suptitle(gene, fontsize=16)\n",
    "    plt.show()"
   ]
  },
  {
   "cell_type": "markdown",
   "id": "97813f7f",
   "metadata": {},
   "source": [
    "###  Question 0\n",
    "1. Pratically, how would identify whether reads are coming from the pre-mRNA or mRNA? What are the possible caveats?"
   ]
  },
  {
   "cell_type": "markdown",
   "id": "61ed319e",
   "metadata": {},
   "source": [
    "### Answer 0\n",
    "1. *Type your answer here*"
   ]
  },
  {
   "cell_type": "markdown",
   "id": "75b39029-fddc-4e12-900e-332a6ca4851c",
   "metadata": {},
   "source": [
    "###  Question 1\n",
    "Using the provided code, explore the RNA-Seq data: \n",
    "1. Perform principal component analysis (PCA) selecting different temperature conditions, time points, replicates and features (intron vs. exon). For each case described below, explore the principal components (PCs) and comment. *Hint: Modify only the code marked as 'PCA cell' and 'enrichR' below*.\n",
    "  \n",
    "    a. Select all the samples and describe the main sources of variance in the data. Is there an outlier sample? Are the replicates clustered as you expect?  \n",
    "    b. Select only exonic counts and describe which PC correlates with time?  \n",
    "    c. Select only exonic counts and one condition (38to33 or 33to38). What can you say about the transcriptome response in function of time? Do you find a difference between the two conditions?  \n",
    "\n",
    "\n",
    "2. Using the relevant sample combinations and principal components, extract the gene PCA loadings (positive or/and negative) and perform gene enrichment analysis using *enrichR* (GEA, code provided below) to identify biological functions or regulatory mechanisms behind heat- or cold-induced gene responses. For the GEA, select different databases from *enrichR*. For example 'GO_Biological_Process_2021', 'GO_Molecular_Function_2021', 'WikiPathways_2019_Mouse' for gene functions, or 'ChEA 2022' for transcription factor enrichment analysis.  \n",
    "  \n",
    "    a. Using these tools, find gene functions regulated by the temperature.  \n",
    "    b. Do you find differences between cold-induced versus heat-induced genes in terms of biological functions, or involved transcription factors?  \n",
    "    c. What are the main sources of variance between the two replicates? How do you interpret this?  \n",
    "    d. Optional: Using variants of this approach, how would you design the analysis to specifically identify post-transcriptional regulation?  "
   ]
  },
  {
   "cell_type": "markdown",
   "id": "2568b0e1",
   "metadata": {},
   "source": [
    "### Answer 1\n",
    "\n",
    "1. *Type your answers here*  \n",
    "a.   \n",
    "b.  \n",
    "c.  \n",
    "d.  \n",
    "  \n",
    "  \n",
    "2. *Type your answers here*  \n",
    "a.   \n",
    "b.  \n",
    "c.  \n",
    "d. "
   ]
  },
  {
   "cell_type": "markdown",
   "id": "86df6bf4",
   "metadata": {},
   "source": [
    "**The cells below contain the code for Question 1.**"
   ]
  },
  {
   "cell_type": "code",
   "execution_count": null,
   "id": "577eb2a7-9ada-49df-b4c4-9fb9162ee277",
   "metadata": {},
   "outputs": [],
   "source": [
    "#Load the RNA-seq data (normalized counts) downloaded from the GEO database\n",
    "\n",
    "dat_33_38 = pd.read_csv(\"./GoticData/GSE85553_33-38_exon_intron_RPKM.txt\",sep='\\t')\n",
    "dat_33_38=dat_33_38.add_prefix(\"33to38.\")\n",
    "\n",
    "dat_38_33 = pd.read_csv(\"./GoticData/GSE85553_38-33_exon_intron_RPKM.txt\",sep='\\t')\n",
    "dat_38_33=dat_38_33.add_prefix(\"38to33.\")\n",
    "\n",
    "dat_all = pd.concat([dat_33_38, dat_38_33.iloc[:, :20]],axis=1)\n",
    "dat_all.columns=dat_all.columns.str.replace('\\.t','.', regex=True)\n",
    "dat_all.replace([np.inf, -np.inf], 0, inplace=True)\n",
    "\n",
    "dat_all.columns=dat_all.columns.str.split('.', expand = True)\n",
    "dat_all.columns.names = ['condition','time','replicate','feature']\n",
    "print(dat_all.shape)\n",
    "dat_all.head()"
   ]
  },
  {
   "cell_type": "code",
   "execution_count": null,
   "id": "87113bef-dd6d-4add-a465-7ac782d4373e",
   "metadata": {},
   "outputs": [],
   "source": [
    "# Remove lowly expressed genes.\n",
    "time= ['0', '1' ,'3' ,'6', '9']\n",
    "replicate = ['2', '13', '11', '5']\n",
    "conditions = ['33to38','38to33']\n",
    "\n",
    "dat_intron= subselect(dat_all, ['intron'], replicate, time, conditions)\n",
    "dat_exon= subselect(dat_all, ['exon'], replicate, time, conditions)\n",
    "dat_all = dat_all.loc[(dat_intron.mean(axis=1) > 1 ) & (dat_exon.mean(axis=1) > 10), :]\n",
    "print(dat_all.shape)\n"
   ]
  },
  {
   "cell_type": "markdown",
   "id": "21dac8cb",
   "metadata": {},
   "source": [
    "**PCA cell**"
   ]
  },
  {
   "cell_type": "code",
   "execution_count": null,
   "id": "03cf66ae-b8ad-4b7c-8949-529110ac0a61",
   "metadata": {},
   "outputs": [],
   "source": [
    "#Perform PCA selecting different temperature conditions, timepoints, replicate and features (intron vs. exon). \n",
    "\n",
    "#Change those parameters to selection different samples for the PCA\n",
    "condition = ['38to33','33to38'] \n",
    "time= ['0', '1' ,'3' ,'6', '9']\n",
    "replicate = ['2', '13', '11', '5'] # replicates 13 and 2 are from the 33to38 experiment, 5 and 11 from the 38to33.\n",
    "feature = ['intron','exon']\n",
    "\n",
    "#Subselect the samples \n",
    "dat_sub = subselect(dat_all, feature, replicate, time, condition)\n",
    "\n",
    "#Perform the PCA\n",
    "pca = run_PCA(dat_sub, x_1=1, x_2=2, col='time', shape='condition', scale_d=True, log=True)\n",
    "run_PCA(dat_sub, x_1=1, x_2=2, col='replicate', shape='feature', scale_d=True, log=True)\n",
    "\n",
    "run_PCA(dat_sub, x_1=2, x_2=3, col='time', shape='condition', scale_d=True, log=True)\n",
    "run_PCA(dat_sub, x_1=2, x_2=3, col='replicate', shape='feature', scale_d=True, log=True)\n",
    "\n",
    "run_PCA(dat_sub, x_1=3, x_2=4, col='time', shape='condition', scale_d=True, log=True)\n",
    "run_PCA(dat_sub, x_1=3, x_2=4, col='replicate', shape='feature', scale_d=True, log=True)\n",
    "\n"
   ]
  },
  {
   "cell_type": "markdown",
   "id": "c67b43d1",
   "metadata": {},
   "source": [
    "**enrichR cells**"
   ]
  },
  {
   "cell_type": "code",
   "execution_count": null,
   "id": "dd2cdc36-85c5-498f-8df1-c05717da3615",
   "metadata": {},
   "outputs": [],
   "source": [
    "##  Using the genes loadings on the different PCs, perform gene enrichment analysis with the provided code (explore different databases from *enrichR*)\n",
    "\n",
    "#List the available databases for gene enrichment analysis\n",
    "\n",
    "mouse = gp.get_library_name(organism='Mouse')\n",
    "print(mouse[1:20])"
   ]
  },
  {
   "cell_type": "code",
   "execution_count": null,
   "id": "585717da-1f90-4669-bd5d-d631efc7e42f",
   "metadata": {},
   "outputs": [],
   "source": [
    "#Perform gene set enrichment analysis using the top 100 genes on PC-1 with the 'GO_Biological_Process_2021' database\n",
    "#You can gene the enrichR database and the number of selected genes\n",
    "gene_sets = 'GO_Biological_Process_2021'\n",
    "nb_genes = 100\n",
    "PC='PC-1'\n",
    "\n",
    "top = pca.sort_values(by=PC,axis=1).columns[:nb_genes]\n",
    "bottom = pca.sort_values(by=PC,axis=1).columns[-nb_genes:]\n",
    "top_bot = top.union(bottom) # you can use only top or bottom here as well\n",
    "gene_list = top_bot.str.split(\"|\").str[1].to_series().str.upper()\n",
    "gene_list = gene_list.squeeze().str.strip().to_list()\n",
    "enr = gp.enrichr(gene_list=gene_list,\n",
    "                 gene_sets=gene_sets,\n",
    "                 organism='mouse', \n",
    "                 outdir=None, \n",
    "                )\n",
    "enr.results.head(10)"
   ]
  },
  {
   "cell_type": "markdown",
   "id": "a010f23d-8b24-4cc8-b868-cde1f27661d5",
   "metadata": {},
   "source": [
    "### Question 3\n",
    "In this exercise, we will identify genes regulated by temperature in a more direct approach than the PCA.\n",
    "\n",
    "1. Using the *plot_DE* (i.e DE for differential expression) function, identify genes differentially expressed between 33C and 38C with similar or opposite behavior than *Cirbp* (cold-inducible vs. heat-inducible genes).\n",
    "2. Perform gene enrichment analysis for the identified genes.\n",
    "3. Using the *plot_DE* function, identified genes regulated **post-transcriptionally** by the temperature."
   ]
  },
  {
   "cell_type": "markdown",
   "id": "edf14d24",
   "metadata": {},
   "source": [
    "### Answer 3\n",
    "\n",
    "1. *Type you answer here*    \n",
    "2. *Type you answer here*   \n",
    "3. *Type you answer here*   \n"
   ]
  },
  {
   "cell_type": "code",
   "execution_count": null,
   "id": "2202ae76-ace0-4b40-844a-f86f4832547c",
   "metadata": {},
   "outputs": [],
   "source": [
    "# Function to plot genes differentially expressed between x_2/x_1 and y_2/y2\n",
    "\n",
    "def plot_DE(dat_all, c_x1, c_x2, c_y1, c_y2, t_x1, t_x2, t_y1, t_y2, f_x1, f_x2, f_y1, f_y2, FC=2, xlab=\"\", ylab=\"\"):\n",
    "    \n",
    "    replicate = ['2', '13', '11', '5']\n",
    "\n",
    "    dat_x1=subselect(dat_all, f_x1, replicate, t_x1, c_x1).mean(axis=1)\n",
    "    dat_x2=subselect(dat_all, f_x2, replicate, t_x2, c_x2).mean(axis=1)\n",
    "\n",
    "    dat_y1=subselect(dat_all, f_y1, replicate, t_y1, c_y1).mean(axis=1)\n",
    "    dat_y2=subselect(dat_all, f_y2, replicate, t_y2, c_y2).mean(axis=1)\n",
    "\n",
    "    x=np.log2(1 + dat_x2)- np.log2(1 + dat_x1)\n",
    "    y=np.log2(1 + dat_y2) - np.log2(1 + dat_y1)\n",
    "\n",
    "    pos =((x > FC) & (y > FC)) | ((x < -FC) & (y < -FC))\n",
    "\n",
    "    x_2 = x[pos]\n",
    "    y_2 = y[pos]\n",
    "    fig, ax = plt.subplots(figsize=(10,10))\n",
    "\n",
    "    ax.plot(x,y, 'o', color = 'lightblue', markersize=2)\n",
    "    ax.axhline(y=0, color='b')\n",
    "    ax.axvline(x=0, color='b')\n",
    "    ax.set_xlim(-8,8)\n",
    "    ax.set_ylim(-8,8)\n",
    "    ax.set_xlabel(xlab)\n",
    "    ax.set_ylabel(ylab)\n",
    "    texts = [ax.text(x_2[k], y_2[k], v.split(\"|\")[1]) for k, v in enumerate(dat_all.index[pos])]\n",
    "    adjust_text(texts)\n",
    "    \n",
    "    return(pos)\n"
   ]
  },
  {
   "cell_type": "markdown",
   "id": "86c86f3c",
   "metadata": {},
   "source": [
    "**Explore with this function**"
   ]
  },
  {
   "cell_type": "code",
   "execution_count": null,
   "id": "f3ba7095-6e1d-4917-9145-191042b49814",
   "metadata": {},
   "outputs": [],
   "source": [
    "#Use the plot_DE function with the different conditions and features to identify genes regulated by the temperature\n",
    "DE_genes = plot_DE(c_x1, c_x2, c_y1, c_y2, # fill the parameters ['33to38'], ['33to39']\n",
    "                   t_x1, t_x2, t_y1, t_y2, # fill the parameters ['0'], ['1'], ['3'], ['6'], ['9']\n",
    "                   f_x1, f_x2, f_y1, f_y2, # fill the parameters ['intron'], ['exons']\n",
    "                   2, '38C - 33C (Log2)', '33C - 38C (Log2)') "
   ]
  },
  {
   "cell_type": "markdown",
   "id": "db30ce32",
   "metadata": {},
   "source": [
    "**enrichR analysis**"
   ]
  },
  {
   "cell_type": "code",
   "execution_count": null,
   "id": "602d2862-eeb3-4e72-8c93-a8dc394e86b1",
   "metadata": {},
   "outputs": [],
   "source": [
    "#Perform gene enrichment analysis on the DE genes\n",
    "gene_sets = 'GO_Biological_Process_2021'\n",
    "gene_list = dat_all.index[DE_genes].str.split(\"|\").str[1].to_series().str.upper()\n",
    "gene_list = gene_list.squeeze().str.strip().to_list()\n",
    "enr = gp.enrichr(gene_list=gene_list,\n",
    "                 gene_sets=gene_sets,\n",
    "                 organism='mouse', \n",
    "                 outdir=None, \n",
    "                )\n",
    "enr.results.head(10)"
   ]
  },
  {
   "cell_type": "markdown",
   "id": "5ce3e82d-26e9-40eb-a75d-e2b428d26d77",
   "metadata": {
    "tags": []
   },
   "source": [
    "### Question 4\n",
    "\n",
    "1. Using the *plot_gene* function, show the temporal dynamic of genes identified as having temperature-dependent regulation of gene expression in *Question 3*.\n",
    "2. What can you say in terms of transcriptional versus post-transcriptional regulation?\n",
    "3. Compare with the profile of *Cirbp*."
   ]
  },
  {
   "cell_type": "markdown",
   "id": "9f5a7e24",
   "metadata": {},
   "source": [
    "### Answer 4\n",
    "\n",
    "1. *Type you answer here*    \n",
    "2. *Type you answer here*   \n",
    "3. *Type you answer here*  "
   ]
  },
  {
   "cell_type": "code",
   "execution_count": null,
   "id": "a5d88d5b-07e0-44d3-a02f-46efb569cc4e",
   "metadata": {},
   "outputs": [],
   "source": [
    "plot_gene(dat_all,'Cirbp') # Write gene name with only the first letter as uppercase"
   ]
  },
  {
   "cell_type": "markdown",
   "id": "c13f9579-b4c4-4860-ab16-cbafc6bf66e8",
   "metadata": {},
   "source": [
    "### Question 5\n",
    "\n",
    "1. Using the code below, simulate the ODE using different parameters for the two temperatures. \n",
    "2. Find the parameters ($\\rho_{33}$, $\\rho_{38}$, $k_{m,33}$, $k_{m,38}$) that fit *Cirbp* gene expression profile. Comment on your result.\n",
    "3. *Optional*: replace *Cirbp* with other genes identified above. You might want to change the parameter and limits of the y scale.\n",
    "\n",
    "*Note: To simplify, we here used a model without the $\\alpha$, which is still good enough to fit most gene profiles. The caveat is that with this simplified model, the obtained parameters are not fully realistic, which is the argument the authors used to favor the model with the $\\alpha$.*"
   ]
  },
  {
   "cell_type": "markdown",
   "id": "b8cb1115",
   "metadata": {},
   "source": [
    "### Answer 5\n",
    "\n",
    "1. *Type you answer here*    \n",
    "2. *Type you answer here*  \n",
    "3. *Type you answer here* \n"
   ]
  },
  {
   "cell_type": "code",
   "execution_count": null,
   "id": "903a81e7-f832-4a39-91ed-80305ce5e775",
   "metadata": {},
   "outputs": [],
   "source": [
    "###### Simulate 2 conditions ########\n",
    "\n",
    "def compute_ss_param(s, kp, km, rho):\n",
    "    P_ss = s / (kp + rho)\n",
    "    M_ss = (rho / km) * (s / kp + rho)\n",
    "    return [P_ss, M_ss]\n",
    "   \n",
    "## function definition\n",
    "def func(y, t, s, kp, km, rho):\n",
    "    P, M=y\n",
    "    return [s - (kp + rho)*P, rho*P - km*M] \n",
    "\n",
    "def simulation(func, par, z0 = None, t = None):\n",
    "    s=par['s']\n",
    "    kp=par['kp']\n",
    "    km=par['km']\n",
    "    rho=par['rho']\n",
    "\n",
    "    xx=odeint(func, z0, t, args=(s, kp, km, rho))\n",
    "    \n",
    "    return(xx)\n",
    "\n",
    "def animate(time, s_33=5560, s_38=5560, km_33=0.1, km_38=0.1, kp= 20.794, rho_33=0.05, rho_38=0.05, gene='Cirbp'):\n",
    "    \n",
    "    #33 to 38\n",
    "    x0 = compute_ss_param(s_33, kp, km_33, rho_33)\n",
    "    par={'s':s_38,'km':km_38, 'kp':kp, 'rho':rho_38}\n",
    "    xx_33_38 = simulation(func, par, x0, time)\n",
    "    \n",
    "    #38 to 33\n",
    "    x0 = compute_ss_param(s_38, kp, km_38, rho_38)\n",
    "    print(x0)\n",
    "\n",
    "    par={'s':s_33,'km':km_33, 'kp':kp, 'rho':rho_33}\n",
    "    xx_38_33 = simulation(func, par, x0, time)\n",
    "    \n",
    "   \n",
    "    plot_gene(dat_all, gene, xx_33_38, xx_38_33, time)    "
   ]
  },
  {
   "cell_type": "code",
   "execution_count": null,
   "id": "ed619ea6-d668-4101-a549-d5d8e3f9deb0",
   "metadata": {},
   "outputs": [],
   "source": [
    "t = np.linspace(0,9,9*3600);\n",
    "interact(animate, time=fixed(t), gene = 'Cirbp',\n",
    "         s_33 = (500,10000,1), # [RPKM/hr] at 33C\n",
    "         s_38 = (500,10000,1), # [RPKM/hr] at 38C\n",
    "         km_33 = (0.05,2,0.05), # [hr^-1], you have to find the correct km_33 \n",
    "         km_38 = (0.05,2,0.05), # [hr^-1], you have to find the correct km_38 \n",
    "         kp = (0.05,24,0.1),  # [hr^-1], around 2min for Cirbp\n",
    "         rho_33 = (0.05,5,0.1), # [hr^-1],  you have to find the correct rho_33 \n",
    "         rho_38 = (0.05,5,0.1)); # [hr^-1], you have to find the correct rho_38"
   ]
  }
 ],
 "metadata": {
  "kernelspec": {
   "display_name": "Python 3 (ipykernel)",
   "language": "python",
   "name": "python3"
  },
  "language_info": {
   "codemirror_mode": {
    "name": "ipython",
    "version": 3
   },
   "file_extension": ".py",
   "mimetype": "text/x-python",
   "name": "python",
   "nbconvert_exporter": "python",
   "pygments_lexer": "ipython3",
   "version": "3.9.12"
  }
 },
 "nbformat": 4,
 "nbformat_minor": 5
}
