{
 "cells": [
  {
   "cell_type": "markdown",
   "id": "98442e35",
   "metadata": {},
   "source": [
    "# Exercises Week 11-12: Graded exercise session (part A)\n",
    "\n",
    "**Course**: [Topics in life sciences engineering](https://moodle.epfl.ch/enrol/index.php?id=17061) (BIO-411)\n",
    "\n",
    "**Professors**:  _Gönczy Pierre_, _Naef Felix_, _McCabe Brian Donal_\n",
    "\n",
    "SSV, MA, 2022-2023\n",
    "$$\\require{mhchem}$$  \n",
    "$$\\require{dcolumn}$$\n",
    "$$\\require{longtable}$$\n",
    "$$\\require{array}$$\n",
    "$$\\require{multirow}$$\n"
   ]
  },
  {
   "cell_type": "code",
   "execution_count": null,
   "id": "1aa82971",
   "metadata": {},
   "outputs": [],
   "source": [
    "#import librairies\n",
    "import numpy as np\n",
    "import matplotlib.pyplot as plt\n",
    "from scipy.stats import poisson, nbinom\n",
    "from scipy.integrate import odeint\n",
    "from scipy.special import gammaln, digamma, polygamma"
   ]
  },
  {
   "cell_type": "markdown",
   "id": "e19e8dbe",
   "metadata": {},
   "source": [
    "**Provide answers in the form of code, figures (if relevant) and short descriptions (in markdown cells) in those notebooks. Submit your notebook to Moodle, please make sure to execute every cell.**"
   ]
  },
  {
   "cell_type": "markdown",
   "id": "5d332f38",
   "metadata": {},
   "source": [
    "## Exercise 1: Transcriptional bursting"
   ]
  },
  {
   "cell_type": "markdown",
   "id": "b411c581",
   "metadata": {},
   "source": [
    "Let's consider the transcriptional process in which an mRNA $x$ is produced at a rate $s$ and degraded at a rate $k$. In addition to the simple birth-death process that we simulated in week 9, we will now consider a two-state model for the promoter (Random Telegraph process). This means that the promoter can switch from an active ($g=1$) to inactive state ($g=0$) and vice-versa with respective rates $k_{off}$ and $k_{on}$.\n",
    "\n",
    "\n",
    "The Telegraph process has the following elementary reactions:  \n",
    "\\begin{eqnarray*}\n",
    "&&(1, n) \\longrightarrow (1, n+1) \\textrm{ with rate } s \\\\\n",
    "&&(g, n) \\longrightarrow (g, n-1) \\textrm{ with rate } kn \\\\\n",
    "&&(1, n) \\longrightarrow (0, n) \\textrm{ with rate } k_{off} \\\\\n",
    "&&(0, n) \\longrightarrow (1, n) \\textrm{ with rate } k_{on}\n",
    "\\end{eqnarray*}\n",
    "We describe the states $(g, n)$ with $g\\in \\{1, 0\\}$, $n \\in \\mathbb{N}$."
   ]
  },
  {
   "cell_type": "markdown",
   "id": "ab460e73",
   "metadata": {},
   "source": [
    "#### Question 1\n",
    "1. Adapt the Gillespie code from week 10 exercises to simulate the Telegraph model. Use the template below that also contains initial values.\n",
    "2. Discuss whether the proposed initial rates are relevant biologically. \n",
    "3. Vary the different rates, plot representative traces and comment. Try to find cases that show qualitatively different regimes of the model.\n"
   ]
  },
  {
   "cell_type": "markdown",
   "id": "d874c152",
   "metadata": {},
   "source": [
    "#### Gillespie template"
   ]
  },
  {
   "cell_type": "code",
   "execution_count": null,
   "id": "4099da0c",
   "metadata": {},
   "outputs": [],
   "source": [
    "#initial conditions for the state (g,n) at time t\n",
    "g = 1\n",
    "n = 20 \n",
    "t = 0\n",
    "\n",
    "tp = 0\n",
    "DT = 0.01\n",
    "t_end = 1000 #min\n",
    "\n",
    "nprint = []\n",
    "gprint = []\n",
    "tprint = []\n",
    "\n",
    "s = 20 # number of initiations per minute\n",
    "k = 0.02 # 1/k = 50 min\n",
    "k_off = 1/15 #t_on = 1/k_off = 15 min\n",
    "k_on  = 1/120 #t_off = 1/k_on = 120 min\n",
    "\n",
    "while t < t_end:\n",
    "    \n",
    "    if g == 1:\n",
    "        #...\n",
    "    else:\n",
    "        #...\n",
    "        \n",
    "    #...\n",
    "    #...\n",
    "    #...\n",
    "    #...\n",
    "    #...\n",
    "    #...\n",
    "    #...\n",
    "    \n",
    "    #this is to have equally spaced output times\n",
    "    while tp<t and t<=t_end:\n",
    "        nprint.append(n)\n",
    "        gprint.append(g)\n",
    "        tprint.append(tp)\n",
    "        tp += DT\n"
   ]
  },
  {
   "cell_type": "markdown",
   "id": "ced8c7ac",
   "metadata": {},
   "source": [
    "####  Poisson and Negative binomal distributions"
   ]
  },
  {
   "cell_type": "code",
   "execution_count": 2,
   "id": "d7758e07",
   "metadata": {},
   "outputs": [],
   "source": [
    "#  poisson distribution\n",
    "def Poisson(lam, counts):\n",
    "    logp = counts * np.log(lam) - lam - gammaln(counts + 1)\n",
    "    return np.exp(logp)\n",
    "\n",
    "# negative binomial distribution\n",
    "def convert_params(mu, theta):\n",
    "    r = theta\n",
    "    var = mu + 1 / r * mu ** 2\n",
    "    p = (var - mu) / var\n",
    "    return r, 1 - p\n",
    "\n",
    "def pmf(counts, mu, theta):\n",
    "    return nbinom.pmf(counts, *convert_params(mu, theta))"
   ]
  },
  {
   "cell_type": "markdown",
   "id": "35a004cb",
   "metadata": {},
   "source": [
    "#### Question 2\n",
    "1. Study the distribution of mRNA numbers, what type of distribution do you expect/observe?\n",
    "2. Identify a regime where you find the Poisson distribution. Explain.\n",
    "3. Identify a regime where you find another distribution, for example the Negative Binomial.\n",
    "4. In both cases, discuss how the model parameters relate to the parameters of the distributions.\n",
    "5. Find a situation where the distribution is bimodal. Explain."
   ]
  }
 ],
 "metadata": {
  "kernelspec": {
   "display_name": "Python 3 (ipykernel)",
   "language": "python",
   "name": "python3"
  },
  "language_info": {
   "codemirror_mode": {
    "name": "ipython",
    "version": 3
   },
   "file_extension": ".py",
   "mimetype": "text/x-python",
   "name": "python",
   "nbconvert_exporter": "python",
   "pygments_lexer": "ipython3",
   "version": "3.9.12"
  }
 },
 "nbformat": 4,
 "nbformat_minor": 5
}
